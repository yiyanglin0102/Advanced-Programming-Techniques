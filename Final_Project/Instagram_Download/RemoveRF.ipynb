{
 "cells": [
  {
   "cell_type": "code",
   "execution_count": 1,
   "id": "df579f8d",
   "metadata": {},
   "outputs": [],
   "source": [
    "import os, sys, re, subprocess, requests, numpy as np\n",
    "from urllib.parse import urljoin\n",
    "from bs4 import BeautifulSoup\n",
    "import glob\n",
    "keyword = '/#cat'\n"
   ]
  },
  {
   "cell_type": "code",
   "execution_count": 2,
   "id": "e8ee3762",
   "metadata": {},
   "outputs": [
    {
     "data": {
      "text/plain": [
       "'/Users/yiyanglin/Desktop/CS622/Final_Project/Instagram_Download'"
      ]
     },
     "execution_count": 2,
     "metadata": {},
     "output_type": "execute_result"
    }
   ],
   "source": [
    "os.getcwd()"
   ]
  },
  {
   "cell_type": "code",
   "execution_count": null,
   "id": "a18c8ab0",
   "metadata": {},
   "outputs": [],
   "source": []
  },
  {
   "cell_type": "code",
   "execution_count": 3,
   "id": "77f94ed5",
   "metadata": {},
   "outputs": [
    {
     "data": {
      "text/plain": [
       "'/Users/yiyanglin/Desktop/CS622/Final_Project/Instagram_Download/#cat'"
      ]
     },
     "execution_count": 3,
     "metadata": {},
     "output_type": "execute_result"
    }
   ],
   "source": [
    "path = os.getcwd() + keyword\n",
    "path"
   ]
  },
  {
   "cell_type": "code",
   "execution_count": 4,
   "id": "ded68fc1",
   "metadata": {},
   "outputs": [],
   "source": [
    "if not os.path.exists(path):\n",
    "    os.mkdir(os.getcwd() + keyword)"
   ]
  },
  {
   "cell_type": "code",
   "execution_count": 5,
   "id": "4adb64b3",
   "metadata": {},
   "outputs": [],
   "source": [
    "os.chdir(path)"
   ]
  },
  {
   "cell_type": "code",
   "execution_count": 6,
   "id": "c45c19af",
   "metadata": {},
   "outputs": [],
   "source": [
    "while True:\n",
    "    counter = len(glob.glob1(path,\"*.mp4\"))\n",
    "    if counter == 10:\n",
    "        break\n",
    "    subprocess.run('rm -rf *.jpg ; rm -rf *.txt ; rm -rf *.xz', shell=True)\n",
    "#     if len(os.listdir('.')) >= 10:\n",
    "#         print(len(os.listdir('./')))\n",
    "#         break"
   ]
  },
  {
   "cell_type": "code",
   "execution_count": null,
   "id": "c946f8b1",
   "metadata": {},
   "outputs": [],
   "source": []
  }
 ],
 "metadata": {
  "kernelspec": {
   "display_name": "Python 3 (ipykernel)",
   "language": "python",
   "name": "python3"
  },
  "language_info": {
   "codemirror_mode": {
    "name": "ipython",
    "version": 3
   },
   "file_extension": ".py",
   "mimetype": "text/x-python",
   "name": "python",
   "nbconvert_exporter": "python",
   "pygments_lexer": "ipython3",
   "version": "3.10.8"
  }
 },
 "nbformat": 4,
 "nbformat_minor": 5
}
