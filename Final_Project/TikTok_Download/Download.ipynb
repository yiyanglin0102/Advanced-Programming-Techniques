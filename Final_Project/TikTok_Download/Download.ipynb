{
 "cells": [
  {
   "cell_type": "code",
   "execution_count": 3,
   "id": "8e37c313",
   "metadata": {},
   "outputs": [],
   "source": [
    "#!/usr/bin/env python\n",
    "# coding: utf-8\n",
    "\n",
    "import os, sys, re, subprocess, requests, numpy as np\n",
    "from urllib.parse import urljoin\n",
    "from bs4 import BeautifulSoup\n",
    "\n",
    "keyword = 'car'\n",
    "\n",
    "def saveFullHtmlPage(url, pagepath='page', session=requests.Session(), html=None):\n",
    "    \"\"\"Save web page html and supported contents        \n",
    "        * pagepath : path-to-page   \n",
    "        It will create a file  `'path-to-page'.html` and a folder `'path-to-page'_files`\n",
    "    \"\"\"\n",
    "    def savenRename(soup, pagefolder, session, url, tag, inner):\n",
    "        if not os.path.exists(pagefolder): # create only once\n",
    "            os.mkdir(pagefolder)\n",
    "        for res in soup.findAll(tag):   # images, css, etc..\n",
    "            if res.has_attr(inner): # check inner tag (file object) MUST exists  \n",
    "                try:\n",
    "                    filename, ext = os.path.splitext(os.path.basename(res[inner])) # get name and extension\n",
    "                    filename = re.sub('\\W+', '', filename) + ext # clean special chars from name\n",
    "                    fileurl = urljoin(url, res.get(inner))\n",
    "                    filepath = os.path.join(pagefolder, filename)\n",
    "                    # rename html ref so can move html and folder of files anywhere\n",
    "                    res[inner] = os.path.join(os.path.basename(pagefolder), filename)\n",
    "                    if not os.path.isfile(filepath): # was not downloaded\n",
    "                        with open(filepath, 'wb') as file:\n",
    "                            filebin = session.get(fileurl)\n",
    "                            file.write(filebin.content)\n",
    "                except Exception as exc:\n",
    "                    print(exc, file=sys.stderr)\n",
    "    if not html:\n",
    "        html = session.get(url).text\n",
    "    soup = BeautifulSoup(html, \"html.parser\")\n",
    "    path, _ = os.path.splitext(pagepath)\n",
    "    pagefolder = path+'_files' # page contents folder\n",
    "    tags_inner = {'img': 'src', 'link': 'href', 'script': 'src'} # tag&inner tags to grab\n",
    "    for tag, inner in tags_inner.items(): # saves resource files and rename refs\n",
    "        savenRename(soup, pagefolder, session, url, tag, inner)\n",
    "    with open(path+'.html', 'wb') as file: # saves modified html doc\n",
    "        file.write(soup.prettify('utf-8'))\n",
    "\n",
    "saveFullHtmlPage('https://www.tiktok.com/search/video?q=' + keyword, keyword)\n",
    "\n",
    "with open(keyword + \".html\") as fp:\n",
    "        soup = BeautifulSoup(fp, 'html.parser')"
   ]
  },
  {
   "cell_type": "code",
   "execution_count": 4,
   "id": "323f6328",
   "metadata": {},
   "outputs": [
    {
     "ename": "ImportError",
     "evalue": "cannot import name 'VideoInfo' from 'tiktok_downloader' (/usr/local/lib/python3.10/site-packages/tiktok_downloader/__init__.py)",
     "output_type": "error",
     "traceback": [
      "\u001b[0;31m---------------------------------------------------------------------------\u001b[0m",
      "\u001b[0;31mImportError\u001b[0m                               Traceback (most recent call last)",
      "Cell \u001b[0;32mIn [4], line 1\u001b[0m\n\u001b[0;32m----> 1\u001b[0m \u001b[38;5;28;01mfrom\u001b[39;00m \u001b[38;5;21;01mtiktok_downloader\u001b[39;00m \u001b[38;5;28;01mimport\u001b[39;00m VideoInfo\n",
      "\u001b[0;31mImportError\u001b[0m: cannot import name 'VideoInfo' from 'tiktok_downloader' (/usr/local/lib/python3.10/site-packages/tiktok_downloader/__init__.py)"
     ]
    }
   ],
   "source": [
    "from tiktok_downloader import VideoInfo\n"
   ]
  },
  {
   "cell_type": "code",
   "execution_count": null,
   "id": "9bc49af3",
   "metadata": {},
   "outputs": [],
   "source": []
  },
  {
   "cell_type": "code",
   "execution_count": null,
   "id": "4a6ef32d",
   "metadata": {},
   "outputs": [],
   "source": []
  }
 ],
 "metadata": {
  "kernelspec": {
   "display_name": "Python 3 (ipykernel)",
   "language": "python",
   "name": "python3"
  },
  "language_info": {
   "codemirror_mode": {
    "name": "ipython",
    "version": 3
   },
   "file_extension": ".py",
   "mimetype": "text/x-python",
   "name": "python",
   "nbconvert_exporter": "python",
   "pygments_lexer": "ipython3",
   "version": "3.10.8"
  }
 },
 "nbformat": 4,
 "nbformat_minor": 5
}
