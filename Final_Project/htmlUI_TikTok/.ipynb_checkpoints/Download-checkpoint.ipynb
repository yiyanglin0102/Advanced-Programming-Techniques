{
 "cells": [
  {
   "cell_type": "code",
   "execution_count": 1,
   "id": "8e37c313",
   "metadata": {},
   "outputs": [],
   "source": [
    "#!/usr/bin/env python\n",
    "# coding: utf-8\n",
    "\n",
    "import os, sys, re, subprocess, requests, numpy as np\n",
    "from urllib.parse import urljoin\n",
    "from bs4 import BeautifulSoup\n",
    "\n",
    "keyword = 'car'\n",
    "# keyWord = sys.argv[1]\n",
    "\n",
    "subprocess.run(('rm -rf 0 1 2 3 4 5 6 7 8 9'), shell=True)\n",
    "\n",
    "\n",
    "def saveFullHtmlPage(url, pagepath='page', session=requests.Session(), html=None):\n",
    "    \"\"\"Save web page html and supported contents        \n",
    "        * pagepath : path-to-page   \n",
    "        It will create a file  `'path-to-page'.html` and a folder `'path-to-page'_files`\n",
    "    \"\"\"\n",
    "    def savenRename(soup, pagefolder, session, url, tag, inner):\n",
    "        if not os.path.exists(pagefolder): # create only once\n",
    "            os.mkdir(pagefolder)\n",
    "        for res in soup.findAll(tag):   # images, css, etc..\n",
    "            if res.has_attr(inner): # check inner tag (file object) MUST exists  \n",
    "                try:\n",
    "                    filename, ext = os.path.splitext(os.path.basename(res[inner])) # get name and extension\n",
    "                    filename = re.sub('\\W+', '', filename) + ext # clean special chars from name\n",
    "                    fileurl = urljoin(url, res.get(inner))\n",
    "                    filepath = os.path.join(pagefolder, filename)\n",
    "                    # rename html ref so can move html and folder of files anywhere\n",
    "                    res[inner] = os.path.join(os.path.basename(pagefolder), filename)\n",
    "                    if not os.path.isfile(filepath): # was not downloaded\n",
    "                        with open(filepath, 'wb') as file:\n",
    "                            filebin = session.get(fileurl)\n",
    "                            file.write(filebin.content)\n",
    "                except Exception as exc:\n",
    "                    print(exc, file=sys.stderr)\n",
    "    if not html:\n",
    "        html = session.get(url).text\n",
    "    soup = BeautifulSoup(html, \"html.parser\")\n",
    "    path, _ = os.path.splitext(pagepath)\n",
    "    pagefolder = path+'_files' # page contents folder\n",
    "    tags_inner = {'img': 'src', 'link': 'href', 'script': 'src'} # tag&inner tags to grab\n",
    "    for tag, inner in tags_inner.items(): # saves resource files and rename refs\n",
    "        savenRename(soup, pagefolder, session, url, tag, inner)\n",
    "    with open(path+'.html', 'wb') as file: # saves modified html doc\n",
    "        file.write(soup.prettify('utf-8'))\n",
    "\n",
    "saveFullHtmlPage('https://www.tiktok.com/discover/Car-Videos?lang=en', keyword)\n",
    "\n"
   ]
  },
  {
   "cell_type": "code",
   "execution_count": 2,
   "id": "62fbe560",
   "metadata": {},
   "outputs": [
    {
     "name": "stdout",
     "output_type": "stream",
     "text": [
      "https://www.tiktok.com/@lostjdmnz/video/7159437398076607746?lang=en\n",
      "https://www.tiktok.com/@mcqueen_atlanta/video/7153006399935532331?lang=en\n",
      "https://www.tiktok.com/@jayspanks/video/7155700564402113835?lang=en\n",
      "https://www.tiktok.com/@pubity/video/7165955627171204357?lang=en\n",
      "https://www.tiktok.com/@jayspanks/video/7156779365647355178?lang=en\n",
      "https://www.tiktok.com/@4eyesfoxbody/video/7168595183192345898?lang=en\n",
      "https://www.tiktok.com/@the904carscene/video/7113371771574701358?lang=en\n",
      "https://www.tiktok.com/@luxuryturbo.car/video/7160005461402455302?lang=en\n",
      "https://www.tiktok.com/@beverlygui/video/7152763048720190766?lang=en\n",
      "https://www.tiktok.com/@rosales215_jjmotorsports/video/7166684741587029294?lang=en\n"
     ]
    }
   ],
   "source": [
    "with open(keyword + \".html\") as fp:\n",
    "        soup = BeautifulSoup(fp, 'html.parser')\n",
    "\n",
    "# \"videoIds\": [\"\n",
    "# soup.find_all('a')[1]\n",
    "\n",
    "# soup.find(\"a\", class=\"tiktok-dtihlr-DivVideoSection e1uqcilo4\")\n",
    "a = soup.body.find_all('div')[1].find_all(\"a\", class_=\"tiktok-1rzor5f-StyledVideoLink e1uqcilo1\")\n",
    "\n",
    "\n",
    "subprocess.run(('rm '+ keyword + '.html'), shell=True)\n",
    "subprocess.run(('rm -rf '+ keyword + '_files'), shell=True)\n",
    "\n",
    "\n",
    "videos = []\n",
    "\n",
    "for link in a:\n",
    "    videos.append(\"https://www.tiktok.com\" + link.get('href'))\n",
    "    print(\"https://www.tiktok.com\" + link.get('href'))\n",
    "    \n",
    "    \n",
    "    "
   ]
  },
  {
   "cell_type": "code",
   "execution_count": 3,
   "id": "6d0d0041",
   "metadata": {},
   "outputs": [
    {
     "data": {
      "text/plain": [
       "['https://www.tiktok.com/@lostjdmnz/video/7159437398076607746?lang=en',\n",
       " 'https://www.tiktok.com/@mcqueen_atlanta/video/7153006399935532331?lang=en',\n",
       " 'https://www.tiktok.com/@jayspanks/video/7155700564402113835?lang=en',\n",
       " 'https://www.tiktok.com/@pubity/video/7165955627171204357?lang=en',\n",
       " 'https://www.tiktok.com/@jayspanks/video/7156779365647355178?lang=en',\n",
       " 'https://www.tiktok.com/@4eyesfoxbody/video/7168595183192345898?lang=en',\n",
       " 'https://www.tiktok.com/@the904carscene/video/7113371771574701358?lang=en',\n",
       " 'https://www.tiktok.com/@luxuryturbo.car/video/7160005461402455302?lang=en',\n",
       " 'https://www.tiktok.com/@beverlygui/video/7152763048720190766?lang=en',\n",
       " 'https://www.tiktok.com/@rosales215_jjmotorsports/video/7166684741587029294?lang=en']"
      ]
     },
     "execution_count": 3,
     "metadata": {},
     "output_type": "execute_result"
    }
   ],
   "source": [
    "videos = videos[:10]\n",
    "videos"
   ]
  },
  {
   "cell_type": "code",
   "execution_count": 4,
   "id": "9bc49af3",
   "metadata": {},
   "outputs": [],
   "source": [
    "# subprocess.run('python3 -m tiktok_downloader --url https://www.tiktok.com/@sneakyhero93/video/7159191712911363334 --snaptik --save tiktok.mp4', shell=True)\n",
    "\n"
   ]
  },
  {
   "cell_type": "code",
   "execution_count": 8,
   "id": "e038e0aa",
   "metadata": {},
   "outputs": [],
   "source": [
    "\n",
    "for i in range(10):\n",
    "    subprocess.run('mkdir '+ str(i) + '; cd ' + str(i) + '; echo \"import subprocess\\nsubprocess.run(\\'python3 -m tiktok_downloader --url '+videos[i]+' --snaptik --save tiktok.mp4 '+'; scenedetect --input *.mp4 detect-content save-images; magick *.jpg images.gif; rm -rf *.jpg\\', shell=True)\" > ' + str(i) + '.py; '\n",
    "                , shell=True)\n",
    "# for i in range(10):\n",
    "#     p = subprocess.Popen('cd ' + str(i) + '; python3 ' + str(i) + '.py', stdout=subprocess.PIPE, shell=True)\n",
    "    \n",
    "# subprocess.run('cd 0; python3 0.py', shell=True)\n",
    "# subprocess.run('cd 1; python3 1.py', shell=True)\n",
    "# subprocess.run('cd 2; python3 2.py', shell=True)\n",
    "# subprocess.run('cd 3; python3 3.py', shell=True)\n",
    "# subprocess.run('cd 4; python3 4.py', shell=True)\n",
    "# subprocess.run('cd 5; python3 5.py', shell=True)\n",
    "# subprocess.run('cd 6; python3 6.py', shell=True)\n",
    "# subprocess.run('cd 7; python3 7.py', shell=True)\n",
    "# subprocess.run('cd 8; python3 8.py', shell=True)\n",
    "# subprocess.run('cd 9; python3 9.py', shell=True)\n",
    "\n",
    "# p2 = subprocess.Popen('cd 1; python3 1.py', stdout=subprocess.PIPE, shell=True)\n",
    "# subprocess.Popen('cd 2; python3 2.py', stdout=subprocess.PIPE, shell=True)\n",
    "# subprocess.Popen('cd 3; python3 3.py', stdout=subprocess.PIPE, shell=True)\n",
    "# subprocess.Popen('cd 4; python3 4.py', stdout=subprocess.PIPE, shell=True)\n",
    "# subprocess.Popen('cd 5; python3 5.py', stdout=subprocess.PIPE, shell=True)\n",
    "# subprocess.Popen('cd 6; python3 6.py', stdout=subprocess.PIPE, shell=True)\n",
    "# subprocess.Popen('cd 7; python3 7.py', stdout=subprocess.PIPE, shell=True)\n",
    "\n",
    "\n"
   ]
  },
  {
   "cell_type": "code",
   "execution_count": null,
   "id": "a419ba0c",
   "metadata": {},
   "outputs": [
    {
     "name": "stdout",
     "output_type": "stream",
     "text": [
      "[PySceneDetect] PySceneDetect v0.6.0.3\n",
      "[PySceneDetect] Image output format set: JPEG [Quality: 95]\n",
      "[PySceneDetect] Detecting scenes...\n",
      "[PySceneDetect] Downscale factor set to 2, effective resolution: 288 x 512\n",
      "[PySceneDetect] PySceneDetect v0.6.0.3\n",
      "[PySceneDetect] Image output format set: JPEG [Quality: 95]\n",
      "[PySceneDetect] Detecting scenes...\n",
      "[PySceneDetect] Downscale factor set to 2, effective resolution: 288 x 512\n",
      "[PySceneDetect] PySceneDetect v0.6.0.3\n",
      "[PySceneDetect] PySceneDetect v0.6.0.3\n",
      "[PySceneDetect] Image output format set: JPEG [Quality: 95]\n",
      "[PySceneDetect] Detecting scenes...\n",
      "[PySceneDetect] Downscale factor set to 2, effective resolution: 288 x 512\n",
      "[PySceneDetect] Image output format set: JPEG [Quality: 95]\n",
      "[PySceneDetect] Detecting scenes...\n",
      "[PySceneDetect] Downscale factor set to 2, effective resolution: 288 x 512\n",
      "[PySceneDetect] PySceneDetect v0.6.0.3\n",
      "[PySceneDetect] Image output format set: JPEG [Quality: 95]\n",
      "[PySceneDetect] Detecting scenes...\n",
      "[PySceneDetect] Downscale factor set to 2, effective resolution: 288 x 512\n",
      "[PySceneDetect] PySceneDetect v0.6.0.3\n",
      "[PySceneDetect] PySceneDetect v0.6.0.3\n",
      "[PySceneDetect] Image output format set: JPEG [Quality: 95]\n",
      "[PySceneDetect] Detecting scenes...\n",
      "[PySceneDetect] Downscale factor set to 2, effective resolution: 288 x 512\n",
      "[PySceneDetect] PySceneDetect v0.6.0.3\n",
      "[PySceneDetect] Image output format set: JPEG [Quality: 95]\n",
      "[PySceneDetect] Detecting scenes...\n",
      "[PySceneDetect] Downscale factor set to 2, effective resolution: 288 x 512\n",
      "[PySceneDetect] PySceneDetect v0.6.0.3\n",
      "[PySceneDetect] Image output format set: JPEG [Quality: 95]\n",
      "[PySceneDetect] Detecting scenes...\n",
      "[PySceneDetect] Downscale factor set to 2, effective resolution: 288 x 512\n",
      "[PySceneDetect] PySceneDetect v0.6.0.3\n",
      "[PySceneDetect] Image output format set: JPEG [Quality: 95]\n",
      "[PySceneDetect] Detecting scenes...\n",
      "[PySceneDetect] Downscale factor set to 2, effective resolution: 288 x 512\n"
     ]
    }
   ],
   "source": [
    "subprocess.run('cd 0; python3 0.py & cd .. ; cd 1; python3 1.py & cd .. ; cd 2; python3 2.py & cd .. ; cd 3; python3 3.py & cd .. ; cd 4; python3 4.py & cd .. ; cd 5; python3 5.py & cd .. ; cd 6; python3 6.py & cd .. ; cd 7; python3 7.py & cd .. ; cd 8; python3 8.py & cd .. ; cd 9; python3 9.py', shell=True)\n"
   ]
  },
  {
   "cell_type": "code",
   "execution_count": null,
   "id": "107b7d17",
   "metadata": {},
   "outputs": [],
   "source": []
  },
  {
   "cell_type": "code",
   "execution_count": null,
   "id": "26741b7f",
   "metadata": {},
   "outputs": [],
   "source": []
  },
  {
   "cell_type": "code",
   "execution_count": null,
   "id": "dd834c13",
   "metadata": {},
   "outputs": [],
   "source": []
  },
  {
   "cell_type": "code",
   "execution_count": null,
   "id": "1785a981",
   "metadata": {},
   "outputs": [],
   "source": []
  }
 ],
 "metadata": {
  "kernelspec": {
   "display_name": "Python 3 (ipykernel)",
   "language": "python",
   "name": "python3"
  },
  "language_info": {
   "codemirror_mode": {
    "name": "ipython",
    "version": 3
   },
   "file_extension": ".py",
   "mimetype": "text/x-python",
   "name": "python",
   "nbconvert_exporter": "python",
   "pygments_lexer": "ipython3",
   "version": "3.10.8"
  }
 },
 "nbformat": 4,
 "nbformat_minor": 5
}
