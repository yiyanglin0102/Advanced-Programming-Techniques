{
 "cells": [
  {
   "cell_type": "code",
   "execution_count": 1,
   "id": "8e37c313",
   "metadata": {},
   "outputs": [
    {
     "data": {
      "text/plain": [
       "CompletedProcess(args='rm -rf love_files', returncode=0)"
      ]
     },
     "execution_count": 1,
     "metadata": {},
     "output_type": "execute_result"
    }
   ],
   "source": [
    "#!/usr/bin/env python\n",
    "# coding: utf-8\n",
    "\n",
    "import os, sys, re, subprocess, requests, numpy as np\n",
    "from urllib.parse import urljoin\n",
    "from bs4 import BeautifulSoup\n",
    "\n",
    "keyWord = 'love'\n",
    "\n",
    "def saveFullHtmlPage(url, pagepath='page', session=requests.Session(), html=None):\n",
    "    \"\"\"Save web page html and supported contents        \n",
    "        * pagepath : path-to-page   \n",
    "        It will create a file  `'path-to-page'.html` and a folder `'path-to-page'_files`\n",
    "    \"\"\"\n",
    "    def savenRename(soup, pagefolder, session, url, tag, inner):\n",
    "        if not os.path.exists(pagefolder): # create only once\n",
    "            os.mkdir(pagefolder)\n",
    "        for res in soup.findAll(tag):   # images, css, etc..\n",
    "            if res.has_attr(inner): # check inner tag (file object) MUST exists  \n",
    "                try:\n",
    "                    filename, ext = os.path.splitext(os.path.basename(res[inner])) # get name and extension\n",
    "                    filename = re.sub('\\W+', '', filename) + ext # clean special chars from name\n",
    "                    fileurl = urljoin(url, res.get(inner))\n",
    "                    filepath = os.path.join(pagefolder, filename)\n",
    "                    # rename html ref so can move html and folder of files anywhere\n",
    "                    res[inner] = os.path.join(os.path.basename(pagefolder), filename)\n",
    "                    if not os.path.isfile(filepath): # was not downloaded\n",
    "                        with open(filepath, 'wb') as file:\n",
    "                            filebin = session.get(fileurl)\n",
    "                            file.write(filebin.content)\n",
    "                except Exception as exc:\n",
    "                    print(exc, file=sys.stderr)\n",
    "    if not html:\n",
    "        html = session.get(url).text\n",
    "    soup = BeautifulSoup(html, \"html.parser\")\n",
    "    path, _ = os.path.splitext(pagepath)\n",
    "    pagefolder = path+'_files' # page contents folder\n",
    "    tags_inner = {'img': 'src', 'link': 'href', 'script': 'src'} # tag&inner tags to grab\n",
    "    for tag, inner in tags_inner.items(): # saves resource files and rename refs\n",
    "        savenRename(soup, pagefolder, session, url, tag, inner)\n",
    "    with open(path+'.html', 'wb') as file: # saves modified html doc\n",
    "        file.write(soup.prettify('utf-8'))\n",
    "\n",
    "saveFullHtmlPage('https://www.youtube.com/results?search_query=' + keyWord, keyWord)\n",
    "\n",
    "with open(keyWord + \".html\") as fp:\n",
    "        soup = BeautifulSoup(fp, 'html.parser')\n",
    "\n",
    "# \"videoIds\": [\"\n",
    "\n",
    "a = soup.select(\"body\")[0]\n",
    "\n",
    "paragraphs = []\n",
    "for x in a:\n",
    "    paragraphs.append(str(x))\n",
    "\n",
    "for i, a in enumerate(paragraphs):\n",
    "    if \"\\\"videoIds\\\":[\\\"\" in a:\n",
    "        b = paragraphs[31]\n",
    "\n",
    "\n",
    "match=(re.search(\"videoIds\", b))\n",
    "\n",
    "result = [_.start() for _ in re.finditer(\"\\\"videoIds\\\":\", b)]\n",
    "\n",
    "result = np.add(result, 13).tolist()\n",
    "vidoes = set()\n",
    "for n in result:\n",
    "    vidoes.add(b[n:n+11])\n",
    "\n",
    "vidoes = list(vidoes)\n",
    "for i in range(len(vidoes)):\n",
    "    vidoes[i] = \"https://www.youtube.com/watch?v=\" + vidoes[i]\n",
    "#     vidoes[i] = \"youtube.com/watch?v=\" + vidoes[i]\n",
    "vidoes\n",
    "\n",
    "subprocess.run(('rm '+ keyWord + '.html'), shell=True)\n",
    "subprocess.run(('rm -rf '+ keyWord + '_files'), shell=True)"
   ]
  },
  {
   "cell_type": "code",
   "execution_count": null,
   "id": "824482cd",
   "metadata": {},
   "outputs": [],
   "source": [
    "vidoes"
   ]
  },
  {
   "cell_type": "code",
   "execution_count": null,
   "id": "4f2105ca",
   "metadata": {},
   "outputs": [],
   "source": [
    "for i in range(10):\n",
    "    subprocess.run('youtube-dl -f worstvideo[ext=mp4] '+ vidoes[i], shell=True)"
   ]
  },
  {
   "cell_type": "code",
   "execution_count": null,
   "id": "e4b44c4c",
   "metadata": {},
   "outputs": [],
   "source": [
    "# subprocess.run('youtube-dl -f worstvideo[ext=mp4] https://www.youtube.com/watch?v=LPGUtKKO6F8', shell=True)"
   ]
  }
 ],
 "metadata": {
  "kernelspec": {
   "display_name": "Python 3 (ipykernel)",
   "language": "python",
   "name": "python3"
  },
  "language_info": {
   "codemirror_mode": {
    "name": "ipython",
    "version": 3
   },
   "file_extension": ".py",
   "mimetype": "text/x-python",
   "name": "python",
   "nbconvert_exporter": "python",
   "pygments_lexer": "ipython3",
   "version": "3.10.8"
  }
 },
 "nbformat": 4,
 "nbformat_minor": 5
}
