{
 "cells": [
  {
   "cell_type": "code",
   "execution_count": 9,
   "id": "8e37c313",
   "metadata": {},
   "outputs": [
    {
     "data": {
      "text/plain": [
       "CompletedProcess(args='rm -rf love_files', returncode=0)"
      ]
     },
     "execution_count": 9,
     "metadata": {},
     "output_type": "execute_result"
    }
   ],
   "source": [
    "#!/usr/bin/env python\n",
    "# coding: utf-8\n",
    "\n",
    "import os, sys, re, subprocess, requests, numpy as np\n",
    "from urllib.parse import urljoin\n",
    "from bs4 import BeautifulSoup\n",
    "\n",
    "\n",
    "subprocess.run(('rm -rf 0 1 2 3 4 5 6 7 8 9'), shell=True)\n",
    "\n",
    "keyWord = 'love'\n",
    "# keyWord = sys.argv[1]\n",
    "\n",
    "\n",
    "def saveFullHtmlPage(url, pagepath='page', session=requests.Session(), html=None):\n",
    "    \"\"\"Save web page html and supported contents        \n",
    "        * pagepath : path-to-page   \n",
    "        It will create a file  `'path-to-page'.html` and a folder `'path-to-page'_files`\n",
    "    \"\"\"\n",
    "    def savenRename(soup, pagefolder, session, url, tag, inner):\n",
    "        if not os.path.exists(pagefolder): # create only once\n",
    "            os.mkdir(pagefolder)\n",
    "        for res in soup.findAll(tag):   # images, css, etc..\n",
    "            if res.has_attr(inner): # check inner tag (file object) MUST exists  \n",
    "                try:\n",
    "                    filename, ext = os.path.splitext(os.path.basename(res[inner])) # get name and extension\n",
    "                    filename = re.sub('\\W+', '', filename) + ext # clean special chars from name\n",
    "                    fileurl = urljoin(url, res.get(inner))\n",
    "                    filepath = os.path.join(pagefolder, filename)\n",
    "                    # rename html ref so can move html and folder of files anywhere\n",
    "                    res[inner] = os.path.join(os.path.basename(pagefolder), filename)\n",
    "                    if not os.path.isfile(filepath): # was not downloaded\n",
    "                        with open(filepath, 'wb') as file:\n",
    "                            filebin = session.get(fileurl)\n",
    "                            file.write(filebin.content)\n",
    "                except Exception as exc:\n",
    "                    print(exc, file=sys.stderr)\n",
    "    if not html:\n",
    "        html = session.get(url).text\n",
    "    soup = BeautifulSoup(html, \"html.parser\")\n",
    "    path, _ = os.path.splitext(pagepath)\n",
    "    pagefolder = path+'_files' # page contents folder\n",
    "    tags_inner = {'img': 'src', 'link': 'href', 'script': 'src'} # tag&inner tags to grab\n",
    "    for tag, inner in tags_inner.items(): # saves resource files and rename refs\n",
    "        savenRename(soup, pagefolder, session, url, tag, inner)\n",
    "    with open(path+'.html', 'wb') as file: # saves modified html doc\n",
    "        file.write(soup.prettify('utf-8'))\n",
    "\n",
    "saveFullHtmlPage('https://www.youtube.com/results?search_query=' + keyWord, keyWord)\n",
    "\n",
    "with open(keyWord + \".html\") as fp:\n",
    "        soup = BeautifulSoup(fp, 'html.parser')\n",
    "\n",
    "# \"videoIds\": [\"\n",
    "\n",
    "a = soup.select(\"body\")[0]\n",
    "\n",
    "paragraphs = []\n",
    "for x in a:\n",
    "    paragraphs.append(str(x))\n",
    "\n",
    "for i, a in enumerate(paragraphs):\n",
    "    if \"\\\"videoIds\\\":[\\\"\" in a:\n",
    "        b = paragraphs[31]\n",
    "\n",
    "\n",
    "match=(re.search(\"videoIds\", b))\n",
    "\n",
    "result = [_.start() for _ in re.finditer(\"\\\"videoIds\\\":\", b)]\n",
    "\n",
    "result = np.add(result, 13).tolist()\n",
    "videos = set()\n",
    "for n in result:\n",
    "    videos.add(b[n:n+11])\n",
    "\n",
    "videos = list(videos)\n",
    "for i in range(len(videos)):\n",
    "    videos[i] = \"https://www.youtube.com/watch?v=\" + videos[i]\n",
    "#     videos[i] = \"youtube.com/watch?v=\" + videos[i]\n",
    "videos\n",
    "\n",
    "subprocess.run(('rm '+ keyWord + '.html'), shell=True)\n",
    "subprocess.run(('rm -rf '+ keyWord + '_files'), shell=True)"
   ]
  },
  {
   "cell_type": "code",
   "execution_count": 10,
   "id": "824482cd",
   "metadata": {},
   "outputs": [
    {
     "data": {
      "text/plain": [
       "['https://www.youtube.com/watch?v=UKHd4V664ts',\n",
       " 'https://www.youtube.com/watch?v=9PBZy9j3H3I',\n",
       " 'https://www.youtube.com/watch?v=6nPYNMwWOnk',\n",
       " 'https://www.youtube.com/watch?v=_lrpCJOV4Fg',\n",
       " 'https://www.youtube.com/watch?v=omEuqt19Uhs',\n",
       " 'https://www.youtube.com/watch?v=0pObLdN9ICg',\n",
       " 'https://www.youtube.com/watch?v=UZWmtxLiiFE',\n",
       " 'https://www.youtube.com/watch?v=FdfipkGBLd0',\n",
       " 'https://www.youtube.com/watch?v=PxeQfYWikvI',\n",
       " 'https://www.youtube.com/watch?v=fyrlyMsBrgg']"
      ]
     },
     "execution_count": 10,
     "metadata": {},
     "output_type": "execute_result"
    }
   ],
   "source": [
    "videos = videos[0:10]\n",
    "videos\n"
   ]
  },
  {
   "cell_type": "code",
   "execution_count": null,
   "id": "4cd23a15",
   "metadata": {},
   "outputs": [],
   "source": []
  },
  {
   "cell_type": "code",
   "execution_count": 20,
   "id": "fce63084",
   "metadata": {},
   "outputs": [],
   "source": [
    "def delete_first_line(filename):\n",
    "    with open(filename, 'r') as fin:\n",
    "        data = fin.read().splitlines(True)\n",
    "    with open(filename, 'w') as fout:\n",
    "        fout.writelines(data[1:])\n",
    "        \n",
    "def line_prepender(filename, line):\n",
    "    with open(filename, 'r+') as f:\n",
    "        content = f.read()\n",
    "        f.seek(0, 0)\n",
    "        f.write(line.rstrip('\\r\\n') + '\\n' + content)\n",
    "        \n",
    "s = \"let object = {link0:\\\"\"+videos[0]+\"\\\", link1:\\\"\"+videos[1]+\"\\\", link2:\\\"\"+videos[2]+\"\\\", link3:\\\"\"+videos[3]+\"\\\", link4:\\\"\"+videos[4]+\"\\\", link5:\\\"\"+videos[5]+\"\\\", link6:\\\"\"+videos[6]+\"\\\", link7:\\\"\"+videos[7]+\"\\\", link8:\\\"\"+videos[8]+\"\\\", link9:\\\"\"+videos[9]+\"\\\"}\"\n",
    "        \n",
    "delete_first_line(\"123.js\")\n",
    "line_prepender(\"123.js\", s)"
   ]
  },
  {
   "cell_type": "code",
   "execution_count": null,
   "id": "4f2105ca",
   "metadata": {},
   "outputs": [],
   "source": [
    "\n",
    "for i in range(10):\n",
    "    subprocess.run('mkdir '+ str(i) + '; cd ' + str(i) + '; echo \"import subprocess\\nsubprocess.run(\\'youtube-dl -f worstvideo[ext=mp4] '+videos[i]+'; scenedetect --input *.mp4 detect-content save-images; magick *.jpg images.gif; rm -rf *.jpg\\', shell=True)\" > ' + str(i) + '.py; '\n",
    "                , shell=True)\n",
    "\n",
    "# subprocess.run('mkdir ' + str(i) + '; cd ' + str(i) + '; youtube-dl -f worstvideo[ext=mp4] '\n",
    "#                    + videos[i] + '; scenedetect --input *.mp4 detect-content save-images; '\n",
    "#                    + 'magick *.jpg images.gif; '+ 'rm -rf *.jpg', shell=True)\n",
    "#     subprocess.run('scenedetect --input *.mp4 detect-content save-images', shell=True)\n",
    "#     subprocess.run('magick *.jpg images.gif', shell=True)\n",
    "#     subprocess.run('rm -rf *.jpg', shell=True)\n",
    "\n",
    "subprocess.run('cd 0; python3 0.py & cd .. ; cd 1; python3 1.py & cd .. ; cd 2; python3 2.py & cd .. ; cd 3; python3 3.py & cd .. ; cd 4; python3 4.py & cd .. ; cd 5; python3 5.py & cd .. ; cd 6; python3 6.py & cd .. ; cd 7; python3 7.py & cd .. ; cd 8; python3 8.py & cd .. ; cd 9; python3 9.py', shell=True)\n"
   ]
  },
  {
   "cell_type": "code",
   "execution_count": null,
   "id": "81f563dc",
   "metadata": {},
   "outputs": [],
   "source": []
  }
 ],
 "metadata": {
  "kernelspec": {
   "display_name": "Python 3 (ipykernel)",
   "language": "python",
   "name": "python3"
  },
  "language_info": {
   "codemirror_mode": {
    "name": "ipython",
    "version": 3
   },
   "file_extension": ".py",
   "mimetype": "text/x-python",
   "name": "python",
   "nbconvert_exporter": "python",
   "pygments_lexer": "ipython3",
   "version": "3.10.8"
  }
 },
 "nbformat": 4,
 "nbformat_minor": 5
}
