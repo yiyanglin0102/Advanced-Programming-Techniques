{
 "cells": [
  {
   "cell_type": "code",
   "execution_count": 2,
   "id": "8e37c313",
   "metadata": {},
   "outputs": [
    {
     "data": {
      "text/plain": [
       "CompletedProcess(args='rm -rf love_files', returncode=0)"
      ]
     },
     "execution_count": 2,
     "metadata": {},
     "output_type": "execute_result"
    }
   ],
   "source": [
    "#!/usr/bin/env python\n",
    "# coding: utf-8\n",
    "\n",
    "import os, sys, re, subprocess, requests, numpy as np\n",
    "from urllib.parse import urljoin\n",
    "from bs4 import BeautifulSoup\n",
    "\n",
    "keyWord = 'love'\n",
    "\n",
    "def saveFullHtmlPage(url, pagepath='page', session=requests.Session(), html=None):\n",
    "    \"\"\"Save web page html and supported contents        \n",
    "        * pagepath : path-to-page   \n",
    "        It will create a file  `'path-to-page'.html` and a folder `'path-to-page'_files`\n",
    "    \"\"\"\n",
    "    def savenRename(soup, pagefolder, session, url, tag, inner):\n",
    "        if not os.path.exists(pagefolder): # create only once\n",
    "            os.mkdir(pagefolder)\n",
    "        for res in soup.findAll(tag):   # images, css, etc..\n",
    "            if res.has_attr(inner): # check inner tag (file object) MUST exists  \n",
    "                try:\n",
    "                    filename, ext = os.path.splitext(os.path.basename(res[inner])) # get name and extension\n",
    "                    filename = re.sub('\\W+', '', filename) + ext # clean special chars from name\n",
    "                    fileurl = urljoin(url, res.get(inner))\n",
    "                    filepath = os.path.join(pagefolder, filename)\n",
    "                    # rename html ref so can move html and folder of files anywhere\n",
    "                    res[inner] = os.path.join(os.path.basename(pagefolder), filename)\n",
    "                    if not os.path.isfile(filepath): # was not downloaded\n",
    "                        with open(filepath, 'wb') as file:\n",
    "                            filebin = session.get(fileurl)\n",
    "                            file.write(filebin.content)\n",
    "                except Exception as exc:\n",
    "                    print(exc, file=sys.stderr)\n",
    "    if not html:\n",
    "        html = session.get(url).text\n",
    "    soup = BeautifulSoup(html, \"html.parser\")\n",
    "    path, _ = os.path.splitext(pagepath)\n",
    "    pagefolder = path+'_files' # page contents folder\n",
    "    tags_inner = {'img': 'src', 'link': 'href', 'script': 'src'} # tag&inner tags to grab\n",
    "    for tag, inner in tags_inner.items(): # saves resource files and rename refs\n",
    "        savenRename(soup, pagefolder, session, url, tag, inner)\n",
    "    with open(path+'.html', 'wb') as file: # saves modified html doc\n",
    "        file.write(soup.prettify('utf-8'))\n",
    "\n",
    "saveFullHtmlPage('https://www.youtube.com/results?search_query=' + keyWord, keyWord)\n",
    "\n",
    "with open(keyWord + \".html\") as fp:\n",
    "        soup = BeautifulSoup(fp, 'html.parser')\n",
    "\n",
    "# \"videoIds\": [\"\n",
    "\n",
    "a = soup.select(\"body\")[0]\n",
    "\n",
    "paragraphs = []\n",
    "for x in a:\n",
    "    paragraphs.append(str(x))\n",
    "\n",
    "for i, a in enumerate(paragraphs):\n",
    "    if \"\\\"videoIds\\\":[\\\"\" in a:\n",
    "        b = paragraphs[31]\n",
    "\n",
    "\n",
    "match=(re.search(\"videoIds\", b))\n",
    "\n",
    "result = [_.start() for _ in re.finditer(\"\\\"videoIds\\\":\", b)]\n",
    "\n",
    "result = np.add(result, 13).tolist()\n",
    "vidoes = set()\n",
    "for n in result:\n",
    "    vidoes.add(b[n:n+11])\n",
    "\n",
    "vidoes = list(vidoes)\n",
    "for i in range(len(vidoes)):\n",
    "    vidoes[i] = \"https://www.youtube.com/watch?v=\" + vidoes[i]\n",
    "#     vidoes[i] = \"youtube.com/watch?v=\" + vidoes[i]\n",
    "vidoes\n",
    "\n",
    "subprocess.run(('rm '+ keyWord + '.html'), shell=True)\n",
    "subprocess.run(('rm -rf '+ keyWord + '_files'), shell=True)"
   ]
  },
  {
   "cell_type": "code",
   "execution_count": 3,
   "id": "824482cd",
   "metadata": {},
   "outputs": [
    {
     "data": {
      "text/plain": [
       "['https://www.youtube.com/watch?v=adzkM1nxG48',\n",
       " 'https://www.youtube.com/watch?v=3-NTv0CdFCk',\n",
       " 'https://www.youtube.com/watch?v=nrx5_OeT8WM',\n",
       " 'https://www.youtube.com/watch?v=qWsk-kp8g7E',\n",
       " 'https://www.youtube.com/watch?v=arCTOMGT9do',\n",
       " 'https://www.youtube.com/watch?v=omEuqt19Uhs',\n",
       " 'https://www.youtube.com/watch?v=bgjUzhdmmF0',\n",
       " 'https://www.youtube.com/watch?v=zmUaVNrrf0M',\n",
       " 'https://www.youtube.com/watch?v=tmSzRx9RYLk',\n",
       " 'https://www.youtube.com/watch?v=PxeQfYWikvI',\n",
       " 'https://www.youtube.com/watch?v=8ixb_1j-LQk',\n",
       " 'https://www.youtube.com/watch?v=yRSdPSQiAME',\n",
       " 'https://www.youtube.com/watch?v=Jg1j5Ed_zt4',\n",
       " 'https://www.youtube.com/watch?v=i2YYyjZxmWA',\n",
       " 'https://www.youtube.com/watch?v=3SaVOpgSa6M',\n",
       " 'https://www.youtube.com/watch?v=OIKC2ggCed4',\n",
       " 'https://www.youtube.com/watch?v=f_HmF84G7ZY',\n",
       " 'https://www.youtube.com/watch?v=vTKyzVFGNew',\n",
       " 'https://www.youtube.com/watch?v=ECRf_qsQ8jY',\n",
       " 'https://www.youtube.com/watch?v=dz553K-tnNc',\n",
       " 'https://www.youtube.com/watch?v=KTkW636B8xg',\n",
       " 'https://www.youtube.com/watch?v=3HLnSD0drEE',\n",
       " 'https://www.youtube.com/watch?v=VDmIrxmubQQ',\n",
       " 'https://www.youtube.com/watch?v=INnE0rLy1wY',\n",
       " 'https://www.youtube.com/watch?v=ZqK2As0qimM',\n",
       " 'https://www.youtube.com/watch?v=UZWmtxLiiFE',\n",
       " 'https://www.youtube.com/watch?v=ZamnM5WoeiM',\n",
       " 'https://www.youtube.com/watch?v=zAdELND4b1k',\n",
       " 'https://www.youtube.com/watch?v=ox7RsX1Ee34',\n",
       " 'https://www.youtube.com/watch?v=0pObLdN9ICg',\n",
       " 'https://www.youtube.com/watch?v=NFeDEA1sMhE',\n",
       " 'https://www.youtube.com/watch?v=DRg7cbsFJ34',\n",
       " 'https://www.youtube.com/watch?v=w6NxHj3L_XY',\n",
       " 'https://www.youtube.com/watch?v=d0BNwyrEDiA',\n",
       " 'https://www.youtube.com/watch?v=w9_-SCFNeag',\n",
       " 'https://www.youtube.com/watch?v=0daHxM-wp3g',\n",
       " 'https://www.youtube.com/watch?v=9PBZy9j3H3I',\n",
       " 'https://www.youtube.com/watch?v=MmzVrdrO9Z4']"
      ]
     },
     "execution_count": 3,
     "metadata": {},
     "output_type": "execute_result"
    }
   ],
   "source": [
    "vidoes"
   ]
  },
  {
   "cell_type": "code",
   "execution_count": 9,
   "id": "4f2105ca",
   "metadata": {},
   "outputs": [
    {
     "name": "stdout",
     "output_type": "stream",
     "text": [
      "[PySceneDetect] PySceneDetect v0.6.0.3\n",
      "[PySceneDetect] Image output format set: JPEG [Quality: 95]\n",
      "[PySceneDetect] Detecting scenes...\n"
     ]
    },
    {
     "name": "stderr",
     "output_type": "stream",
     "text": [
      "100%|██████████| 30084/30084 [00:23<00:00, 1281.73frames/s]\n",
      "  0%|          | 6/1446 [00:00<00:26, 54.41images/s]"
     ]
    },
    {
     "name": "stdout",
     "output_type": "stream",
     "text": [
      "[PySceneDetect] Processed 30084 frames in 23.5 seconds (average 1280.73 FPS).\n",
      "[PySceneDetect] Detected 482 scenes, average shot length 2.1 seconds.\n",
      "[PySceneDetect] Comma-separated timecode list:\n",
      "  00:00:01.435,00:00:02.269,00:00:02.936,00:00:04.738,00:00:05.839,00:00:07.407,00:00:09.209,00:00:11.445,00:00:14.515,00:00:15.449,00:00:16.750,00:00:17.818,00:00:18.418,00:00:20.320,00:00:23.056,00:00:24.358,00:00:25.626,00:00:26.927,00:00:29.029,00:00:32.533,00:00:33.634,00:00:34.234,00:00:37.571,00:00:38.972,00:00:39.573,00:00:40.741,00:00:41.808,00:00:43.610,00:00:46.346,00:00:49.683,00:00:52.319,00:00:53.253,00:00:53.854,00:00:57.658,00:00:58.759,00:01:00.727,00:01:01.395,00:01:02.062,00:01:03.463,00:01:04.865,00:01:06.600,00:01:08.902,00:01:10.137,00:01:11.338,00:01:12.573,00:01:15.509,00:01:20.681,00:01:21.949,00:01:25.385,00:01:26.854,00:01:32.125,00:01:32.793,00:01:34.127,00:01:36.697,00:01:38.298,00:01:39.199,00:01:40.133,00:01:41.235,00:01:42.603,00:01:43.937,00:01:46.006,00:01:50.511,00:01:53.647,00:01:54.715,00:01:56.216,00:01:57.184,00:02:00.153,00:02:06.293,00:02:08.862,00:02:11.198,00:02:11.932,00:02:14.134,00:02:16.570,00:02:23.677,00:02:25.012,00:02:26.280,00:02:30.417,00:02:34.488,00:02:36.056,00:02:37.157,00:02:38.358,00:02:40.694,00:02:42.196,00:02:46.900,00:02:48.268,00:02:49.102,00:02:50.470,00:02:53.073,00:02:54.641,00:02:58.145,00:03:01.448,00:03:03.917,00:03:04.518,00:03:05.252,00:03:08.121,00:03:08.789,00:03:09.957,00:03:16.396,00:03:19.266,00:03:20.100,00:03:22.536,00:03:28.308,00:03:31.879,00:03:36.283,00:03:40.888,00:03:41.655,00:03:42.789,00:03:45.659,00:03:50.364,00:03:53.333,00:03:54.601,00:03:55.869,00:03:56.837,00:03:57.871,00:03:59.139,00:04:00.307,00:04:01.642,00:04:04.478,00:04:08.248,00:04:08.949,00:04:09.616,00:04:10.284,00:04:14.821,00:04:16.490,00:04:18.458,00:04:20.561,00:04:21.495,00:04:24.898,00:04:27.734,00:04:29.069,00:04:33.373,00:04:34.408,00:04:35.509,00:04:36.310,00:04:37.911,00:04:42.282,00:04:43.183,00:04:48.455,00:04:49.122,00:04:50.824,00:04:51.925,00:04:53.260,00:04:55.696,00:04:57.931,00:04:59.733,00:05:03.570,00:05:06.540,00:05:07.574,00:05:09.643,00:05:10.644,00:05:12.779,00:05:16.950,00:05:19.019,00:05:21.188,00:05:23.357,00:05:25.259,00:05:27.227,00:05:29.796,00:05:31.198,00:05:32.366,00:05:34.735,00:05:38.172,00:05:40.240,00:05:41.642,00:05:43.277,00:05:45.045,00:05:51.218,00:05:52.719,00:05:54.288,00:05:54.888,00:05:56.390,00:05:58.825,00:06:00.527,00:06:02.429,00:06:06.800,00:06:07.935,00:06:08.936,00:06:10.270,00:06:11.772,00:06:13.941,00:06:15.776,00:06:17.211,00:06:18.712,00:06:20.981,00:06:24.751,00:06:27.020,00:06:28.155,00:06:30.157,00:06:30.991,00:06:31.992,00:06:32.726,00:06:38.565,00:06:40.467,00:06:41.335,00:06:43.170,00:06:44.872,00:06:47.875,00:06:49.610,00:06:50.377,00:06:51.345,00:06:54.548,00:06:59.553,00:07:00.687,00:07:02.022,00:07:03.290,00:07:04.458,00:07:05.893,00:07:07.294,00:07:08.795,00:07:10.097,00:07:10.731,00:07:12.199,00:07:15.102,00:07:16.170,00:07:18.272,00:07:19.473,00:07:21.508,00:07:23.677,00:07:30.350,00:07:33.353,00:07:37.591,00:07:42.729,00:07:45.199,00:07:48.468,00:07:49.636,00:07:54.975,00:07:56.443,00:07:57.578,00:07:58.912,00:07:59.880,00:08:00.480,00:08:02.783,00:08:04.218,00:08:08.722,00:08:11.658,00:08:12.526,00:08:13.660,00:08:14.595,00:08:15.462,00:08:16.563,00:08:18.465,00:08:21.335,00:08:22.936,00:08:24.371,00:08:26.406,00:08:27.508,00:08:29.243,00:08:30.511,00:08:31.778,00:08:34.147,00:08:37.417,00:08:38.952,00:08:48.028,00:08:49.663,00:08:50.397,00:08:51.598,00:08:53.233,00:08:53.967,00:08:55.569,00:08:57.204,00:08:59.273,00:09:03.210,00:09:04.311,00:09:05.112,00:09:05.913,00:09:06.513,00:09:07.915,00:09:09.816,00:09:11.218,00:09:12.052,00:09:12.686,00:09:18.625,00:09:20.360,00:09:22.329,00:09:23.730,00:09:24.498,00:09:25.165,00:09:25.866,00:09:27.067,00:09:29.436,00:09:30.771,00:09:32.272,00:09:32.940,00:09:37.644,00:09:40.147,00:09:41.982,00:09:43.851,00:09:46.019,00:09:47.287,00:09:48.956,00:09:52.292,00:09:55.863,00:09:57.464,00:10:01.768,00:10:06.073,00:10:10.644,00:10:11.245,00:10:13.814,00:10:17.684,00:10:20.087,00:10:23.156,00:10:25.292,00:10:27.127,00:10:28.061,00:10:31.031,00:10:34.268,00:10:36.436,00:10:37.571,00:10:40.274,00:10:41.909,00:10:43.310,00:10:44.444,00:10:45.546,00:10:47.648,00:10:49.416,00:10:53.453,00:10:56.957,00:10:57.724,00:10:59.793,00:11:00.394,00:11:01.795,00:11:03.230,00:11:04.364,00:11:06.733,00:11:08.602,00:11:09.469,00:11:11.305,00:11:13.140,00:11:14.942,00:11:16.844,00:11:17.978,00:11:19.947,00:11:20.848,00:11:24.818,00:11:25.752,00:11:30.490,00:11:34.695,00:11:37.364,00:11:38.899,00:11:41.301,00:11:43.437,00:11:45.806,00:11:47.774,00:11:48.375,00:11:55.015,00:11:57.851,00:12:00.921,00:12:02.856,00:12:03.857,00:12:04.858,00:12:07.761,00:12:09.630,00:12:12.199,00:12:14.401,00:12:16.336,00:12:19.473,00:12:20.440,00:12:21.408,00:12:22.209,00:12:24.378,00:12:27.481,00:12:28.448,00:12:30.317,00:12:32.920,00:12:35.722,00:12:36.723,00:12:37.558,00:12:39.293,00:12:43.130,00:12:46.133,00:12:50.204,00:12:52.072,00:12:53.740,00:12:55.909,00:13:00.013,00:13:01.281,00:13:02.783,00:13:04.251,00:13:06.553,00:13:08.088,00:13:10.424,00:13:16.396,00:13:19.967,00:13:20.934,00:13:21.835,00:13:23.170,00:13:24.771,00:13:25.372,00:13:26.974,00:13:28.876,00:13:30.577,00:13:31.879,00:13:33.347,00:13:35.582,00:13:37.751,00:13:38.919,00:13:40.020,00:13:40.621,00:13:42.089,00:13:43.423,00:13:44.791,00:13:46.326,00:13:47.628,00:13:48.228,00:13:49.096,00:13:51.265,00:13:52.032,00:13:52.699,00:13:54.134,00:13:56.036,00:13:56.837,00:13:57.771,00:14:01.275,00:14:03.310,00:14:03.911,00:14:05.412,00:14:07.681,00:14:10.117,00:14:11.118,00:14:13.620,00:14:14.454,00:14:15.722,00:14:16.356,00:14:17.558,00:14:20.060,00:14:25.899,00:14:26.934,00:14:30.938,00:14:33.574,00:14:34.441,00:14:35.475,00:14:38.011,00:14:40.180,00:14:42.015,00:14:43.483,00:14:44.852,00:14:47.321,00:14:48.355,00:14:49.790,00:14:51.124,00:14:53.060,00:14:54.661,00:14:56.029,00:14:59.499,00:15:02.069,00:15:03.937,00:15:05.873,00:15:09.476,00:15:10.077,00:15:10.677,00:15:11.278,00:15:14.314,00:15:15.949,00:15:18.986,00:15:20.387,00:15:28.862,00:15:29.496,00:15:35.202,00:15:36.370,00:15:42.809,00:15:44.077,00:15:46.079,00:15:55.455,00:15:59.760,00:16:02.095,00:16:03.664,00:16:05.098,00:16:07.534,00:16:08.135,00:16:10.871,00:16:14.041,00:16:16.176,00:16:25.185,00:16:25.886,00:16:26.553,00:16:27.387,00:16:28.555,00:16:34.795,00:16:37.097,00:16:39.800,00:16:42.903\n",
      "[PySceneDetect] Generating output images (3 per scene)...\n"
     ]
    },
    {
     "name": "stderr",
     "output_type": "stream",
     "text": [
      "100%|██████████| 1446/1446 [00:26<00:00, 55.56images/s]\n"
     ]
    }
   ],
   "source": [
    "for i in range(1):\n",
    "#     subprocess.run('youtube-dl -f worstvideo[ext=mp4] '+ vidoes[i], shell=True)\n",
    "    subprocess.run('youtube-dl -f worstvideo[ext=mp4] https://www.youtube.com/watch?v=LPGUtKKO6F8', shell=True)\n",
    "    subprocess.run('scenedetect --input *.mp4 detect-content save-images', shell=True)\n",
    "    subprocess.run('magick *.jpg images.gif', shell=True)\n",
    "    subprocess.run('rm -rf *.jpg', shell=True)"
   ]
  },
  {
   "cell_type": "code",
   "execution_count": 3,
   "id": "e4b44c4c",
   "metadata": {},
   "outputs": [
    {
     "name": "stdout",
     "output_type": "stream",
     "text": [
      "[youtube] LPGUtKKO6F8: Downloading webpage\n",
      "[download] Destination: 10-Second Video - Sausage Crescent Cheese Balls-LPGUtKKO6F8.mp4\n",
      "[download] 100% of 132.36KiB in 00:0259KiB/s ETA 00:00\n"
     ]
    },
    {
     "data": {
      "text/plain": [
       "CompletedProcess(args='youtube-dl -f worstvideo[ext=mp4] https://www.youtube.com/watch?v=LPGUtKKO6F8', returncode=0)"
      ]
     },
     "execution_count": 3,
     "metadata": {},
     "output_type": "execute_result"
    }
   ],
   "source": [
    "subprocess.run('youtube-dl -f worstvideo[ext=mp4] https://www.youtube.com/watch?v=LPGUtKKO6F8', shell=True)"
   ]
  },
  {
   "cell_type": "code",
   "execution_count": null,
   "id": "4a6ef32d",
   "metadata": {},
   "outputs": [],
   "source": []
  }
 ],
 "metadata": {
  "kernelspec": {
   "display_name": "Python 3 (ipykernel)",
   "language": "python",
   "name": "python3"
  },
  "language_info": {
   "codemirror_mode": {
    "name": "ipython",
    "version": 3
   },
   "file_extension": ".py",
   "mimetype": "text/x-python",
   "name": "python",
   "nbconvert_exporter": "python",
   "pygments_lexer": "ipython3",
   "version": "3.10.8"
  }
 },
 "nbformat": 4,
 "nbformat_minor": 5
}
