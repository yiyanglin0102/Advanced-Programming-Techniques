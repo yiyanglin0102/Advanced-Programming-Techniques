{
 "cells": [
  {
   "cell_type": "code",
   "execution_count": 18,
   "id": "8e37c313",
   "metadata": {},
   "outputs": [
    {
     "data": {
      "text/plain": [
       "CompletedProcess(args='rm -rf love_files', returncode=0)"
      ]
     },
     "execution_count": 18,
     "metadata": {},
     "output_type": "execute_result"
    }
   ],
   "source": [
    "#!/usr/bin/env python\n",
    "# coding: utf-8\n",
    "\n",
    "import os, sys, re, subprocess, requests, numpy as np\n",
    "from urllib.parse import urljoin\n",
    "from bs4 import BeautifulSoup\n",
    "\n",
    "keyWord = 'love'\n",
    "\n",
    "def saveFullHtmlPage(url, pagepath='page', session=requests.Session(), html=None):\n",
    "    \"\"\"Save web page html and supported contents        \n",
    "        * pagepath : path-to-page   \n",
    "        It will create a file  `'path-to-page'.html` and a folder `'path-to-page'_files`\n",
    "    \"\"\"\n",
    "    def savenRename(soup, pagefolder, session, url, tag, inner):\n",
    "        if not os.path.exists(pagefolder): # create only once\n",
    "            os.mkdir(pagefolder)\n",
    "        for res in soup.findAll(tag):   # images, css, etc..\n",
    "            if res.has_attr(inner): # check inner tag (file object) MUST exists  \n",
    "                try:\n",
    "                    filename, ext = os.path.splitext(os.path.basename(res[inner])) # get name and extension\n",
    "                    filename = re.sub('\\W+', '', filename) + ext # clean special chars from name\n",
    "                    fileurl = urljoin(url, res.get(inner))\n",
    "                    filepath = os.path.join(pagefolder, filename)\n",
    "                    # rename html ref so can move html and folder of files anywhere\n",
    "                    res[inner] = os.path.join(os.path.basename(pagefolder), filename)\n",
    "                    if not os.path.isfile(filepath): # was not downloaded\n",
    "                        with open(filepath, 'wb') as file:\n",
    "                            filebin = session.get(fileurl)\n",
    "                            file.write(filebin.content)\n",
    "                except Exception as exc:\n",
    "                    print(exc, file=sys.stderr)\n",
    "    if not html:\n",
    "        html = session.get(url).text\n",
    "    soup = BeautifulSoup(html, \"html.parser\")\n",
    "    path, _ = os.path.splitext(pagepath)\n",
    "    pagefolder = path+'_files' # page contents folder\n",
    "    tags_inner = {'img': 'src', 'link': 'href', 'script': 'src'} # tag&inner tags to grab\n",
    "    for tag, inner in tags_inner.items(): # saves resource files and rename refs\n",
    "        savenRename(soup, pagefolder, session, url, tag, inner)\n",
    "    with open(path+'.html', 'wb') as file: # saves modified html doc\n",
    "        file.write(soup.prettify('utf-8'))\n",
    "\n",
    "saveFullHtmlPage('https://www.youtube.com/results?search_query=' + keyWord, keyWord)\n",
    "\n",
    "with open(keyWord + \".html\") as fp:\n",
    "        soup = BeautifulSoup(fp, 'html.parser')\n",
    "\n",
    "# \"videoIds\": [\"\n",
    "\n",
    "a = soup.select(\"body\")[0]\n",
    "\n",
    "paragraphs = []\n",
    "for x in a:\n",
    "    paragraphs.append(str(x))\n",
    "\n",
    "for i, a in enumerate(paragraphs):\n",
    "    if \"\\\"videoIds\\\":[\\\"\" in a:\n",
    "        b = paragraphs[31]\n",
    "\n",
    "\n",
    "match=(re.search(\"videoIds\", b))\n",
    "\n",
    "result = [_.start() for _ in re.finditer(\"\\\"videoIds\\\":\", b)]\n",
    "\n",
    "result = np.add(result, 13).tolist()\n",
    "vidoes = set()\n",
    "for n in result:\n",
    "    vidoes.add(b[n:n+11])\n",
    "\n",
    "vidoes = list(vidoes)\n",
    "for i in range(len(vidoes)):\n",
    "    vidoes[i] = \"https://www.youtube.com/watch?v=\" + vidoes[i]\n",
    "#     vidoes[i] = \"youtube.com/watch?v=\" + vidoes[i]\n",
    "vidoes\n",
    "\n",
    "subprocess.run(('rm '+ keyWord + '.html'), shell=True)\n",
    "subprocess.run(('rm -rf '+ keyWord + '_files'), shell=True)"
   ]
  },
  {
   "cell_type": "code",
   "execution_count": 19,
   "id": "824482cd",
   "metadata": {},
   "outputs": [
    {
     "data": {
      "text/plain": [
       "['https://www.youtube.com/watch?v=adzkM1nxG48',\n",
       " 'https://www.youtube.com/watch?v=3-NTv0CdFCk',\n",
       " 'https://www.youtube.com/watch?v=wwFv4vuocdk',\n",
       " 'https://www.youtube.com/watch?v=nrx5_OeT8WM',\n",
       " 'https://www.youtube.com/watch?v=qWsk-kp8g7E',\n",
       " 'https://www.youtube.com/watch?v=lXjI044JsJQ',\n",
       " 'https://www.youtube.com/watch?v=arCTOMGT9do',\n",
       " 'https://www.youtube.com/watch?v=omEuqt19Uhs',\n",
       " 'https://www.youtube.com/watch?v=zmUaVNrrf0M',\n",
       " 'https://www.youtube.com/watch?v=s7cEZqe1Im4',\n",
       " 'https://www.youtube.com/watch?v=tmSzRx9RYLk',\n",
       " 'https://www.youtube.com/watch?v=DCHbhDxBLko',\n",
       " 'https://www.youtube.com/watch?v=8ixb_1j-LQk',\n",
       " 'https://www.youtube.com/watch?v=yRSdPSQiAME',\n",
       " 'https://www.youtube.com/watch?v=Jg1j5Ed_zt4',\n",
       " 'https://www.youtube.com/watch?v=i2YYyjZxmWA',\n",
       " 'https://www.youtube.com/watch?v=3SaVOpgSa6M',\n",
       " 'https://www.youtube.com/watch?v=KHPpW_ScIc8',\n",
       " 'https://www.youtube.com/watch?v=OIKC2ggCed4',\n",
       " 'https://www.youtube.com/watch?v=RRAgQY34huU',\n",
       " 'https://www.youtube.com/watch?v=f_HmF84G7ZY',\n",
       " 'https://www.youtube.com/watch?v=vTKyzVFGNew',\n",
       " 'https://www.youtube.com/watch?v=1nFYmIh0FZk',\n",
       " 'https://www.youtube.com/watch?v=dz553K-tnNc',\n",
       " 'https://www.youtube.com/watch?v=m4QklgrKNCE',\n",
       " 'https://www.youtube.com/watch?v=KTkW636B8xg',\n",
       " 'https://www.youtube.com/watch?v=VDmIrxmubQQ',\n",
       " 'https://www.youtube.com/watch?v=ZqK2As0qimM',\n",
       " 'https://www.youtube.com/watch?v=UZWmtxLiiFE',\n",
       " 'https://www.youtube.com/watch?v=zAdELND4b1k',\n",
       " 'https://www.youtube.com/watch?v=0pObLdN9ICg',\n",
       " 'https://www.youtube.com/watch?v=ox7RsX1Ee34',\n",
       " 'https://www.youtube.com/watch?v=DRg7cbsFJ34',\n",
       " 'https://www.youtube.com/watch?v=w6NxHj3L_XY',\n",
       " 'https://www.youtube.com/watch?v=d0BNwyrEDiA',\n",
       " 'https://www.youtube.com/watch?v=w9_-SCFNeag',\n",
       " 'https://www.youtube.com/watch?v=0daHxM-wp3g',\n",
       " 'https://www.youtube.com/watch?v=9PBZy9j3H3I']"
      ]
     },
     "execution_count": 19,
     "metadata": {},
     "output_type": "execute_result"
    }
   ],
   "source": [
    "vidoes"
   ]
  },
  {
   "cell_type": "code",
   "execution_count": 20,
   "id": "4f2105ca",
   "metadata": {},
   "outputs": [
    {
     "name": "stdout",
     "output_type": "stream",
     "text": [
      "[youtube] cOUBZjWXc5E: Downloading webpage\n",
      "[download] Destination: TWICE 'FANCY' Cute Video-cOUBZjWXc5E.mp4\n",
      "[download] 100% of 962.62KiB in 00:1679KiB/s ETA 00:00\n",
      "[PySceneDetect] PySceneDetect v0.6.0.3\n",
      "[PySceneDetect] Image output format set: JPEG [Quality: 95]\n",
      "[PySceneDetect] Detecting scenes...\n"
     ]
    },
    {
     "name": "stderr",
     "output_type": "stream",
     "text": [
      "100%|██████████| 6504/6504 [00:05<00:00, 1219.12frames/s]\n",
      "  0%|          | 0/33 [00:00<?, ?images/s]"
     ]
    },
    {
     "name": "stdout",
     "output_type": "stream",
     "text": [
      "[PySceneDetect] Processed 6504 frames in 5.5 seconds (average 1189.03 FPS).\n",
      "[PySceneDetect] Detected 11 scenes, average shot length 19.7 seconds.\n",
      "[PySceneDetect] Comma-separated timecode list:\n",
      "  00:00:37.371,00:01:20.080,00:01:25.419,00:01:41.435,00:01:46.773,00:02:02.789,00:02:45.499,00:03:01.515,00:03:10.557,00:03:36.483\n",
      "[PySceneDetect] Generating output images (3 per scene)...\n"
     ]
    },
    {
     "name": "stderr",
     "output_type": "stream",
     "text": [
      "100%|██████████| 33/33 [00:01<00:00, 27.95images/s]\n"
     ]
    }
   ],
   "source": [
    "for i in range(1):\n",
    "#     subprocess.run('youtube-dl -f worstvideo[ext=mp4] '+ vidoes[i], shell=True)\n",
    "    subprocess.run('youtube-dl -f worstvideo[ext=mp4] https://www.youtube.com/watch?v=cOUBZjWXc5E', shell=True)\n",
    "    subprocess.run('scenedetect --input *.mp4 detect-content save-images', shell=True)\n",
    "    subprocess.run('magick *.jpg images.gif', shell=True)\n",
    "    subprocess.run('rm -rf *.jpg', shell=True)"
   ]
  },
  {
   "cell_type": "code",
   "execution_count": 3,
   "id": "e4b44c4c",
   "metadata": {},
   "outputs": [
    {
     "name": "stdout",
     "output_type": "stream",
     "text": [
      "[youtube] LPGUtKKO6F8: Downloading webpage\n",
      "[download] Destination: 10-Second Video - Sausage Crescent Cheese Balls-LPGUtKKO6F8.mp4\n",
      "[download] 100% of 132.36KiB in 00:0259KiB/s ETA 00:00\n"
     ]
    },
    {
     "data": {
      "text/plain": [
       "CompletedProcess(args='youtube-dl -f worstvideo[ext=mp4] https://www.youtube.com/watch?v=LPGUtKKO6F8', returncode=0)"
      ]
     },
     "execution_count": 3,
     "metadata": {},
     "output_type": "execute_result"
    }
   ],
   "source": [
    "subprocess.run('youtube-dl -f worstvideo[ext=mp4] https://www.youtube.com/watch?v=LPGUtKKO6F8', shell=True)"
   ]
  },
  {
   "cell_type": "code",
   "execution_count": null,
   "id": "4a6ef32d",
   "metadata": {},
   "outputs": [],
   "source": []
  }
 ],
 "metadata": {
  "kernelspec": {
   "display_name": "Python 3 (ipykernel)",
   "language": "python",
   "name": "python3"
  },
  "language_info": {
   "codemirror_mode": {
    "name": "ipython",
    "version": 3
   },
   "file_extension": ".py",
   "mimetype": "text/x-python",
   "name": "python",
   "nbconvert_exporter": "python",
   "pygments_lexer": "ipython3",
   "version": "3.10.8"
  }
 },
 "nbformat": 4,
 "nbformat_minor": 5
}
