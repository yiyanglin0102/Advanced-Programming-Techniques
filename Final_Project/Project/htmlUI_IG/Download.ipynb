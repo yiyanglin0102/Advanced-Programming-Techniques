{
 "cells": [
  {
   "cell_type": "code",
   "execution_count": null,
   "id": "8e37c313",
   "metadata": {},
   "outputs": [],
   "source": [
    "#!/usr/bin/env python\n",
    "# coding: utf-8\n",
    "\n",
    "import os, sys, re, subprocess, requests, numpy as np, glob\n",
    "from instaloader import Instaloader, Profile, instaloader\n",
    "from urllib.parse import urljoin\n",
    "from bs4 import BeautifulSoup\n",
    "\n",
    "\n",
    "subprocess.run(('rm -rf 0 1 2 3 4 5 6 7 8 9'), shell=True)\n",
    "\n",
    "inputString = 'airplane'\n",
    "keyword = '#' + inputString\n",
    "p = subprocess.Popen('instaloader --login=ylin363 --password=@CS622 --post-filter=\"is_video\" ' + '\\\"' + keyword + '\\\"', stdout=subprocess.PIPE, shell=True)\n",
    "\n",
    "path = os.getcwd() + \"/\" + keyword\n",
    "\n",
    "while True:\n",
    "    counter = len(glob.glob1(path,\"*.mp4\"))\n",
    "    if counter >= 10:\n",
    "        p.kill()\n",
    "        break\n",
    "\n",
    "subprocess.run('cd ' + '.\\/' + keyword + ' ; rm -rf *.jpg ; rm -rf *.txt ; rm -rf *.xz ; cd .. ; mv ' + '.\\/' + keyword + ' ' + inputString, shell=True)\n",
    "\n",
    "fileNameList = os.listdir('./' + inputString)\n",
    "\n",
    "\n",
    "for i, name in enumerate(fileNameList):\n",
    "    subprocess.run('mkdir ' + str(i), shell=True)\n",
    "    subprocess.run('mv ' + inputString +'\\/' + name + ' '+ str(i), shell=True)\n",
    "\n",
    "subprocess.run('rmdir ' + inputString, shell=True)\n"
   ]
  },
  {
   "cell_type": "code",
   "execution_count": null,
   "id": "8c2fd2ae",
   "metadata": {},
   "outputs": [],
   "source": []
  },
  {
   "cell_type": "code",
   "execution_count": 22,
   "id": "bc888892",
   "metadata": {},
   "outputs": [],
   "source": [
    "def delete_first_line(filename):\n",
    "    with open(filename, 'r') as fin:\n",
    "        data = fin.read().splitlines(True)\n",
    "    with open(filename, 'w') as fout:\n",
    "        fout.writelines(data[1:])\n",
    "        \n",
    "def line_prepender(filename, line):\n",
    "    with open(filename, 'r+') as f:\n",
    "        content = f.read()\n",
    "        f.seek(0, 0)\n",
    "        f.write(line.rstrip('\\r\\n') + '\\n' + content)\n",
    "        \n",
    "s = \"let object = {link0:\\\"\"+os.getcwd() + '/0/' +fileNameList[0]+\"\\\", link1:\\\"\"+os.getcwd() + '/1/' +fileNameList[1]+\"\\\", link2:\\\"\"+os.getcwd() + '/2/' +fileNameList[2]+\"\\\",  link3:\\\"\"+os.getcwd() + '/3/' +fileNameList[3]+\"\\\", link4:\\\"\"+os.getcwd() + '/4/' +fileNameList[4]+\"\\\", link5:\\\"\"+os.getcwd() + '/5/' +fileNameList[5]+\"\\\", link6:\\\"\"+os.getcwd() + '/6/' +fileNameList[6]+\"\\\", link7:\\\"\"+os.getcwd() + '/7/' +fileNameList[7]+\"\\\", link8:\\\"\"+os.getcwd() + '/8/' +fileNameList[8]+\"\\\", link9:\\\"\"+os.getcwd() + '/9/' +fileNameList[9]+\"\\\"}\"\n",
    "        \n",
    "delete_first_line(\"script.js\")\n",
    "line_prepender(\"script.js\", s)"
   ]
  },
  {
   "cell_type": "code",
   "execution_count": 5,
   "id": "04c4dd0e",
   "metadata": {},
   "outputs": [],
   "source": [
    "\n",
    "for i in range(10):\n",
    "    subprocess.run('cd ' + str(i) + '; echo \"import subprocess\\nsubprocess.run(\\'scenedetect --input *.mp4 detect-content save-images; magick *.jpg images.gif; rm -rf *.jpg\\', shell=True)\" > ' + str(i) + '.py; '\n",
    "                , shell=True)\n"
   ]
  },
  {
   "cell_type": "code",
   "execution_count": 6,
   "id": "90d563df",
   "metadata": {},
   "outputs": [
    {
     "name": "stdout",
     "output_type": "stream",
     "text": [
      "[PySceneDetect] PySceneDetect v0.6.0.3\n",
      "[PySceneDetect] PySceneDetect v0.6.0.3\n",
      "[PySceneDetect] Image output format set: JPEG [Quality: 95]\n",
      "[PySceneDetect] Detecting scenes...\n",
      "[PySceneDetect] Downscale factor set to 2, effective resolution: 360 x 360\n",
      "[PySceneDetect] PySceneDetect v0.6.0.3\n",
      "[PySceneDetect] PySceneDetect v0.6.0.3\n",
      "[PySceneDetect] PySceneDetect v0.6.0.3\n",
      "[PySceneDetect] Image output format set: JPEG [Quality: 95]\n",
      "[PySceneDetect] Detecting scenes...\n",
      "[PySceneDetect] Downscale factor set to 2, effective resolution: 320 x 320\n",
      "[PySceneDetect] PySceneDetect v0.6.0.3\n",
      "[PySceneDetect] Image output format set: JPEG [Quality: 95]\n",
      "[PySceneDetect] Detecting scenes...\n",
      "[PySceneDetect] Image output format set: JPEG [Quality: 95]\n",
      "[PySceneDetect] Detecting scenes...\n",
      "[PySceneDetect] PySceneDetect v0.6.0.3\n",
      "[PySceneDetect] Image output format set: JPEG [Quality: 95]\n",
      "[PySceneDetect] Detecting scenes...\n",
      "[PySceneDetect] Downscale factor set to 4, effective resolution: 270 x 270\n",
      "[PySceneDetect] PySceneDetect v0.6.0.3\n"
     ]
    },
    {
     "name": "stderr",
     "output_type": "stream",
     "text": [
      "\r",
      "  0%|          | 0/1166 [00:00<?, ?frames/s]"
     ]
    },
    {
     "name": "stdout",
     "output_type": "stream",
     "text": [
      "[PySceneDetect] Image output format set: JPEG [Quality: 95]\n",
      "[PySceneDetect] Detecting scenes...\n",
      "[PySceneDetect] Downscale factor set to 2, effective resolution: 360 x 360\n",
      "[PySceneDetect] Downscale factor set to 2, effective resolution: 360 x 450\n",
      "[PySceneDetect] PySceneDetect v0.6.0.3\n",
      "[PySceneDetect] Image output format set: JPEG [Quality: 95]\n",
      "[PySceneDetect] Detecting scenes...\n",
      "[PySceneDetect] Downscale factor set to 2, effective resolution: 360 x 448\n",
      "[PySceneDetect] Image output format set: JPEG [Quality: 95]\n",
      "[PySceneDetect] Detecting scenes...\n",
      "[PySceneDetect] Downscale factor set to 2, effective resolution: 360 x 640\n",
      "[PySceneDetect] PySceneDetect v0.6.0.3\n",
      "[PySceneDetect] Image output format set: JPEG [Quality: 95]\n",
      "[PySceneDetect] Detecting scenes...\n",
      "[PySceneDetect] Downscale factor set to 4, effective resolution: 270 x 270\n",
      "[PySceneDetect] Image output format set: JPEG [Quality: 95]\n",
      "[PySceneDetect] Detecting scenes...\n",
      "[PySceneDetect] Downscale factor set to 2, effective resolution: 320 x 320\n"
     ]
    },
    {
     "name": "stderr",
     "output_type": "stream",
     "text": [
      "  5%|▌         | 19/360 [00:01<00:22, 14.86frames/s]]"
     ]
    },
    {
     "name": "stdout",
     "output_type": "stream",
     "text": [
      "[PySceneDetect] Processed 192 frames in 6.8 seconds (average 28.27 FPS).\n",
      "[PySceneDetect] Detected 1 scenes, average shot length 6.4 seconds.\n",
      "[PySceneDetect] Generating output images (3 per scene)...\n",
      "[PySceneDetect] Processed 150 frames in 9.1 seconds (average 16.52 FPS).\n",
      "[PySceneDetect] Detected 1 scenes, average shot length 5.0 seconds.\n",
      "[PySceneDetect] Generating output images (3 per scene)...\n",
      "[PySceneDetect] Processed 300 frames in 13.4 seconds (average 22.37 FPS).\n",
      "[PySceneDetect] Detected 1 scenes, average shot length 10.0 seconds.\n",
      "[PySceneDetect] Generating output images (3 per scene)...\n",
      "[PySceneDetect] Processed 439 frames in 13.8 seconds (average 31.77 FPS).\n",
      "[PySceneDetect] Detected 10 scenes, average shot length 1.5 seconds.\n",
      "[PySceneDetect] Comma-separated timecode list:\n",
      "  00:00:00.633,00:00:01.767,00:00:02.933,00:00:04.100,00:00:05.300,00:00:06.467,00:00:07.600,00:00:10.000,00:00:14.600\n",
      "[PySceneDetect] Generating output images (3 per scene)...\n",
      "[PySceneDetect] Processed 450 frames in 15.2 seconds (average 29.64 FPS).\n",
      "[PySceneDetect] Detected 1 scenes"
     ]
    },
    {
     "name": "stderr",
     "output_type": "stream",
     "text": [
      "\r",
      " 10%|█         | 15/150 [00:01<00:10, 12.30frames/s]\r",
      "  2%|▏         | 25/1166 [00:01<01:09, 16.41frames/s]\r",
      "  2%|▎         | 15/600 [00:01<00:43, 13.51frames/s]\r",
      "  6%|▌         | 38/655 [00:01<00:25, 24.29frames/s]\r",
      "  4%|▍         | 17/450 [00:00<00:22, 18.89frames/s]\r",
      " 10%|█         | 20/192 [00:01<00:07, 22.26frames/s]\r",
      "  6%|▌         | 22/360 [00:01<00:19, 17.17frames/s]\r",
      " 11%|█▏        | 17/150 [00:01<00:10, 13.25frames/s]\r",
      "  6%|▌         | 27/439 [00:01<00:15, 26.63frames/s]\r",
      "  1%|          | 10/1350 [00:01<02:57,  7.56frames/s]\r",
      "  7%|▋         | 44/655 [00:01<00:20, 30.40frames/s]\r",
      "  2%|▏         | 29/1166 [00:02<01:03, 18.04frames/s]\r",
      " 10%|█         | 30/300 [00:01<00:15, 17.77frames/s]\r",
      "  3%|▎         | 17/600 [00:01<00:43, 13.39frames/s]\r",
      " 12%|█▏        | 23/192 [00:01<00:07, 22.15frames/s]\r",
      "  7%|▋         | 24/360 [00:01<00:19, 17.08frames/s]\r",
      "  7%|▋         | 30/439 [00:01<00:15, 26.70frames/s]\r",
      "  5%|▌         | 24/450 [00:01<00:18, 23.63frames/s]\r",
      "  3%"
     ]
    },
    {
     "name": "stdout",
     "output_type": "stream",
     "text": [
      ", average shot length 15.0 seconds.\n",
      "[PySceneDetect] Generating output images (3 per scene)...\n",
      "[PySceneDetect] Processed 360 frames in 16.0 seconds (average 22.54 FPS).\n",
      "[PySceneDetect] Detected 1 scenes, average shot length 12.0 seconds.\n",
      "[PySceneDetect] Processed 655 frames in 16.1 seconds (average 40.77 FPS).\n",
      "[PySceneDetect] Detected 2 scenes, average shot length 10.9 seconds.\n",
      "[PySceneDetect] Comma-separated timecode list:\n",
      "  00:00:17.400\n",
      "[PySceneDetect] Generating output images (3 per scene)...\n",
      "[PySceneDetect] Generating output images (3 per scene)...\n"
     ]
    },
    {
     "data": {
      "text/plain": [
       "CompletedProcess(args='cd 0; python3 0.py & cd .. ; cd 1; python3 1.py & cd .. ; cd 2; python3 2.py & cd .. ; cd 3; python3 3.py & cd .. ; cd 4; python3 4.py & cd .. ; cd 5; python3 5.py & cd .. ; cd 6; python3 6.py & cd .. ; cd 7; python3 7.py & cd .. ; cd 8; python3 8.py & cd .. ; cd 9; python3 9.py', returncode=0)"
      ]
     },
     "execution_count": 6,
     "metadata": {},
     "output_type": "execute_result"
    },
    {
     "name": "stdout",
     "output_type": "stream",
     "text": [
      "[PySceneDetect] Processed 600 frames in 25.2 seconds (average 23.85 FPS).\n",
      "[PySceneDetect] Detected 1 scenes, average shot length 20.0 seconds.\n",
      "[PySceneDetect] Generating output images (3 per scene)...\n",
      "[PySceneDetect] Processed 1166 frames in 28.1 seconds (average 41.55 FPS).\n",
      "[PySceneDetect] Detected 2 scenes, average shot length 19.4 seconds.\n",
      "[PySceneDetect] Comma-separated timecode list:\n",
      "  00:00:27.667\n",
      "[PySceneDetect] Generating output images (3 per scene)...\n"
     ]
    }
   ],
   "source": [
    "subprocess.run('cd 0; python3 0.py & cd .. ; cd 1; python3 1.py & cd .. ; cd 2; python3 2.py & cd .. ; cd 3; python3 3.py & cd .. ; cd 4; python3 4.py & cd .. ; cd 5; python3 5.py & cd .. ; cd 6; python3 6.py & cd .. ; cd 7; python3 7.py & cd .. ; cd 8; python3 8.py & cd .. ; cd 9; python3 9.py', shell=True)\n"
   ]
  },
  {
   "cell_type": "code",
   "execution_count": null,
   "id": "43666aba",
   "metadata": {},
   "outputs": [],
   "source": []
  }
 ],
 "metadata": {
  "kernelspec": {
   "display_name": "Python 3 (ipykernel)",
   "language": "python",
   "name": "python3"
  },
  "language_info": {
   "codemirror_mode": {
    "name": "ipython",
    "version": 3
   },
   "file_extension": ".py",
   "mimetype": "text/x-python",
   "name": "python",
   "nbconvert_exporter": "python",
   "pygments_lexer": "ipython3",
   "version": "3.10.8"
  }
 },
 "nbformat": 4,
 "nbformat_minor": 5
}
