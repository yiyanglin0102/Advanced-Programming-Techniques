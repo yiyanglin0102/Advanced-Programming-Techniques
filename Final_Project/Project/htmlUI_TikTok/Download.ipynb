{
 "cells": [
  {
   "cell_type": "code",
   "execution_count": 31,
   "id": "8e37c313",
   "metadata": {},
   "outputs": [],
   "source": [
    "#!/usr/bin/env python\n",
    "# coding: utf-8\n",
    "\n",
    "import os, sys, re, subprocess, requests, numpy as np\n",
    "from urllib.parse import urljoin\n",
    "from bs4 import BeautifulSoup\n",
    "\n",
    "keyword = 'airplane'\n",
    "# keyword = sys.argv[1]\n",
    "\n",
    "subprocess.run(('rm -rf 0 1 2 3 4 5 6 7 8 9'), shell=True)\n",
    "\n",
    "\n",
    "def saveFullHtmlPage(url, pagepath='page', session=requests.Session(), html=None):\n",
    "    \"\"\"Save web page html and supported contents        \n",
    "        * pagepath : path-to-page   \n",
    "        It will create a file  `'path-to-page'.html` and a folder `'path-to-page'_files`\n",
    "    \"\"\"\n",
    "    def savenRename(soup, pagefolder, session, url, tag, inner):\n",
    "        if not os.path.exists(pagefolder): # create only once\n",
    "            os.mkdir(pagefolder)\n",
    "        for res in soup.findAll(tag):   # images, css, etc..\n",
    "            if res.has_attr(inner): # check inner tag (file object) MUST exists  \n",
    "                try:\n",
    "                    filename, ext = os.path.splitext(os.path.basename(res[inner])) # get name and extension\n",
    "                    filename = re.sub('\\W+', '', filename) + ext # clean special chars from name\n",
    "                    fileurl = urljoin(url, res.get(inner))\n",
    "                    filepath = os.path.join(pagefolder, filename)\n",
    "                    # rename html ref so can move html and folder of files anywhere\n",
    "                    res[inner] = os.path.join(os.path.basename(pagefolder), filename)\n",
    "                    if not os.path.isfile(filepath): # was not downloaded\n",
    "                        with open(filepath, 'wb') as file:\n",
    "                            filebin = session.get(fileurl)\n",
    "                            file.write(filebin.content)\n",
    "                except Exception as exc:\n",
    "                    print(exc, file=sys.stderr)\n",
    "    if not html:\n",
    "        html = session.get(url).text\n",
    "    soup = BeautifulSoup(html, \"html.parser\")\n",
    "    path, _ = os.path.splitext(pagepath)\n",
    "    pagefolder = path+'_files' # page contents folder\n",
    "    tags_inner = {'img': 'src', 'link': 'href', 'script': 'src'} # tag&inner tags to grab\n",
    "    for tag, inner in tags_inner.items(): # saves resource files and rename refs\n",
    "        savenRename(soup, pagefolder, session, url, tag, inner)\n",
    "    with open(path+'.html', 'wb') as file: # saves modified html doc\n",
    "        file.write(soup.prettify('utf-8'))\n",
    "\n",
    "saveFullHtmlPage('https://www.tiktok.com/tag/' + keyword , keyword)\n",
    "\n"
   ]
  },
  {
   "cell_type": "code",
   "execution_count": 32,
   "id": "09f67cec",
   "metadata": {},
   "outputs": [],
   "source": [
    "with open(keyword + \".html\") as fp:\n",
    "    soup = BeautifulSoup(fp, 'html.parser')\n",
    "\n",
    "videos = []\n",
    "tags = soup.body.find_all('div')[1].find_all(\"a\")\n",
    "for link in tags:\n",
    "    if \"video\" in str(link.get('href')) and \"www.tiktok.com\" in str(link.get('href')):\n",
    "        videos.append(str(link.get('href')))"
   ]
  },
  {
   "cell_type": "code",
   "execution_count": 33,
   "id": "bdbe13e8",
   "metadata": {},
   "outputs": [
    {
     "data": {
      "text/plain": [
       "['https://www.tiktok.com/@janelleandkate/video/6899517608735935750',\n",
       " 'https://www.tiktok.com/@j.s2008/video/7121445014042840326',\n",
       " 'https://www.tiktok.com/@millions/video/7082228487389580587',\n",
       " 'https://www.tiktok.com/@duplocomando/video/6791920569441996038',\n",
       " 'https://www.tiktok.com/@sugeneshin_/video/6974088999627410693',\n",
       " 'https://www.tiktok.com/@ihatekylerhagen/video/6992767131490225414',\n",
       " 'https://www.tiktok.com/@pilots_gifts/video/6820209094004198657',\n",
       " 'https://www.tiktok.com/@thisaviationguy/video/7121314676201245957',\n",
       " 'https://www.tiktok.com/@ninefivegarage/video/7022721798034771206',\n",
       " 'https://www.tiktok.com/@ninefivegarage/video/7109853620807437611',\n",
       " 'https://www.tiktok.com/@aviatorairlines/video/6836972768131550470',\n",
       " 'https://www.tiktok.com/@zachking/video/6822628821674593541',\n",
       " 'https://www.tiktok.com/@andragogan/video/6869835465051196678',\n",
       " 'https://www.tiktok.com/@oddsbible/video/7069732664231742726',\n",
       " 'https://www.tiktok.com/@nostalgicqueen777/video/7113655771753155886',\n",
       " 'https://www.tiktok.com/@kristijanilicic/video/6783309098122284293']"
      ]
     },
     "execution_count": 33,
     "metadata": {},
     "output_type": "execute_result"
    }
   ],
   "source": [
    "videos"
   ]
  },
  {
   "cell_type": "code",
   "execution_count": 34,
   "id": "62fbe560",
   "metadata": {},
   "outputs": [
    {
     "data": {
      "text/plain": [
       "CompletedProcess(args='rm -rf airplane_files', returncode=0)"
      ]
     },
     "execution_count": 34,
     "metadata": {},
     "output_type": "execute_result"
    }
   ],
   "source": [
    "\n",
    "subprocess.run(('rm '+ keyword + '.html'), shell=True)\n",
    "subprocess.run(('rm -rf '+ keyword + '_files'), shell=True)\n"
   ]
  },
  {
   "cell_type": "code",
   "execution_count": 35,
   "id": "6d0d0041",
   "metadata": {},
   "outputs": [
    {
     "data": {
      "text/plain": [
       "['https://www.tiktok.com/@janelleandkate/video/6899517608735935750',\n",
       " 'https://www.tiktok.com/@j.s2008/video/7121445014042840326',\n",
       " 'https://www.tiktok.com/@millions/video/7082228487389580587',\n",
       " 'https://www.tiktok.com/@duplocomando/video/6791920569441996038',\n",
       " 'https://www.tiktok.com/@sugeneshin_/video/6974088999627410693',\n",
       " 'https://www.tiktok.com/@ihatekylerhagen/video/6992767131490225414',\n",
       " 'https://www.tiktok.com/@pilots_gifts/video/6820209094004198657',\n",
       " 'https://www.tiktok.com/@thisaviationguy/video/7121314676201245957',\n",
       " 'https://www.tiktok.com/@ninefivegarage/video/7022721798034771206',\n",
       " 'https://www.tiktok.com/@ninefivegarage/video/7109853620807437611']"
      ]
     },
     "execution_count": 35,
     "metadata": {},
     "output_type": "execute_result"
    }
   ],
   "source": [
    "videos = videos[:10]\n",
    "videos"
   ]
  },
  {
   "cell_type": "code",
   "execution_count": 36,
   "id": "4f71b4ea",
   "metadata": {},
   "outputs": [],
   "source": [
    "def delete_first_line(filename):\n",
    "    with open(filename, 'r') as fin:\n",
    "        data = fin.read().splitlines(True)\n",
    "    with open(filename, 'w') as fout:\n",
    "        fout.writelines(data[1:])\n",
    "        \n",
    "def line_prepender(filename, line):\n",
    "    with open(filename, 'r+') as f:\n",
    "        content = f.read()\n",
    "        f.seek(0, 0)\n",
    "        f.write(line.rstrip('\\r\\n') + '\\n' + content)\n",
    "        \n",
    "s = \"let object = {link0:\\\"\"+videos[0]+\"\\\", link1:\\\"\"+videos[1]+\"\\\", link2:\\\"\"+videos[2]+\"\\\", link3:\\\"\"+videos[3]+\"\\\", link4:\\\"\"+videos[4]+\"\\\", link5:\\\"\"+videos[5]+\"\\\", link6:\\\"\"+videos[6]+\"\\\", link7:\\\"\"+videos[7]+\"\\\", link8:\\\"\"+videos[8]+\"\\\", link9:\\\"\"+videos[9]+\"\\\"}\"\n",
    "        \n",
    "delete_first_line(\"script.js\")\n",
    "line_prepender(\"script.js\", s)"
   ]
  },
  {
   "cell_type": "code",
   "execution_count": null,
   "id": "9bc49af3",
   "metadata": {},
   "outputs": [],
   "source": [
    "# subprocess.run('python3 -m tiktok_downloader --url https://www.tiktok.com/@sneakyhero93/video/7159191712911363334 --snaptik --save tiktok.mp4', shell=True)\n",
    "\n"
   ]
  },
  {
   "cell_type": "code",
   "execution_count": null,
   "id": "e038e0aa",
   "metadata": {},
   "outputs": [],
   "source": [
    "\n",
    "for i in range(10):\n",
    "    subprocess.run('mkdir '+ str(i) + '; cd ' + str(i) + '; echo \"import subprocess\\nsubprocess.run(\\'python3 -m tiktok_downloader --url '+videos[i]+' --snaptik --save tiktok.mp4 '+'; scenedetect --input *.mp4 detect-content save-images; magick *.jpg images.gif; rm -rf *.jpg\\', shell=True)\" > ' + str(i) + '.py; '\n",
    "                , shell=True)\n"
   ]
  },
  {
   "cell_type": "code",
   "execution_count": null,
   "id": "a419ba0c",
   "metadata": {},
   "outputs": [],
   "source": [
    "subprocess.run('cd 0; python3 0.py & cd .. ; cd 1; python3 1.py & cd .. ; cd 2; python3 2.py & cd .. ; cd 3; python3 3.py & cd .. ; cd 4; python3 4.py & cd .. ; cd 5; python3 5.py & cd .. ; cd 6; python3 6.py & cd .. ; cd 7; python3 7.py & cd .. ; cd 8; python3 8.py & cd .. ; cd 9; python3 9.py', shell=True)\n"
   ]
  },
  {
   "cell_type": "code",
   "execution_count": null,
   "id": "107b7d17",
   "metadata": {},
   "outputs": [],
   "source": []
  },
  {
   "cell_type": "code",
   "execution_count": null,
   "id": "26741b7f",
   "metadata": {},
   "outputs": [],
   "source": []
  },
  {
   "cell_type": "code",
   "execution_count": null,
   "id": "dd834c13",
   "metadata": {},
   "outputs": [],
   "source": []
  },
  {
   "cell_type": "code",
   "execution_count": null,
   "id": "1785a981",
   "metadata": {},
   "outputs": [],
   "source": []
  }
 ],
 "metadata": {
  "kernelspec": {
   "display_name": "Python 3 (ipykernel)",
   "language": "python",
   "name": "python3"
  },
  "language_info": {
   "codemirror_mode": {
    "name": "ipython",
    "version": 3
   },
   "file_extension": ".py",
   "mimetype": "text/x-python",
   "name": "python",
   "nbconvert_exporter": "python",
   "pygments_lexer": "ipython3",
   "version": "3.10.8"
  }
 },
 "nbformat": 4,
 "nbformat_minor": 5
}
