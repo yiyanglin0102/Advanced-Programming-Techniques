{
 "cells": [
  {
   "cell_type": "code",
   "execution_count": 1,
   "id": "8e37c313",
   "metadata": {},
   "outputs": [
    {
     "data": {
      "text/plain": [
       "CompletedProcess(args='rm -rf love_files', returncode=0)"
      ]
     },
     "execution_count": 1,
     "metadata": {},
     "output_type": "execute_result"
    }
   ],
   "source": [
    "#!/usr/bin/env python\n",
    "# coding: utf-8\n",
    "\n",
    "import os, sys, re, subprocess, requests, numpy as np\n",
    "from urllib.parse import urljoin\n",
    "from bs4 import BeautifulSoup\n",
    "\n",
    "keyWord = 'love'\n",
    "\n",
    "def saveFullHtmlPage(url, pagepath='page', session=requests.Session(), html=None):\n",
    "    \"\"\"Save web page html and supported contents        \n",
    "        * pagepath : path-to-page   \n",
    "        It will create a file  `'path-to-page'.html` and a folder `'path-to-page'_files`\n",
    "    \"\"\"\n",
    "    def savenRename(soup, pagefolder, session, url, tag, inner):\n",
    "        if not os.path.exists(pagefolder): # create only once\n",
    "            os.mkdir(pagefolder)\n",
    "        for res in soup.findAll(tag):   # images, css, etc..\n",
    "            if res.has_attr(inner): # check inner tag (file object) MUST exists  \n",
    "                try:\n",
    "                    filename, ext = os.path.splitext(os.path.basename(res[inner])) # get name and extension\n",
    "                    filename = re.sub('\\W+', '', filename) + ext # clean special chars from name\n",
    "                    fileurl = urljoin(url, res.get(inner))\n",
    "                    filepath = os.path.join(pagefolder, filename)\n",
    "                    # rename html ref so can move html and folder of files anywhere\n",
    "                    res[inner] = os.path.join(os.path.basename(pagefolder), filename)\n",
    "                    if not os.path.isfile(filepath): # was not downloaded\n",
    "                        with open(filepath, 'wb') as file:\n",
    "                            filebin = session.get(fileurl)\n",
    "                            file.write(filebin.content)\n",
    "                except Exception as exc:\n",
    "                    print(exc, file=sys.stderr)\n",
    "    if not html:\n",
    "        html = session.get(url).text\n",
    "    soup = BeautifulSoup(html, \"html.parser\")\n",
    "    path, _ = os.path.splitext(pagepath)\n",
    "    pagefolder = path+'_files' # page contents folder\n",
    "    tags_inner = {'img': 'src', 'link': 'href', 'script': 'src'} # tag&inner tags to grab\n",
    "    for tag, inner in tags_inner.items(): # saves resource files and rename refs\n",
    "        savenRename(soup, pagefolder, session, url, tag, inner)\n",
    "    with open(path+'.html', 'wb') as file: # saves modified html doc\n",
    "        file.write(soup.prettify('utf-8'))\n",
    "\n",
    "saveFullHtmlPage('https://www.youtube.com/results?search_query=' + keyWord, keyWord)\n",
    "\n",
    "with open(keyWord + \".html\") as fp:\n",
    "        soup = BeautifulSoup(fp, 'html.parser')\n",
    "\n",
    "# \"videoIds\": [\"\n",
    "\n",
    "a = soup.select(\"body\")[0]\n",
    "\n",
    "paragraphs = []\n",
    "for x in a:\n",
    "    paragraphs.append(str(x))\n",
    "\n",
    "for i, a in enumerate(paragraphs):\n",
    "    if \"\\\"videoIds\\\":[\\\"\" in a:\n",
    "        b = paragraphs[31]\n",
    "\n",
    "\n",
    "match=(re.search(\"videoIds\", b))\n",
    "\n",
    "result = [_.start() for _ in re.finditer(\"\\\"videoIds\\\":\", b)]\n",
    "\n",
    "result = np.add(result, 13).tolist()\n",
    "videos = set()\n",
    "for n in result:\n",
    "    videos.add(b[n:n+11])\n",
    "\n",
    "videos = list(videos)\n",
    "for i in range(len(videos)):\n",
    "    videos[i] = \"https://www.youtube.com/watch?v=\" + videos[i]\n",
    "#     videos[i] = \"youtube.com/watch?v=\" + videos[i]\n",
    "videos\n",
    "\n",
    "subprocess.run(('rm '+ keyWord + '.html'), shell=True)\n",
    "subprocess.run(('rm -rf '+ keyWord + '_files'), shell=True)"
   ]
  },
  {
   "cell_type": "code",
   "execution_count": 2,
   "id": "824482cd",
   "metadata": {},
   "outputs": [
    {
     "data": {
      "text/plain": [
       "['https://www.youtube.com/watch?v=tmSzRx9RYLk',\n",
       " 'https://www.youtube.com/watch?v=Zwyf1D--96s',\n",
       " 'https://www.youtube.com/watch?v=3dblWlbBDiQ',\n",
       " 'https://www.youtube.com/watch?v=DRg7cbsFJ34',\n",
       " 'https://www.youtube.com/watch?v=Otl4DaNWEPM',\n",
       " 'https://www.youtube.com/watch?v=vW1iAXs11G0',\n",
       " 'https://www.youtube.com/watch?v=ox7RsX1Ee34',\n",
       " 'https://www.youtube.com/watch?v=bgjUzhdmmF0',\n",
       " 'https://www.youtube.com/watch?v=w6NxHj3L_XY',\n",
       " 'https://www.youtube.com/watch?v=P7MsQY-3o08']"
      ]
     },
     "execution_count": 2,
     "metadata": {},
     "output_type": "execute_result"
    }
   ],
   "source": [
    "videos = videos[0:10]\n",
    "videos\n"
   ]
  },
  {
   "cell_type": "code",
   "execution_count": 3,
   "id": "4f2105ca",
   "metadata": {},
   "outputs": [
    {
     "name": "stdout",
     "output_type": "stream",
     "text": [
      "[youtube] Zwyf1D--96s: Downloading webpage\n",
      "[youtube] 3dblWlbBDiQ: Downloading webpage\n",
      "[youtube] ox7RsX1Ee34: Downloading webpage\n",
      "[youtube] tmSzRx9RYLk: Downloading webpage\n",
      "[youtube] bgjUzhdmmF0: Downloading webpage\n",
      "[youtube] DRg7cbsFJ34: Downloading webpage\n",
      "[youtube] P7MsQY-3o08: Downloading webpage\n",
      "[youtube] w6NxHj3L_XY: Downloading webpage\n",
      "[youtube] vW1iAXs11G0: Downloading webpage\n",
      "[youtube] Otl4DaNWEPM: Downloading webpage\n",
      "[download] Destination: Frank Sinatra - L.O.V.E. (lyrics)-tmSzRx9RYLk.mp4\n",
      "[download]   5.0% of 302.03KiB at Unknown speed ETA Unknown ETA[download] Destination: Kendrick Lamar - LOVE. ft. Zacari-ox7RsX1Ee34.mp4\n",
      "[download]  20.9% of 302.03KiB at  1.93MiB/s ETA 00:00[download] Destination: Erica Mena & Safaree Reflect On Their Divorce 💔 Love & Hip Hop - Atlanta-3dblWlbBDiQ.mp4\n",
      "[download] 100% of 302.03KiB in 00:0094MiB/s ETA 00:00\n",
      "[download] Destination: LOVE.-w6NxHj3L_XY.mp4\n",
      "[download]   6.4% of 233.01KiB at 84.55KiB/s ETA 00:02[download] Destination: SK & Raven Lied _ Love Is Blind _ Season 3-Zwyf1D--96s.mp4\n",
      "[download]   2.5% of 1.23MiB at 92.76KiB/s ETA 00:13[download] Destination: MSA Limited Series _ 2 Boys And 1 Heart _ Last Episode-P7MsQY-3o08.mp4\n",
      "[download]   0.3% of 8.76MiB at 101.08KiB/s ETA 01:282"
     ]
    },
    {
     "name": "stderr",
     "output_type": "stream",
     "text": [
      "ERROR: unable to download video data: HTTP Error 403: Forbidden\n"
     ]
    },
    {
     "name": "stdout",
     "output_type": "stream",
     "text": [
      "[download]   1.9% of 3.21MiB at 85.72KiB/s ETA 00:37[download] Destination: Musiq Soulchild - Love-DRg7cbsFJ34.mp4\n",
      "[download]   3.1% of 480.38KiB at 71.89KiB/s ETA 00:06[PySceneDetect] PySceneDetect v0.6.0.3\n",
      "[download]   0.7% of 8.76MiB at 90.82KiB/s ETA 01:38[PySceneDetect] Image output format set: JPEG [Quality: 95]\n",
      "[PySceneDetect] Detecting scenes...\n",
      "[download] Destination: Joc Walks Off Stage After Kendra Suggests Divorce 🥴 Love & Hip Hop Atlanta-vW1iAXs11G0.mp4\n",
      "[download]  27.0% of 233.01KiB at 68.23KiB/s ETA 00:02[download] Destination: This Romance Scammer Actually Fell in Love and Risked it All-Otl4DaNWEPM.mp4\n",
      "[download]   0.4% of 3.26MiB at 105.25KiB/s ETA 00:31[PySceneDetect] PySceneDetect v0.6.0.3\n"
     ]
    },
    {
     "name": "stderr",
     "output_type": "stream",
     "text": [
      "\r",
      "  0%|          | 0/4555 [00:00<?, ?frames/s]\r",
      "  1%|          | 38/4555 [00:00<00:12, 373.61frames/s]Usage: scenedetect [OPTIONS] COMMAND1 [ARGS]... [COMMAND2 [ARGS]...]...\n",
      "Try 'scenedetect -h' for help.\n",
      "\n",
      "Error: Invalid value for -i/--input: Input error:\n",
      "\n",
      "\tVideo file not found.\n",
      "\n"
     ]
    },
    {
     "name": "stdout",
     "output_type": "stream",
     "text": [
      "\r",
      "[download]   6.5% of 480.38KiB at 64.83KiB/s ETA 00:06\r",
      "[download]   1.3% of 4.65MiB at 59.22KiB/s ETA 01:19\r",
      "[download]   1.5% of 2.09MiB at 81.11KiB/s ETA 00:25\r",
      "[download]   0.9% of 3.26MiB at 93.85KiB/s ETA 00:35"
     ]
    },
    {
     "name": "stderr",
     "output_type": "stream",
     "text": [
      "  2%|▏         | 76/4555 [00:00<00:12, 351.40frames/s]magick: unable to open image '*.jpg': No such file or directory @ error/blob.c/OpenBlob/3570.\n",
      "  7%|▋         | 307/4555 [00:00<00:06, 661.59frames/s]"
     ]
    },
    {
     "name": "stdout",
     "output_type": "stream",
     "text": [
      "\r",
      "[download]  10.1% of 1.23MiB at 82.45KiB/s ETA 00:13\r",
      "[download]   3.9% of 3.21MiB at 82.27KiB/s ETA 00:38\r",
      "[download]   1.9% of 3.26MiB at 87.40KiB/s ETA 00:37\r",
      "[download]   3.0% of 2.09MiB at 75.61KiB/s ETA 00:27\r",
      "[download]   1.4% of 8.76MiB at 85.84KiB/s ETA 01:43\r",
      "[download]  13.1% of 480.38KiB at 60.61KiB/s ETA 00:06"
     ]
    },
    {
     "name": "stderr",
     "output_type": "stream",
     "text": [
      " 21%|██        | 947/4555 [00:01<00:03, 1072.38frames/s]"
     ]
    },
    {
     "name": "stdout",
     "output_type": "stream",
     "text": [
      "\r",
      "[download]  54.0% of 233.01KiB at 64.32KiB/s ETA 00:01"
     ]
    },
    {
     "name": "stderr",
     "output_type": "stream",
     "text": [
      "\r",
      " 23%|██▎       | 1057/4555 [00:01<00:03, 1052.34frames/s]\r",
      " 26%|██▋       | 1203/4555 [00:01<00:02, 1168.31frames/s]"
     ]
    },
    {
     "name": "stdout",
     "output_type": "stream",
     "text": [
      "\r",
      "[download]   2.5% of 4.65MiB at 52.79KiB/s ETA 01:28\r",
      "[download]   3.8% of 3.26MiB at 83.71KiB/s ETA 00:38\r",
      "[download]  16.4% of 1.23MiB at 81.13KiB/s ETA 00:12"
     ]
    },
    {
     "name": "stderr",
     "output_type": "stream",
     "text": [
      " 37%|███▋      | 1696/4555 [00:01<00:02, 1100.45frames/s]"
     ]
    },
    {
     "name": "stdout",
     "output_type": "stream",
     "text": [
      "\r",
      "[download]   5.9% of 2.09MiB at 72.39KiB/s ETA 00:27\r",
      "[download]   6.3% of 3.21MiB at 80.98KiB/s ETA 00:37"
     ]
    },
    {
     "name": "stderr",
     "output_type": "stream",
     "text": [
      "\r",
      " 40%|███▉      | 1817/4555 [00:01<00:02, 1130.44frames/s]\r",
      " 43%|████▎     | 1943/4555 [00:01<00:02, 1164.07frames/s]"
     ]
    },
    {
     "name": "stdout",
     "output_type": "stream",
     "text": [
      "\r",
      "[download]  25.0% of 480.38KiB at 54.91KiB/s ETA 00:06\r",
      "[download]   2.3% of 8.76MiB at 78.99KiB/s ETA 01:50\r",
      "[download]  80.1% of 233.01KiB at 62.83KiB/s ETA 00:00"
     ]
    },
    {
     "name": "stderr",
     "output_type": "stream",
     "text": [
      "\r",
      " 45%|████▌     | 2061/4555 [00:02<00:02, 1003.18frames/s]\r",
      " 48%|████▊     | 2183/4555 [00:02<00:02, 1059.45frames/s]\r",
      " 51%|█████     | 2328/4555 [00:02<00:01, 1163.52frames/s]"
     ]
    },
    {
     "name": "stdout",
     "output_type": "stream",
     "text": [
      "\r",
      "[download]   3.5% of 4.65MiB at 53.34KiB/s ETA 01:26\r",
      "[download]   6.2% of 3.26MiB at 82.99KiB/s ETA 00:37"
     ]
    },
    {
     "name": "stderr",
     "output_type": "stream",
     "text": [
      "\r",
      " 54%|█████▍    | 2449/4555 [00:02<00:01, 1075.11frames/s]\r",
      " 56%|█████▌    | 2561/4555 [00:02<00:02, 987.87frames/s] "
     ]
    },
    {
     "name": "stdout",
     "output_type": "stream",
     "text": [
      "\r",
      "[download]  22.7% of 1.23MiB at 80.53KiB/s ETA 00:12\r",
      "[download]   8.7% of 3.21MiB at 80.45KiB/s ETA 00:37\r",
      "[download]   3.1% of 8.76MiB at 81.37KiB/s ETA 01:46\r",
      "[download]   9.2% of 2.09MiB at 68.10KiB/s ETA 00:28\r",
      "[download]  35.3% of 480.38KiB at 56.23KiB/s ETA 00:05\r",
      "[download] 100.0% of 233.01KiB at 64.17KiB/s ETA 00:00\r",
      "[download] 100% of 233.01KiB in 00:03\n"
     ]
    },
    {
     "name": "stderr",
     "output_type": "stream",
     "text": [
      " 67%|██████▋   | 3065/4555 [00:03<00:01, 905.17frames/s] "
     ]
    },
    {
     "name": "stdout",
     "output_type": "stream",
     "text": [
      "\r",
      "[download]   4.6% of 4.65MiB at 55.32KiB/s ETA 01:22"
     ]
    },
    {
     "name": "stderr",
     "output_type": "stream",
     "text": [
      "  1%|          | 63/5335 [00:00<00:08, 618.44frames/s]s] "
     ]
    },
    {
     "name": "stdout",
     "output_type": "stream",
     "text": [
      "[PySceneDetect] PySceneDetect v0.6.0.3\n",
      "[PySceneDetect] Image output format set: JPEG [Quality: 95]\n",
      "[PySceneDetect] Detecting scenes...\n",
      "\r",
      "[download]  29.0% of 1.23MiB at 80.45KiB/s ETA 00:11\r",
      "[download]   8.7% of 3.26MiB at 78.80KiB/s ETA 00:38\r",
      "[download]  11.1% of 3.21MiB at 80.39KiB/s ETA 00:36\r",
      "[download]  12.1% of 2.09MiB at 68.09KiB/s ETA 00:27"
     ]
    },
    {
     "name": "stderr",
     "output_type": "stream",
     "text": [
      "\r",
      "  2%|▏         | 125/5335 [00:00<00:11, 446.92frames/s]\r",
      " 79%|███████▊  | 3577/4555 [00:03<00:01, 633.87frames/s]\r",
      "  4%|▍         | 230/5335 [00:00<00:07, 671.26frames/s]\r",
      " 80%|████████  | 3650/4555 [00:03<00:01, 646.41frames/s]"
     ]
    },
    {
     "name": "stdout",
     "output_type": "stream",
     "text": [
      "\r",
      "[download]   4.1% of 8.76MiB at 80.30KiB/s ETA 01:47\r",
      "[download]  47.8% of 480.38KiB at 55.07KiB/s ETA 00:04"
     ]
    },
    {
     "name": "stderr",
     "output_type": "stream",
     "text": [
      " 13%|█▎        | 668/5335 [00:00<00:05, 896.64frames/s]]"
     ]
    },
    {
     "name": "stdout",
     "output_type": "stream",
     "text": [
      "\r",
      "[download]   5.9% of 4.65MiB at 54.76KiB/s ETA 01:21\r",
      "[download]  10.8% of 3.26MiB at 80.71KiB/s ETA 00:36"
     ]
    },
    {
     "name": "stderr",
     "output_type": "stream",
     "text": [
      "\r",
      " 88%|████████▊ | 4018/4555 [00:04<00:00, 687.15frames/s]\r",
      " 14%|█▍        | 761/5335 [00:01<00:05, 904.89frames/s]\r",
      " 90%|████████▉ | 4092/4555 [00:04<00:00, 699.74frames/s]\r",
      " 16%|█▌        | 863/5335 [00:01<00:04, 938.60frames/s]"
     ]
    },
    {
     "name": "stdout",
     "output_type": "stream",
     "text": [
      "\r",
      "[download]  15.3% of 2.09MiB at 69.54KiB/s ETA 00:26\r",
      "[download]  35.4% of 1.23MiB at 80.39KiB/s ETA 00:10\r",
      "[download]  13.5% of 3.21MiB at 80.34KiB/s ETA 00:35\r",
      "[download]   5.0% of 8.76MiB at 83.14KiB/s ETA 01:42"
     ]
    },
    {
     "name": "stderr",
     "output_type": "stream",
     "text": [
      "\r",
      " 91%|█████████▏| 4164/4555 [00:04<00:00, 670.88frames/s]\r",
      " 18%|█▊        | 959/5335 [00:01<00:04, 894.75frames/s]\r",
      " 93%|█████████▎| 4233/4555 [00:04<00:00, 628.56frames/s]\r",
      " 20%|█▉        | 1050/5335 [00:01<00:04, 858.00frames/s]"
     ]
    },
    {
     "name": "stdout",
     "output_type": "stream",
     "text": [
      "\r",
      "[download]  58.6% of 480.38KiB at 56.08KiB/s ETA 00:03"
     ]
    },
    {
     "name": "stderr",
     "output_type": "stream",
     "text": [
      "\r",
      " 94%|█████████▍| 4298/4555 [00:04<00:00, 561.70frames/s]\r",
      " 21%|██▏       | 1137/5335 [00:01<00:05, 763.82frames/s]\r",
      " 96%|█████████▌| 4364/4555 [00:05<00:00, 586.47frames/s]\r",
      " 23%|██▎       | 1233/5335 [00:01<00:05, 815.36frames/s]\r",
      " 97%|█████████▋| 4428/4555 [00:05<00:00, 600.01frames/s]"
     ]
    },
    {
     "name": "stdout",
     "output_type": "stream",
     "text": [
      "\r",
      "[download]   7.0% of 4.65MiB at 55.75KiB/s ETA 01:19"
     ]
    },
    {
     "name": "stderr",
     "output_type": "stream",
     "text": [
      "\r",
      " 25%|██▍       | 1317/5335 [00:01<00:04, 807.69frames/s]\r",
      " 99%|█████████▊| 4490/4555 [00:05<00:00, 591.92frames/s]\r",
      " 27%|██▋       | 1420/5335 [00:01<00:04, 867.67frames/s]\r",
      "100%|█████████▉| 4551/4555 [00:05<00:00, 580.13frames/s]\r",
      "100%|██████████| 4555/4555 [00:05<00:00, 845.76frames/s]\n"
     ]
    },
    {
     "name": "stdout",
     "output_type": "stream",
     "text": [
      "[PySceneDetect] Processed 4555 frames in 5.4 seconds (average 839.65 FPS).\n",
      "[PySceneDetect] Detected 2 scenes, average shot length 76.0 seconds.\n",
      "[PySceneDetect] Comma-separated timecode list:\n",
      "  00:02:31.685\n",
      "[PySceneDetect] Generating output images (3 per scene)...\n",
      "\r",
      "[download]  13.4% of 3.26MiB at 79.65KiB/s ETA 00:36\r",
      "[download]  41.8% of 1.23MiB at 80.30KiB/s ETA 00:09\r",
      "[download]  16.0% of 3.21MiB at 80.29KiB/s ETA 00:34"
     ]
    },
    {
     "name": "stderr",
     "output_type": "stream",
     "text": [
      "100%|██████████| 6/6 [00:00<00:00, 43.93images/s]ames/s]\n",
      " 33%|███▎      | 1773/5335 [00:02<00:05, 666.19frames/s]"
     ]
    },
    {
     "name": "stdout",
     "output_type": "stream",
     "text": [
      "\r",
      "[download]  18.8% of 2.09MiB at 68.98KiB/s ETA 00:25\r",
      "[download]  71.3% of 480.38KiB at 55.76KiB/s ETA 00:02"
     ]
    },
    {
     "name": "stderr",
     "output_type": "stream",
     "text": [
      "\r",
      " 35%|███▍      | 1845/5335 [00:02<00:05, 668.04frames/s]\r",
      " 38%|███▊      | 2052/5335 [00:02<00:03, 1024.26frames/s]\r",
      " 43%|████▎     | 2302/5335 [00:02<00:02, 1416.56frames/s]"
     ]
    },
    {
     "name": "stdout",
     "output_type": "stream",
     "text": [
      "\r",
      "[download]   6.1% of 8.76MiB at 81.20KiB/s ETA 01:43"
     ]
    },
    {
     "name": "stderr",
     "output_type": "stream",
     "text": [
      "\r",
      " 47%|████▋     | 2513/5335 [00:02<00:01, 1607.34frames/s]\r",
      " 52%|█████▏    | 2753/5335 [00:02<00:01, 1829.61frames/s]\r",
      " 56%|█████▌    | 2964/5335 [00:02<00:01, 1908.63frames/s]"
     ]
    },
    {
     "name": "stdout",
     "output_type": "stream",
     "text": [
      "\r",
      "[download]   8.3% of 4.65MiB at 55.19KiB/s ETA 01:19\r",
      "[download]  15.7% of 3.26MiB at 81.76KiB/s ETA 00:34"
     ]
    },
    {
     "name": "stderr",
     "output_type": "stream",
     "text": [
      "\r",
      " 59%|█████▉    | 3168/5335 [00:03<00:01, 1945.73frames/s]\r",
      " 63%|██████▎   | 3367/5335 [00:03<00:01, 1833.63frames/s]"
     ]
    },
    {
     "name": "stdout",
     "output_type": "stream",
     "text": [
      "[download]   6.9% of 8.76MiB at 82.46KiB/s ETA 01:4101"
     ]
    },
    {
     "name": "stderr",
     "output_type": "stream",
     "text": [
      " 84%|████████▍ | 4502/5335 [00:03<00:00, 1511.25frames/s]"
     ]
    },
    {
     "name": "stdout",
     "output_type": "stream",
     "text": [
      "\r",
      "[download]   9.4% of 4.65MiB at 53.82KiB/s ETA 01:20\r",
      "[download]  25.4% of 2.09MiB at 70.83KiB/s ETA 00:22\r",
      "[download]  18.6% of 3.26MiB at 81.73KiB/s ETA 00:33\r",
      "[download]  54.5% of 1.23MiB at 80.15KiB/s ETA 00:07\r",
      "[download]  20.9% of 3.21MiB at 80.18KiB/s ETA 00:32"
     ]
    },
    {
     "name": "stderr",
     "output_type": "stream",
     "text": [
      "\r",
      " 88%|████████▊ | 4709/5335 [00:04<00:00, 1670.31frames/s]\r",
      " 93%|█████████▎| 4950/5335 [00:04<00:00, 1885.26frames/s]\r",
      " 97%|█████████▋| 5179/5335 [00:04<00:00, 2003.71frames/s]"
     ]
    },
    {
     "name": "stdout",
     "output_type": "stream",
     "text": [
      "\r",
      "[download]  95.9% of 480.38KiB at 56.69KiB/s ETA 00:00[PySceneDetect] Processed 5335 frames in 4.4 seconds (average 1220.62 FPS).\n",
      "[PySceneDetect] Detected 1 scenes, average shot length 213.4 seconds.\n",
      "[PySceneDetect] Generating output images (3 per scene)...\n",
      "\r",
      "[download]   7.9% of 8.76MiB at 82.11KiB/s ETA 01:40"
     ]
    },
    {
     "name": "stderr",
     "output_type": "stream",
     "text": [
      "\r",
      "100%|██████████| 5335/5335 [00:04<00:00, 1232.65frames/s]\n",
      "\r",
      "  0%|          | 0/3 [00:00<?, ?images/s]\r",
      "100%|██████████| 3/3 [00:00<00:00, 118.09images/s]\n"
     ]
    },
    {
     "name": "stdout",
     "output_type": "stream",
     "text": [
      "[download] 100% of 480.38KiB in 00:0808KiB/s ETA 00:00\n",
      "[download]  21.1% of 3.26MiB at 81.82KiB/s ETA 00:32[PySceneDetect] PySceneDetect v0.6.0.3\n",
      "[PySceneDetect] Image output format set: JPEG [Quality: 95]\n",
      "[PySceneDetect] Detecting scenes...\n",
      "[download]  29.1% of 2.09MiB at 70.63KiB/s ETA 00:21"
     ]
    },
    {
     "name": "stderr",
     "output_type": "stream",
     "text": [
      "  5%|▍         | 351/7775 [00:00<00:07, 953.79frames/s]"
     ]
    },
    {
     "name": "stdout",
     "output_type": "stream",
     "text": [
      "\r",
      "[download]   8.8% of 8.76MiB at 82.06KiB/s ETA 01:39"
     ]
    },
    {
     "name": "stderr",
     "output_type": "stream",
     "text": [
      " 14%|█▍        | 1072/7775 [00:00<00:05, 1235.34frames/s]"
     ]
    },
    {
     "name": "stdout",
     "output_type": "stream",
     "text": [
      "\r",
      "[download]  12.0% of 4.65MiB at 54.98KiB/s ETA 01:16\r",
      "[download]  67.0% of 1.23MiB at 79.76KiB/s ETA 00:05\r",
      "[download]  25.7% of 3.21MiB at 79.96KiB/s ETA 00:30\r",
      "[download]  23.5% of 3.26MiB at 80.45KiB/s ETA 00:31"
     ]
    },
    {
     "name": "stderr",
     "output_type": "stream",
     "text": [
      "\r",
      " 15%|█▌        | 1198/7775 [00:01<00:05, 1190.33frames/s]\r",
      " 17%|█▋        | 1341/7775 [00:01<00:05, 1256.77frames/s]"
     ]
    },
    {
     "name": "stdout",
     "output_type": "stream",
     "text": [
      "\r",
      "[download]  32.4% of 2.09MiB at 69.55KiB/s ETA 00:20\r",
      "[download]   9.7% of 8.76MiB at 82.25KiB/s ETA 01:38"
     ]
    },
    {
     "name": "stderr",
     "output_type": "stream",
     "text": [
      " 30%|███       | 2341/7775 [00:01<00:04, 1357.76frames/s]"
     ]
    },
    {
     "name": "stdout",
     "output_type": "stream",
     "text": [
      "\r",
      "[download]  25.6% of 3.26MiB at 81.17KiB/s ETA 00:30\r",
      "[download]  73.3% of 1.23MiB at 79.66KiB/s ETA 00:04\r",
      "[download]  28.1% of 3.21MiB at 79.87KiB/s ETA 00:29"
     ]
    },
    {
     "name": "stderr",
     "output_type": "stream",
     "text": [
      "\r",
      " 32%|███▏      | 2479/7775 [00:02<00:04, 1285.91frames/s]\r",
      " 34%|███▎      | 2610/7775 [00:02<00:04, 1240.06frames/s]"
     ]
    },
    {
     "name": "stdout",
     "output_type": "stream",
     "text": [
      "\r",
      "[download]  35.2% of 2.09MiB at 69.39KiB/s ETA 00:19\r",
      "[download]  13.1% of 4.65MiB at 54.05KiB/s ETA 01:16\r",
      "[download]  10.7% of 8.76MiB at 82.60KiB/s ETA 01:37"
     ]
    },
    {
     "name": "stderr",
     "output_type": "stream",
     "text": [
      " 41%|████      | 3180/7775 [00:02<00:03, 1224.91frames/s]"
     ]
    },
    {
     "name": "stdout",
     "output_type": "stream",
     "text": [
      "\r",
      "[download]  14.1% of 4.65MiB at 55.23KiB/s ETA 01:14"
     ]
    },
    {
     "name": "stderr",
     "output_type": "stream",
     "text": [
      "\r",
      " 43%|████▎     | 3305/7775 [00:02<00:04, 960.21frames/s] \r",
      " 44%|████▍     | 3411/7775 [00:03<00:05, 791.73frames/s]"
     ]
    },
    {
     "name": "stdout",
     "output_type": "stream",
     "text": [
      "\r",
      "[download]  38.4% of 2.09MiB at 69.85KiB/s ETA 00:18\r",
      "[download]  79.6% of 1.23MiB at 79.55KiB/s ETA 00:03\r",
      "[download]  30.5% of 3.21MiB at 79.74KiB/s ETA 00:28\r",
      "[download]  28.3% of 3.26MiB at 80.66KiB/s ETA 00:29"
     ]
    },
    {
     "name": "stderr",
     "output_type": "stream",
     "text": [
      "\r",
      " 45%|████▌     | 3501/7775 [00:03<00:08, 520.28frames/s]\r",
      " 46%|████▌     | 3582/7775 [00:03<00:07, 566.39frames/s]\r",
      " 48%|████▊     | 3711/7775 [00:03<00:05, 701.79frames/s]"
     ]
    },
    {
     "name": "stdout",
     "output_type": "stream",
     "text": [
      "\r",
      "[download]  11.6% of 8.76MiB at 81.87KiB/s ETA 01:36"
     ]
    },
    {
     "name": "stderr",
     "output_type": "stream",
     "text": [
      "\r",
      " 50%|████▉     | 3856/7775 [00:03<00:04, 859.65frames/s]\r",
      " 51%|█████▏    | 3998/7775 [00:03<00:03, 988.16frames/s]"
     ]
    },
    {
     "name": "stdout",
     "output_type": "stream",
     "text": [
      "\r",
      "[download]  30.6% of 3.26MiB at 81.71KiB/s ETA 00:28\r",
      "[download]  41.9% of 2.09MiB at 70.74KiB/s ETA 00:17\r",
      "[download]  85.8% of 1.23MiB at 79.41KiB/s ETA 00:02\r",
      "[download]  32.9% of 3.21MiB at 79.67KiB/s ETA 00:27"
     ]
    },
    {
     "name": "stderr",
     "output_type": "stream",
     "text": [
      "\r",
      " 53%|█████▎    | 4122/7775 [00:03<00:03, 1047.66frames/s]\r",
      " 55%|█████▍    | 4259/7775 [00:03<00:03, 1130.76frames/s]\r",
      " 56%|█████▋    | 4384/7775 [00:04<00:02, 1162.33frames/s]"
     ]
    },
    {
     "name": "stdout",
     "output_type": "stream",
     "text": [
      "\r",
      "[download]  15.7% of 4.65MiB at 55.11KiB/s ETA 01:12\r",
      "[download]  12.5% of 8.76MiB at 82.63KiB/s ETA 01:35"
     ]
    },
    {
     "name": "stderr",
     "output_type": "stream",
     "text": [
      " 70%|██████▉   | 5407/7775 [00:04<00:02, 1057.11frames/s]"
     ]
    },
    {
     "name": "stdout",
     "output_type": "stream",
     "text": [
      "\r",
      "[download]  92.0% of 1.23MiB at 79.38KiB/s ETA 00:01\r",
      "[download]  35.3% of 3.21MiB at 79.62KiB/s ETA 00:26\r",
      "[download]  33.5% of 3.26MiB at 81.71KiB/s ETA 00:27"
     ]
    },
    {
     "name": "stderr",
     "output_type": "stream",
     "text": [
      "\r",
      " 71%|███████   | 5522/7775 [00:05<00:02, 1071.35frames/s]\r",
      " 72%|███████▏  | 5636/7775 [00:05<00:01, 1086.25frames/s]"
     ]
    },
    {
     "name": "stdout",
     "output_type": "stream",
     "text": [
      "\r",
      "[download]  45.8% of 2.09MiB at 69.64KiB/s ETA 00:16\r",
      "[download]  16.8% of 4.65MiB at 54.36KiB/s ETA 01:12\r",
      "[download]  13.5% of 8.76MiB at 82.41KiB/s ETA 01:34"
     ]
    },
    {
     "name": "stderr",
     "output_type": "stream",
     "text": [
      " 83%|████████▎ | 6483/7775 [00:06<00:01, 1158.32frames/s]"
     ]
    },
    {
     "name": "stdout",
     "output_type": "stream",
     "text": [
      "\r",
      "[download]  48.5% of 2.09MiB at 70.48KiB/s ETA 00:15\r",
      "[download]  98.3% of 1.23MiB at 79.28KiB/s ETA 00:00\r",
      "[download]  37.7% of 3.21MiB at 79.56KiB/s ETA 00:25\r",
      "[download] 100.0% of 1.23MiB at 80.18KiB/s ETA 00:00\r",
      "[download] 100% of 1.23MiB in 00:15\n"
     ]
    },
    {
     "name": "stderr",
     "output_type": "stream",
     "text": [
      "\r",
      " 85%|████████▍ | 6606/7775 [00:06<00:01, 1129.47frames/s]\r",
      " 86%|████████▋ | 6725/7775 [00:06<00:00, 1065.90frames/s]"
     ]
    },
    {
     "name": "stdout",
     "output_type": "stream",
     "text": [
      "[download]  14.4% of 8.76MiB at 82.18KiB/s ETA 01:33"
     ]
    },
    {
     "name": "stderr",
     "output_type": "stream",
     "text": [
      "\r",
      " 88%|████████▊ | 6836/7775 [00:06<00:01, 886.28frames/s] \r",
      " 89%|████████▉ | 6942/7775 [00:06<00:00, 927.46frames/s]\r",
      " 91%|█████████ | 7058/7775 [00:06<00:00, 985.56frames/s]"
     ]
    },
    {
     "name": "stdout",
     "output_type": "stream",
     "text": [
      "[PySceneDetect] PySceneDetect v0.6.0.3\n",
      "[PySceneDetect] Image output format set: JPEG [Quality: 95]\n",
      "[PySceneDetect] Detecting scenes...\n"
     ]
    },
    {
     "name": "stderr",
     "output_type": "stream",
     "text": [
      " 95%|█████████▍| 7350/7775 [00:07<00:00, 694.42frames/s]"
     ]
    },
    {
     "name": "stdout",
     "output_type": "stream",
     "text": [
      "\r",
      "[download]  38.1% of 3.26MiB at 80.86KiB/s ETA 00:25\r",
      "[download]  40.1% of 3.21MiB at 79.42KiB/s ETA 00:24\r",
      "[download]  18.9% of 4.65MiB at 54.44KiB/s ETA 01:10"
     ]
    },
    {
     "name": "stderr",
     "output_type": "stream",
     "text": [
      "\r",
      "  4%|▎         | 197/5324 [00:00<00:09, 521.25frames/s]\r",
      "  5%|▍         | 250/5324 [00:00<00:10, 506.19frames/s]\r",
      " 96%|█████████▌| 7427/7775 [00:07<00:00, 628.99frames/s]"
     ]
    },
    {
     "name": "stdout",
     "output_type": "stream",
     "text": [
      "\r",
      "[download]  52.7% of 2.09MiB at 69.93KiB/s ETA 00:14\r",
      "[download]  15.3% of 8.76MiB at 82.13KiB/s ETA 01:32"
     ]
    },
    {
     "name": "stderr",
     "output_type": "stream",
     "text": [
      "100%|██████████| 7775/7775 [00:07<00:00, 983.58frames/s]\n",
      " 67%|██████▋   | 6/9 [00:00<00:00, 54.94images/s]mes/s]"
     ]
    },
    {
     "name": "stdout",
     "output_type": "stream",
     "text": [
      "[PySceneDetect] Processed 7775 frames in 7.9 seconds (average 979.77 FPS).\n",
      "[PySceneDetect] Detected 3 scenes, average shot length 103.7 seconds.\n",
      "[PySceneDetect] Comma-separated timecode list:\n",
      "  00:00:04.800,00:05:00.080\n",
      "[PySceneDetect] Generating output images (3 per scene)...\n",
      "\r",
      "[download]  20.1% of 4.65MiB at 55.02KiB/s ETA 01:09\r",
      "[download]  40.6% of 3.26MiB at 81.22KiB/s ETA 00:24\r",
      "[download]  42.4% of 3.21MiB at 79.34KiB/s ETA 00:23"
     ]
    },
    {
     "name": "stderr",
     "output_type": "stream",
     "text": [
      "\r",
      " 15%|█▌        | 809/5324 [00:01<00:05, 844.24frames/s]\r",
      "100%|██████████| 9/9 [00:00<00:00, 50.16images/s]\n",
      "\r",
      " 17%|█▋        | 902/5324 [00:01<00:05, 868.12frames/s]\r",
      " 19%|█▉        | 1029/5324 [00:01<00:04, 986.55frames/s]"
     ]
    },
    {
     "name": "stdout",
     "output_type": "stream",
     "text": [
      "\r",
      "[download]  55.7% of 2.09MiB at 69.97KiB/s ETA 00:13\r",
      "[download]  16.2% of 8.76MiB at 82.20KiB/s ETA 01:31"
     ]
    },
    {
     "name": "stderr",
     "output_type": "stream",
     "text": [
      " 31%|███▏      | 1669/5324 [00:02<00:03, 932.84frames/s] "
     ]
    },
    {
     "name": "stdout",
     "output_type": "stream",
     "text": [
      "\r",
      "[download]  44.8% of 3.21MiB at 80.08KiB/s ETA 00:22"
     ]
    },
    {
     "name": "stderr",
     "output_type": "stream",
     "text": [
      "\r",
      " 34%|███▍      | 1825/5324 [00:02<00:03, 1104.22frames/s]\r",
      " 36%|███▋      | 1939/5324 [00:02<00:03, 1084.74frames/s]"
     ]
    },
    {
     "name": "stdout",
     "output_type": "stream",
     "text": [
      "\r",
      "[download]  59.0% of 2.09MiB at 70.40KiB/s ETA 00:12\r",
      "[download]  43.2% of 3.26MiB at 80.71KiB/s ETA 00:23"
     ]
    },
    {
     "name": "stderr",
     "output_type": "stream",
     "text": [
      "\r",
      " 39%|███▊      | 2052/5324 [00:02<00:02, 1096.09frames/s]\r",
      " 41%|████      | 2164/5324 [00:02<00:03, 1038.92frames/s]"
     ]
    },
    {
     "name": "stdout",
     "output_type": "stream",
     "text": [
      "\r",
      "[download]  21.5% of 4.65MiB at 54.27KiB/s ETA 01:08\r",
      "[download]  17.1% of 8.76MiB at 81.58KiB/s ETA 01:31"
     ]
    },
    {
     "name": "stderr",
     "output_type": "stream",
     "text": [
      " 56%|█████▌    | 2979/5324 [00:03<00:01, 1239.09frames/s]"
     ]
    },
    {
     "name": "stdout",
     "output_type": "stream",
     "text": [
      "\r",
      "[download]  45.4% of 3.26MiB at 81.28KiB/s ETA 00:22\r",
      "[download]  22.4% of 4.65MiB at 54.98KiB/s ETA 01:07\r",
      "[download]  47.8% of 3.21MiB at 80.10KiB/s ETA 00:21"
     ]
    },
    {
     "name": "stderr",
     "output_type": "stream",
     "text": [
      "\r",
      " 58%|█████▊    | 3104/5324 [00:03<00:01, 1239.70frames/s]\r",
      " 61%|██████    | 3245/5324 [00:03<00:01, 1290.03frames/s]"
     ]
    },
    {
     "name": "stdout",
     "output_type": "stream",
     "text": [
      "\r",
      "[download]  62.6% of 2.09MiB at 70.33KiB/s ETA 00:11\r",
      "[download]  17.9% of 8.76MiB at 81.98KiB/s ETA 01:29"
     ]
    },
    {
     "name": "stderr",
     "output_type": "stream",
     "text": [
      " 77%|███████▋  | 4087/5324 [00:04<00:01, 1128.36frames/s]"
     ]
    },
    {
     "name": "stdout",
     "output_type": "stream",
     "text": [
      "\r",
      "[download]  50.2% of 3.21MiB at 80.10KiB/s ETA 00:20\r",
      "[download]  48.2% of 3.26MiB at 81.17KiB/s ETA 00:21\r",
      "[download]  65.9% of 2.09MiB at 70.62KiB/s ETA 00:10"
     ]
    },
    {
     "name": "stderr",
     "output_type": "stream",
     "text": [
      " 88%|████████▊ | 4689/5324 [00:04<00:00, 1154.12frames/s]"
     ]
    },
    {
     "name": "stdout",
     "output_type": "stream",
     "text": [
      "\r",
      "[download]  24.1% of 4.65MiB at 54.89KiB/s ETA 01:05\r",
      "[download]  19.0% of 8.76MiB at 81.82KiB/s ETA 01:28"
     ]
    },
    {
     "name": "stderr",
     "output_type": "stream",
     "text": [
      " 96%|█████████▋| 5133/5324 [00:05<00:00, 1020.84frames/s]"
     ]
    },
    {
     "name": "stdout",
     "output_type": "stream",
     "text": [
      "\r",
      "[download]  52.6% of 3.21MiB at 80.11KiB/s ETA 00:19\r",
      "[download]  50.6% of 3.26MiB at 81.16KiB/s ETA 00:20[PySceneDetect] Processed 5324 frames in 5.5 seconds (average 968.23 FPS).\n",
      "[PySceneDetect] Detected 65 scenes, average shot length 3.4 seconds.\n",
      "[PySceneDetect] Comma-separated timecode list:\n",
      "  00:00:04.296,00:00:08.091,00:00:27.152,00:00:30.948,00:00:34.660,00:00:41.416,00:00:42.376,00:00:45.254,00:00:46.213,00:00:49.049,00:00:50.008,00:00:53.845,00:01:01.478,00:01:07.150,00:01:12.864,00:01:18.578,00:01:39.516,00:01:53.822,00:01:54.740,00:01:57.617,00:02:06.168,00:02:09.588,00:02:11.882,00:02:13.216,00:02:14.259,00:02:15.635,00:02:16.219,00:02:17.137,00:02:18.513,00:02:19.473,00:02:20.849,00:02:22.392,00:02:23.310,00:02:23.894,00:02:24.770,00:02:25.395,00:02:26.688,00:02:27.272,00:02:28.398,00:02:29.066,00:02:29.691,00:02:30.484,00:02:32.069,00:02:33.362,00:02:34.279,00:02:35.238,00:02:36.239,00:02:37.199,00:02:38.575,00:02:41.411,00:02:46.666,00:02:47.667,00:02:51.880,00:02:55.717,00:03:05.227,00:03:08.522,00:03:10.982,00:03:13.110,00:03:14.319,00:03:18.573,00:03:26.123,00:03:30.001,00:03:33.797,00:03:38.844\n",
      "[PySceneDetect] Generating output images (3 per scene)...\n"
     ]
    },
    {
     "name": "stderr",
     "output_type": "stream",
     "text": [
      "\r",
      " 99%|█████████▊| 5247/5324 [00:05<00:00, 1053.22frames/s]\r",
      "100%|██████████| 5324/5324 [00:05<00:00, 974.77frames/s] \n",
      "\r",
      "  0%|          | 0/195 [00:00<?, ?images/s]"
     ]
    },
    {
     "name": "stdout",
     "output_type": "stream",
     "text": [
      "\r",
      "[download]  69.5% of 2.09MiB at 70.47KiB/s ETA 00:09\r",
      "[download]  19.8% of 8.76MiB at 81.80KiB/s ETA 01:27"
     ]
    },
    {
     "name": "stderr",
     "output_type": "stream",
     "text": [
      " 16%|█▋        | 32/195 [00:00<00:02, 78.27images/s]"
     ]
    },
    {
     "name": "stdout",
     "output_type": "stream",
     "text": [
      "\r",
      "[download]  25.2% of 4.65MiB at 54.44KiB/s ETA 01:05"
     ]
    },
    {
     "name": "stderr",
     "output_type": "stream",
     "text": [
      "\r",
      " 21%|██        | 41/195 [00:00<00:01, 78.26images/s]\r",
      " 25%|██▌       | 49/195 [00:00<00:02, 65.14images/s]"
     ]
    },
    {
     "name": "stdout",
     "output_type": "stream",
     "text": [
      "\r",
      "[download]  55.1% of 3.21MiB at 80.11KiB/s ETA 00:18\r",
      "[download]  53.0% of 3.26MiB at 81.21KiB/s ETA 00:19\r",
      "[download]  26.2% of 4.65MiB at 55.10KiB/s ETA 01:03\r",
      "[download]  72.7% of 2.09MiB at 70.63KiB/s ETA 00:08"
     ]
    },
    {
     "name": "stderr",
     "output_type": "stream",
     "text": [
      "\r",
      " 30%|██▉       | 58/195 [00:00<00:01, 71.91images/s]\r",
      " 34%|███▍      | 66/195 [00:00<00:01, 67.45images/s]"
     ]
    },
    {
     "name": "stdout",
     "output_type": "stream",
     "text": [
      "\r",
      "[download]  20.7% of 8.76MiB at 81.88KiB/s ETA 01:26"
     ]
    },
    {
     "name": "stderr",
     "output_type": "stream",
     "text": [
      " 50%|█████     | 98/195 [00:01<00:01, 53.79images/s]"
     ]
    },
    {
     "name": "stdout",
     "output_type": "stream",
     "text": [
      "\r",
      "[download]  55.5% of 3.26MiB at 81.36KiB/s ETA 00:18\r",
      "[download]  57.5% of 3.21MiB at 79.46KiB/s ETA 00:17"
     ]
    },
    {
     "name": "stderr",
     "output_type": "stream",
     "text": [
      "\r",
      " 54%|█████▍    | 105/195 [00:01<00:01, 51.17images/s]\r",
      " 58%|█████▊    | 114/195 [00:01<00:01, 58.98images/s]"
     ]
    },
    {
     "name": "stdout",
     "output_type": "stream",
     "text": [
      "\r",
      "[download]  76.1% of 2.09MiB at 70.37KiB/s ETA 00:07\r",
      "[download]  21.7% of 8.76MiB at 82.05KiB/s ETA 01:25"
     ]
    },
    {
     "name": "stderr",
     "output_type": "stream",
     "text": [
      " 85%|████████▌ | 166/195 [00:02<00:00, 69.35images/s]"
     ]
    },
    {
     "name": "stdout",
     "output_type": "stream",
     "text": [
      "\r",
      "[download]  27.9% of 4.65MiB at 54.43KiB/s ETA 01:03\r",
      "[download]  59.6% of 3.21MiB at 79.57KiB/s ETA 00:16"
     ]
    },
    {
     "name": "stderr",
     "output_type": "stream",
     "text": [
      "\r",
      " 90%|█████████ | 176/195 [00:02<00:00, 73.66images/s]\r",
      " 94%|█████████▍| 184/195 [00:02<00:00, 74.99images/s]"
     ]
    },
    {
     "name": "stdout",
     "output_type": "stream",
     "text": [
      "\r",
      "[download]  79.2% of 2.09MiB at 70.42KiB/s ETA 00:06\r",
      "[download]  58.0% of 3.26MiB at 80.88KiB/s ETA 00:17\r",
      "[download]  22.6% of 8.76MiB at 82.29KiB/s ETA 01:24"
     ]
    },
    {
     "name": "stderr",
     "output_type": "stream",
     "text": [
      "\r",
      " 99%|█████████▉| 194/195 [00:03<00:00, 78.82images/s]\r",
      "100%|██████████| 195/195 [00:03<00:00, 63.27images/s]\n"
     ]
    },
    {
     "name": "stdout",
     "output_type": "stream",
     "text": [
      "[download] 100% of 2.09MiB in 00:3056KiB/s ETA 00:00\n",
      "[PySceneDetect] PySceneDetect v0.6.0.3\n",
      "[PySceneDetect] Image output format set: JPEG [Quality: 95]\n",
      "[PySceneDetect] Detecting scenes...\n",
      "[download]  36.1% of 4.65MiB at 54.81KiB/s ETA 00:55"
     ]
    },
    {
     "name": "stderr",
     "output_type": "stream",
     "text": [
      " 12%|█▏        | 504/4223 [00:00<00:02, 1287.84frames/s]"
     ]
    },
    {
     "name": "stdout",
     "output_type": "stream",
     "text": [
      "\r",
      "[download]  77.2% of 3.21MiB at 79.80KiB/s ETA 00:09\r",
      "[download]  75.5% of 3.26MiB at 81.26KiB/s ETA 00:10"
     ]
    },
    {
     "name": "stderr",
     "output_type": "stream",
     "text": [
      "\r",
      " 15%|█▍        | 633/4223 [00:00<00:02, 1212.74frames/s]\r",
      " 18%|█▊        | 769/4223 [00:00<00:02, 1259.14frames/s]"
     ]
    },
    {
     "name": "stdout",
     "output_type": "stream",
     "text": [
      "\r",
      "[download]  29.1% of 8.76MiB at 81.89KiB/s ETA 01:17"
     ]
    },
    {
     "name": "stderr",
     "output_type": "stream",
     "text": [
      " 40%|███▉      | 1675/4223 [00:01<00:01, 1496.90frames/s]"
     ]
    },
    {
     "name": "stdout",
     "output_type": "stream",
     "text": [
      "\r",
      "[download]  79.4% of 3.21MiB at 80.04KiB/s ETA 00:08\r",
      "[download]  37.4% of 4.65MiB at 54.68KiB/s ETA 00:54"
     ]
    },
    {
     "name": "stderr",
     "output_type": "stream",
     "text": [
      "\r",
      " 43%|████▎     | 1825/4223 [00:01<00:01, 1480.17frames/s]\r",
      " 47%|████▋     | 1974/4223 [00:01<00:01, 1453.64frames/s]"
     ]
    },
    {
     "name": "stdout",
     "output_type": "stream",
     "text": [
      "\r",
      "[download]  77.9% of 3.26MiB at 81.20KiB/s ETA 00:09\r",
      "[download]  29.9% of 8.76MiB at 82.19KiB/s ETA 01:16"
     ]
    },
    {
     "name": "stderr",
     "output_type": "stream",
     "text": [
      " 70%|██████▉   | 2947/4223 [00:02<00:00, 1312.95frames/s]"
     ]
    },
    {
     "name": "stdout",
     "output_type": "stream",
     "text": [
      "\r",
      "[download]  38.4% of 4.65MiB at 54.76KiB/s ETA 00:53"
     ]
    },
    {
     "name": "stderr",
     "output_type": "stream",
     "text": [
      "\r",
      " 73%|███████▎  | 3086/4223 [00:02<00:00, 1334.46frames/s]\r",
      " 76%|███████▋  | 3222/4223 [00:02<00:00, 1273.02frames/s]"
     ]
    },
    {
     "name": "stdout",
     "output_type": "stream",
     "text": [
      "\r",
      "[download]  82.2% of 3.21MiB at 79.84KiB/s ETA 00:07\r",
      "[download]  80.3% of 3.26MiB at 81.03KiB/s ETA 00:08"
     ]
    },
    {
     "name": "stderr",
     "output_type": "stream",
     "text": [
      "\r",
      " 79%|███████▉  | 3354/4223 [00:02<00:00, 1286.21frames/s]\r",
      " 83%|████████▎ | 3492/4223 [00:02<00:00, 1306.07frames/s]"
     ]
    },
    {
     "name": "stdout",
     "output_type": "stream",
     "text": [
      "\r",
      "[download]  31.0% of 8.76MiB at 82.14KiB/s ETA 01:15"
     ]
    },
    {
     "name": "stderr",
     "output_type": "stream",
     "text": [
      "100%|██████████| 4223/4223 [00:03<00:00, 1262.01frames/s]\n",
      "  6%|▌         | 15/246 [00:00<00:01, 149.21images/s]"
     ]
    },
    {
     "name": "stdout",
     "output_type": "stream",
     "text": [
      "[PySceneDetect] Processed 4223 frames in 3.4 seconds (average 1252.66 FPS).\n",
      "[PySceneDetect] Detected 82 scenes, average shot length 2.1 seconds.\n",
      "[PySceneDetect] Comma-separated timecode list:\n",
      "  00:00:00.667,00:00:01.710,00:00:03.086,00:00:04.463,00:00:06.006,00:00:07.466,00:00:09.384,00:00:10.969,00:00:12.679,00:00:13.513,00:00:14.806,00:00:17.017,00:00:20.354,00:00:21.855,00:00:23.315,00:00:24.942,00:00:27.361,00:00:28.987,00:00:30.113,00:00:31.865,00:00:33.867,00:00:36.203,00:00:38.538,00:00:41.124,00:00:44.211,00:00:45.963,00:00:48.465,00:00:51.885,00:00:54.596,00:00:56.181,00:00:56.974,00:00:58.016,00:00:59.142,00:01:00.936,00:01:02.562,00:01:07.401,00:01:09.152,00:01:10.320,00:01:13.115,00:01:15.325,00:01:16.868,00:01:18.704,00:01:20.664,00:01:22.916,00:01:24.251,00:01:26.503,00:01:30.590,00:01:31.758,00:01:32.718,00:01:38.765,00:01:44.229,00:01:46.523,00:01:49.067,00:01:52.738,00:01:54.656,00:01:58.118,00:02:01.121,00:02:02.497,00:02:04.624,00:02:06.918,00:02:09.296,00:02:10.756,00:02:15.344,00:02:16.803,00:02:18.263,00:02:19.765,00:02:21.641,00:02:23.101,00:02:24.478,00:02:25.520,00:02:26.647,00:02:28.148,00:02:30.275,00:02:31.985,00:02:34.363,00:02:37.115,00:02:38.492,00:02:40.160,00:02:41.036,00:02:42.371,00:02:42.954\n",
      "[PySceneDetect] Generating output images (3 per scene)...\n"
     ]
    },
    {
     "name": "stderr",
     "output_type": "stream",
     "text": [
      "\r",
      " 12%|█▏        | 30/246 [00:00<00:01, 126.19images/s]\r",
      " 17%|█▋        | 43/246 [00:00<00:01, 118.14images/s]"
     ]
    },
    {
     "name": "stdout",
     "output_type": "stream",
     "text": [
      "\r",
      "[download]  39.6% of 4.65MiB at 53.97KiB/s ETA 00:53\r",
      "[download]  84.4% of 3.21MiB at 78.88KiB/s ETA 00:06\r",
      "[download]  82.5% of 3.26MiB at 80.15KiB/s ETA 00:07"
     ]
    },
    {
     "name": "stderr",
     "output_type": "stream",
     "text": [
      "\r",
      " 22%|██▏       | 55/246 [00:00<00:01, 113.40images/s]\r",
      " 27%|██▋       | 67/246 [00:00<00:01, 91.48images/s] "
     ]
    },
    {
     "name": "stdout",
     "output_type": "stream",
     "text": [
      "\r",
      "[download]  31.9% of 8.76MiB at 81.35KiB/s ETA 01:15"
     ]
    },
    {
     "name": "stderr",
     "output_type": "stream",
     "text": [
      "\r",
      " 31%|███▏      | 77/246 [00:00<00:01, 85.63images/s]\r",
      " 35%|███▌      | 87/246 [00:00<00:01, 84.13images/s]"
     ]
    },
    {
     "name": "stdout",
     "output_type": "stream",
     "text": [
      "\r",
      "[download]  40.4% of 4.65MiB at 54.14KiB/s ETA 00:52\r",
      "[download]  86.1% of 3.21MiB at 79.08KiB/s ETA 00:05\r",
      "[download]  84.3% of 3.26MiB at 80.48KiB/s ETA 00:06"
     ]
    },
    {
     "name": "stderr",
     "output_type": "stream",
     "text": [
      " 50%|█████     | 124/246 [00:01<00:01, 74.58images/s]"
     ]
    },
    {
     "name": "stdout",
     "output_type": "stream",
     "text": [
      "\r",
      "[download]  32.5% of 8.76MiB at 81.30KiB/s ETA 01:14"
     ]
    },
    {
     "name": "stderr",
     "output_type": "stream",
     "text": [
      " 72%|███████▏  | 178/246 [00:02<00:00, 81.10images/s]"
     ]
    },
    {
     "name": "stdout",
     "output_type": "stream",
     "text": [
      "\r",
      "[download]  41.8% of 4.65MiB at 54.16KiB/s ETA 00:51\r",
      "[download]  88.9% of 3.21MiB at 78.98KiB/s ETA 00:04"
     ]
    },
    {
     "name": "stderr",
     "output_type": "stream",
     "text": [
      "\r",
      " 76%|███████▌  | 187/246 [00:02<00:00, 80.60images/s]\r",
      " 80%|███████▉  | 196/246 [00:02<00:00, 81.48images/s]"
     ]
    },
    {
     "name": "stdout",
     "output_type": "stream",
     "text": [
      "\r",
      "[download]  33.4% of 8.76MiB at 81.29KiB/s ETA 01:13\r",
      "[download]  87.3% of 3.26MiB at 80.19KiB/s ETA 00:05"
     ]
    },
    {
     "name": "stderr",
     "output_type": "stream",
     "text": [
      "100%|██████████| 246/246 [00:02<00:00, 86.92images/s]\n"
     ]
    },
    {
     "name": "stdout",
     "output_type": "stream",
     "text": [
      "[download] 100% of 3.21MiB in 00:4135KiB/s ETA 00:00\n",
      "[download]  47.5% of 4.65MiB at 54.29KiB/s ETA 00:46[PySceneDetect] PySceneDetect v0.6.0.3\n",
      "[PySceneDetect] Image output format set: JPEG [Quality: 95]\n",
      "[PySceneDetect] Detecting scenes...\n",
      "[download]  38.1% of 8.76MiB at 81.45KiB/s ETA 01:08"
     ]
    },
    {
     "name": "stderr",
     "output_type": "stream",
     "text": [
      "\r",
      "  0%|          | 0/7425 [00:00<?, ?frames/s]\r",
      "  0%|          | 8/7425 [00:00<01:36, 77.16frames/s]"
     ]
    },
    {
     "name": "stdout",
     "output_type": "stream",
     "text": [
      "\r",
      "[download] 100.0% of 3.26MiB at 80.67KiB/s ETA 00:00\r",
      "[download] 100% of 3.26MiB in 00:41\n"
     ]
    },
    {
     "name": "stderr",
     "output_type": "stream",
     "text": [
      "  6%|▌         | 460/7425 [00:00<00:09, 739.16frames/s]"
     ]
    },
    {
     "name": "stdout",
     "output_type": "stream",
     "text": [
      "\r",
      "[download]  48.8% of 4.65MiB at 54.22KiB/s ETA 00:45[PySceneDetect] PySceneDetect v0.6.0.3\n",
      "[PySceneDetect] Image output format set: JPEG [Quality: 95]\n",
      "[PySceneDetect] Detecting scenes...\n",
      "\r",
      "[download]  39.0% of 8.76MiB at 81.50KiB/s ETA 01:07"
     ]
    },
    {
     "name": "stderr",
     "output_type": "stream",
     "text": [
      " 12%|█▏        | 878/7425 [00:01<00:13, 495.32frames/s]]"
     ]
    },
    {
     "name": "stdout",
     "output_type": "stream",
     "text": [
      "\r",
      "[download]  49.9% of 4.65MiB at 54.32KiB/s ETA 00:43"
     ]
    },
    {
     "name": "stderr",
     "output_type": "stream",
     "text": [
      "\r",
      "  1%|▏         | 338/22827 [00:00<00:51, 437.05frames/s]\r",
      " 13%|█▎        | 929/7425 [00:01<00:13, 479.67frames/s]\r",
      "  2%|▏         | 386/22827 [00:00<00:50, 447.14frames/s]\r",
      " 13%|█▎        | 980/7425 [00:01<00:13, 474.52frames/s]"
     ]
    },
    {
     "name": "stdout",
     "output_type": "stream",
     "text": [
      "\r",
      "[download]  39.9% of 8.76MiB at 81.60KiB/s ETA 01:06"
     ]
    },
    {
     "name": "stderr",
     "output_type": "stream",
     "text": [
      "  3%|▎         | 796/22827 [00:01<00:53, 415.64frames/s]"
     ]
    },
    {
     "name": "stdout",
     "output_type": "stream",
     "text": [
      "\r",
      "[download]  51.1% of 4.65MiB at 54.23KiB/s ETA 00:42"
     ]
    },
    {
     "name": "stderr",
     "output_type": "stream",
     "text": [
      "\r",
      " 19%|█▉        | 1406/7425 [00:03<00:18, 319.58frames/s]\r",
      "  4%|▎         | 840/22827 [00:02<01:01, 358.99frames/s]\r",
      " 19%|█▉        | 1446/7425 [00:03<00:17, 335.39frames/s]\r",
      "  4%|▍         | 879/22827 [00:02<01:00, 361.96frames/s]"
     ]
    },
    {
     "name": "stdout",
     "output_type": "stream",
     "text": [
      "\r",
      "[download]  40.9% of 8.76MiB at 81.38KiB/s ETA 01:05"
     ]
    },
    {
     "name": "stderr",
     "output_type": "stream",
     "text": [
      " 22%|██▏       | 1658/7425 [00:03<00:14, 403.62frames/s]]"
     ]
    },
    {
     "name": "stdout",
     "output_type": "stream",
     "text": [
      "\r",
      "[download]  52.2% of 4.65MiB at 54.30KiB/s ETA 00:41\r",
      "[download]  41.7% of 8.76MiB at 81.61KiB/s ETA 01:04"
     ]
    },
    {
     "name": "stderr",
     "output_type": "stream",
     "text": [
      "  7%|▋         | 1611/22827 [00:03<00:48, 438.05frames/s]"
     ]
    },
    {
     "name": "stdout",
     "output_type": "stream",
     "text": [
      "[download]  42.7% of 8.76MiB at 81.59KiB/s ETA 01:02"
     ]
    },
    {
     "name": "stderr",
     "output_type": "stream",
     "text": [
      "  8%|▊         | 1787/22827 [00:04<01:14, 280.93frames/s]"
     ]
    },
    {
     "name": "stdout",
     "output_type": "stream",
     "text": [
      "\r",
      "[download]  54.4% of 4.65MiB at 54.25KiB/s ETA 00:40"
     ]
    },
    {
     "name": "stderr",
     "output_type": "stream",
     "text": [
      "\r",
      " 33%|███▎      | 2416/7425 [00:05<00:20, 244.09frames/s]\r",
      "  8%|▊         | 1824/22827 [00:04<01:25, 246.46frames/s]\r",
      " 33%|███▎      | 2458/7425 [00:06<00:18, 274.27frames/s]\r",
      "  8%|▊         | 1857/22827 [00:05<01:21, 258.76frames/s]"
     ]
    },
    {
     "name": "stdout",
     "output_type": "stream",
     "text": [
      "\r",
      "[download]  43.6% of 8.76MiB at 81.65KiB/s ETA 01:01"
     ]
    },
    {
     "name": "stderr",
     "output_type": "stream",
     "text": [
      " 35%|███▍      | 2589/7425 [00:06<00:22, 213.50frames/s]]"
     ]
    },
    {
     "name": "stdout",
     "output_type": "stream",
     "text": [
      "\r",
      "[download]  55.6% of 4.65MiB at 54.44KiB/s ETA 00:38"
     ]
    },
    {
     "name": "stderr",
     "output_type": "stream",
     "text": [
      "  9%|▉         | 2144/22827 [00:06<01:07, 306.23frames/s]"
     ]
    },
    {
     "name": "stdout",
     "output_type": "stream",
     "text": [
      "\r",
      "[download]  44.6% of 8.76MiB at 81.41KiB/s ETA 01:01"
     ]
    },
    {
     "name": "stderr",
     "output_type": "stream",
     "text": [
      " 10%|█         | 2370/22827 [00:06<00:52, 389.51frames/s]"
     ]
    },
    {
     "name": "stdout",
     "output_type": "stream",
     "text": [
      "\r",
      "[download]  57.0% of 4.65MiB at 54.48KiB/s ETA 00:37\r",
      "[download]  45.4% of 8.76MiB at 81.59KiB/s ETA 01:00"
     ]
    },
    {
     "name": "stderr",
     "output_type": "stream",
     "text": [
      " 46%|████▋     | 3451/7425 [00:08<00:09, 437.04frames/s]]"
     ]
    },
    {
     "name": "stdout",
     "output_type": "stream",
     "text": [
      "\r",
      "[download]  58.2% of 4.65MiB at 54.35KiB/s ETA 00:36"
     ]
    },
    {
     "name": "stderr",
     "output_type": "stream",
     "text": [
      "\r",
      " 13%|█▎        | 2883/22827 [00:08<00:51, 387.00frames/s]\r",
      " 47%|████▋     | 3497/7425 [00:09<00:10, 377.36frames/s]\r",
      " 48%|████▊     | 3538/7425 [00:09<00:10, 372.87frames/s]\r",
      " 13%|█▎        | 2925/22827 [00:08<00:59, 337.28frames/s]"
     ]
    },
    {
     "name": "stdout",
     "output_type": "stream",
     "text": [
      "\r",
      "[download]  46.4% of 8.76MiB at 81.53KiB/s ETA 00:58"
     ]
    },
    {
     "name": "stderr",
     "output_type": "stream",
     "text": [
      " 14%|█▎        | 3131/22827 [00:09<01:09, 282.12frames/s]"
     ]
    },
    {
     "name": "stdout",
     "output_type": "stream",
     "text": [
      "\r",
      "[download]  59.2% of 4.65MiB at 54.34KiB/s ETA 00:35"
     ]
    },
    {
     "name": "stderr",
     "output_type": "stream",
     "text": [
      "\r",
      " 51%|█████     | 3765/7425 [00:10<00:12, 292.98frames/s]\r",
      " 14%|█▍        | 3162/22827 [00:09<01:08, 288.59frames/s]\r",
      " 51%|█████     | 3797/7425 [00:10<00:12, 297.89frames/s]\r",
      " 14%|█▍        | 3196/22827 [00:09<01:05, 298.84frames/s]"
     ]
    },
    {
     "name": "stdout",
     "output_type": "stream",
     "text": [
      "\r",
      "[download]  47.3% of 8.76MiB at 81.52KiB/s ETA 00:58"
     ]
    },
    {
     "name": "stderr",
     "output_type": "stream",
     "text": [
      " 15%|█▍        | 3329/22827 [00:09<01:02, 312.60frames/s]"
     ]
    },
    {
     "name": "stdout",
     "output_type": "stream",
     "text": [
      "\r",
      "[download]  60.3% of 4.65MiB at 54.48KiB/s ETA 00:34"
     ]
    },
    {
     "name": "stderr",
     "output_type": "stream",
     "text": [
      " 15%|█▌        | 3455/22827 [00:10<01:18, 248.18frames/s]"
     ]
    },
    {
     "name": "stdout",
     "output_type": "stream",
     "text": [
      "\r",
      "[download]  48.2% of 8.76MiB at 81.56KiB/s ETA 00:56"
     ]
    },
    {
     "name": "stderr",
     "output_type": "stream",
     "text": [
      " 58%|█████▊    | 4274/7425 [00:11<00:11, 282.54frames/s]]"
     ]
    },
    {
     "name": "stdout",
     "output_type": "stream",
     "text": [
      "\r",
      "[download]  61.7% of 4.65MiB at 54.47KiB/s ETA 00:33\r",
      "[download]  49.1% of 8.76MiB at 81.65KiB/s ETA 00:55"
     ]
    },
    {
     "name": "stderr",
     "output_type": "stream",
     "text": [
      " 62%|██████▏   | 4586/7425 [00:13<00:12, 230.70frames/s]]"
     ]
    },
    {
     "name": "stdout",
     "output_type": "stream",
     "text": [
      "\r",
      "[download]  62.8% of 4.65MiB at 54.31KiB/s ETA 00:32"
     ]
    },
    {
     "name": "stderr",
     "output_type": "stream",
     "text": [
      "\r",
      " 17%|█▋        | 3986/22827 [00:12<01:12, 260.68frames/s]\r",
      " 62%|██████▏   | 4611/7425 [00:13<00:12, 233.15frames/s]\r",
      " 62%|██████▏   | 4636/7425 [00:13<00:12, 232.08frames/s]\r",
      " 18%|█▊        | 4014/22827 [00:12<01:26, 216.80frames/s]"
     ]
    },
    {
     "name": "stdout",
     "output_type": "stream",
     "text": [
      "\r",
      "[download]  50.1% of 8.76MiB at 81.48KiB/s ETA 00:54"
     ]
    },
    {
     "name": "stderr",
     "output_type": "stream",
     "text": [
      "\r",
      " 63%|██████▎   | 4660/7425 [00:13<00:12, 221.05frames/s]\r",
      " 18%|█▊        | 4038/22827 [00:12<01:27, 215.32frames/s]\r",
      " 63%|██████▎   | 4708/7425 [00:13<00:09, 288.37frames/s]\r",
      " 18%|█▊        | 4065/22827 [00:12<01:25, 220.45frames/s]"
     ]
    },
    {
     "name": "stdout",
     "output_type": "stream",
     "text": [
      "\r",
      "[download]  63.8% of 4.65MiB at 54.58KiB/s ETA 00:31"
     ]
    },
    {
     "name": "stderr",
     "output_type": "stream",
     "text": [
      " 65%|██████▌   | 4830/7425 [00:14<00:13, 194.87frames/s]]"
     ]
    },
    {
     "name": "stdout",
     "output_type": "stream",
     "text": [
      "\r",
      "[download]  50.9% of 8.76MiB at 81.68KiB/s ETA 00:53"
     ]
    },
    {
     "name": "stderr",
     "output_type": "stream",
     "text": [
      " 68%|██████▊   | 5047/7425 [00:15<00:09, 249.96frames/s]]"
     ]
    },
    {
     "name": "stdout",
     "output_type": "stream",
     "text": [
      "\r",
      "[download]  65.5% of 4.65MiB at 54.61KiB/s ETA 00:30\r",
      "[download]  52.0% of 8.76MiB at 81.68KiB/s ETA 00:52"
     ]
    },
    {
     "name": "stderr",
     "output_type": "stream",
     "text": [
      " 71%|███████   | 5281/7425 [00:16<00:09, 227.01frames/s]]"
     ]
    },
    {
     "name": "stdout",
     "output_type": "stream",
     "text": [
      "\r",
      "[download]  52.9% of 8.76MiB at 81.72KiB/s ETA 00:51\r",
      "[download]  66.6% of 4.65MiB at 54.45KiB/s ETA 00:29"
     ]
    },
    {
     "name": "stderr",
     "output_type": "stream",
     "text": [
      " 22%|██▏       | 4929/22827 [00:15<00:52, 342.52frames/s]"
     ]
    },
    {
     "name": "stdout",
     "output_type": "stream",
     "text": [
      "\r",
      "[download]  67.6% of 4.65MiB at 54.46KiB/s ETA 00:28\r",
      "[download]  53.8% of 8.76MiB at 81.79KiB/s ETA 00:50"
     ]
    },
    {
     "name": "stderr",
     "output_type": "stream",
     "text": [
      " 24%|██▍       | 5497/22827 [00:17<00:24, 693.31frames/s]"
     ]
    },
    {
     "name": "stdout",
     "output_type": "stream",
     "text": [
      "\r",
      "[download]  68.8% of 4.65MiB at 54.58KiB/s ETA 00:27"
     ]
    },
    {
     "name": "stderr",
     "output_type": "stream",
     "text": [
      "\r",
      " 83%|████████▎ | 6160/7425 [00:18<00:01, 707.87frames/s]\r",
      " 24%|██▍       | 5581/22827 [00:17<00:23, 734.16frames/s]\r",
      " 84%|████████▍ | 6241/7425 [00:18<00:01, 737.69frames/s]\r",
      " 25%|██▍       | 5656/22827 [00:17<00:23, 718.76frames/s]"
     ]
    },
    {
     "name": "stdout",
     "output_type": "stream",
     "text": [
      "\r",
      "[download]  54.8% of 8.76MiB at 81.65KiB/s ETA 00:49"
     ]
    },
    {
     "name": "stderr",
     "output_type": "stream",
     "text": [
      " 93%|█████████▎| 6919/7425 [00:19<00:00, 728.99frames/s]]"
     ]
    },
    {
     "name": "stdout",
     "output_type": "stream",
     "text": [
      "\r",
      "[download]  70.1% of 4.65MiB at 54.57KiB/s ETA 00:26\r",
      "[download]  55.6% of 8.76MiB at 81.57KiB/s ETA 00:48"
     ]
    },
    {
     "name": "stderr",
     "output_type": "stream",
     "text": [
      "100%|██████████| 7425/7425 [00:19<00:00, 372.57frames/s]]\n"
     ]
    },
    {
     "name": "stdout",
     "output_type": "stream",
     "text": [
      "[PySceneDetect] Processed 7425 frames in 20.0 seconds (average 370.71 FPS).\n",
      "[PySceneDetect] Detected 142 scenes, average shot length 2.2 seconds.\n",
      "[PySceneDetect] Comma-separated timecode list:\n",
      "  00:00:01.168,00:00:02.461,00:00:03.962,00:00:06.006,00:00:07.966,00:00:12.221,00:00:14.097,00:00:15.057,00:00:16.183,00:00:18.894,00:00:20.062,00:00:22.773,00:00:25.359,00:00:27.027,00:00:30.322,00:00:32.324,00:00:33.742,00:00:35.494,00:00:38.080,00:00:39.873,00:00:44.253,00:00:47.047,00:00:48.840,00:00:50.884,00:00:52.761,00:00:55.138,00:00:56.348,00:00:59.643,00:01:03.438,00:01:04.523,00:01:09.861,00:01:12.197,00:01:14.199,00:01:16.493,00:01:17.661,00:01:19.663,00:01:21.623,00:01:23.292,00:01:25.794,00:01:32.092,00:01:34.511,00:01:36.138,00:01:37.973,00:01:43.270,00:01:46.982,00:01:49.401,00:01:50.944,00:01:54.114,00:01:56.950,00:01:59.202,00:02:01.913,00:02:05.375,00:02:07.377,00:02:08.837,00:02:11.465,00:02:14.051,00:02:15.302,00:02:18.430,00:02:19.389,00:02:20.891,00:02:22.392,00:02:25.145,00:02:26.647,00:02:28.523,00:02:30.317,00:02:34.279,00:02:35.655,00:02:38.283,00:02:39.826,00:02:41.620,00:02:43.330,00:02:45.665,00:02:48.919,00:02:53.173,00:02:54.800,00:02:57.344,00:02:58.470,00:03:00.347,00:03:04.184,00:03:06.144,00:03:11.149,00:03:12.526,00:03:14.069,00:03:15.904,00:03:17.406,00:03:19.324,00:03:21.618,00:03:23.161,00:03:25.997,00:03:27.499,00:03:28.625,00:03:30.127,00:03:31.878,00:03:33.338,00:03:36.383,00:03:38.718,00:03:41.555,00:03:43.098,00:03:45.725,00:03:49.563,00:03:52.065,00:03:53.275,00:03:54.651,00:03:57.821,00:03:59.656,00:04:01.658,00:04:03.160,00:04:04.411,00:04:06.913,00:04:07.747,00:04:08.832,00:04:09.416,00:04:10.083,00:04:10.917,00:04:11.751,00:04:12.419,00:04:13.086,00:04:13.753,00:04:14.463,00:04:17.716,00:04:19.259,00:04:21.303,00:04:24.055,00:04:25.223,00:04:27.309,00:04:31.396,00:04:32.355,00:04:33.440,00:04:34.649,00:04:35.984,00:04:37.110,00:04:38.403,00:04:39.613,00:04:41.990,00:04:44.951,00:04:47.621,00:04:49.247,00:04:51.124,00:04:53.084,00:04:56.213,00:04:56.796\n",
      "[PySceneDetect] Generating output images (3 per scene)...\n",
      "\r",
      "[download]  56.5% of 8.76MiB at 81.79KiB/s ETA 00:47"
     ]
    },
    {
     "name": "stderr",
     "output_type": "stream",
     "text": [
      "  7%|▋         | 28/426 [00:00<00:05, 68.18images/s]es/s]"
     ]
    },
    {
     "name": "stdout",
     "output_type": "stream",
     "text": [
      "\r",
      "[download]  71.2% of 4.65MiB at 54.40KiB/s ETA 00:25"
     ]
    },
    {
     "name": "stderr",
     "output_type": "stream",
     "text": [
      " 14%|█▍        | 60/426 [00:01<00:07, 52.15images/s]es/s]"
     ]
    },
    {
     "name": "stdout",
     "output_type": "stream",
     "text": [
      "\r",
      "[download]  72.2% of 4.65MiB at 54.63KiB/s ETA 00:24"
     ]
    },
    {
     "name": "stderr",
     "output_type": "stream",
     "text": [
      " 34%|███▍      | 7829/22827 [00:20<00:28, 519.09frames/s]"
     ]
    },
    {
     "name": "stdout",
     "output_type": "stream",
     "text": [
      "\r",
      "[download]  57.6% of 8.76MiB at 81.61KiB/s ETA 00:46"
     ]
    },
    {
     "name": "stderr",
     "output_type": "stream",
     "text": [
      " 37%|███▋      | 8397/22827 [00:21<00:16, 849.45frames/s]"
     ]
    },
    {
     "name": "stdout",
     "output_type": "stream",
     "text": [
      "\r",
      "[download]  58.4% of 8.76MiB at 81.75KiB/s ETA 00:45\r",
      "[download]  73.8% of 4.65MiB at 54.62KiB/s ETA 00:22"
     ]
    },
    {
     "name": "stderr",
     "output_type": "stream",
     "text": [
      " 41%|████      | 9409/22827 [00:22<00:16, 814.75frames/s]"
     ]
    },
    {
     "name": "stdout",
     "output_type": "stream",
     "text": [
      "\r",
      "[download]  59.4% of 8.76MiB at 81.72KiB/s ETA 00:44\r",
      "[download]  75.0% of 4.65MiB at 54.49KiB/s ETA 00:21"
     ]
    },
    {
     "name": "stderr",
     "output_type": "stream",
     "text": [
      " 58%|█████▊    | 248/426 [00:04<00:02, 62.04images/s]es/s]"
     ]
    },
    {
     "name": "stdout",
     "output_type": "stream",
     "text": [
      "\r",
      "[download]  60.3% of 8.76MiB at 81.73KiB/s ETA 00:43\r",
      "[download]  76.0% of 4.65MiB at 54.47KiB/s ETA 00:21"
     ]
    },
    {
     "name": "stderr",
     "output_type": "stream",
     "text": [
      " 47%|████▋     | 10781/22827 [00:24<00:16, 729.02frames/s]"
     ]
    },
    {
     "name": "stdout",
     "output_type": "stream",
     "text": [
      "\r",
      "[download]  77.1% of 4.65MiB at 54.55KiB/s ETA 00:20\r",
      "[download]  61.3% of 8.76MiB at 81.78KiB/s ETA 00:42"
     ]
    },
    {
     "name": "stderr",
     "output_type": "stream",
     "text": [
      " 51%|█████▏    | 11744/22827 [00:25<00:14, 742.31frames/s]"
     ]
    },
    {
     "name": "stdout",
     "output_type": "stream",
     "text": [
      "\r",
      "[download]  62.2% of 8.76MiB at 81.86KiB/s ETA 00:41\r",
      "[download]  78.4% of 4.65MiB at 54.52KiB/s ETA 00:18"
     ]
    },
    {
     "name": "stderr",
     "output_type": "stream",
     "text": [
      "100%|██████████| 426/426 [00:07<00:00, 58.11images/s]es/s]\n",
      " 55%|█████▍    | 12526/22827 [00:26<00:11, 866.48frames/s]"
     ]
    },
    {
     "name": "stdout",
     "output_type": "stream",
     "text": [
      "\r",
      "[download]  79.5% of 4.65MiB at 54.57KiB/s ETA 00:17\r",
      "[download]  63.2% of 8.76MiB at 81.75KiB/s ETA 00:40"
     ]
    },
    {
     "name": "stderr",
     "output_type": "stream",
     "text": [
      " 59%|█████▊    | 13360/22827 [00:27<00:12, 772.05frames/s]"
     ]
    },
    {
     "name": "stdout",
     "output_type": "stream",
     "text": [
      "\r",
      "[download]  64.0% of 8.76MiB at 81.69KiB/s ETA 00:39\r",
      "[download]  80.7% of 4.65MiB at 54.50KiB/s ETA 00:16"
     ]
    },
    {
     "name": "stderr",
     "output_type": "stream",
     "text": [
      " 61%|██████    | 13932/22827 [00:28<00:11, 799.65frames/s]"
     ]
    },
    {
     "name": "stdout",
     "output_type": "stream",
     "text": [
      "\r",
      "[download]  64.9% of 8.76MiB at 81.87KiB/s ETA 00:38\r",
      "[download]  81.7% of 4.65MiB at 54.54KiB/s ETA 00:15"
     ]
    },
    {
     "name": "stderr",
     "output_type": "stream",
     "text": [
      " 64%|██████▍   | 14555/22827 [00:29<00:25, 325.19frames/s]"
     ]
    },
    {
     "name": "stdout",
     "output_type": "stream",
     "text": [
      "\r",
      "[download]  83.0% of 4.65MiB at 54.46KiB/s ETA 00:14\r",
      "[download]  66.0% of 8.76MiB at 81.68KiB/s ETA 00:37"
     ]
    },
    {
     "name": "stderr",
     "output_type": "stream",
     "text": [
      " 66%|██████▋   | 15169/22827 [00:30<00:10, 700.45frames/s]"
     ]
    },
    {
     "name": "stdout",
     "output_type": "stream",
     "text": [
      "\r",
      "[download]  66.8% of 8.76MiB at 81.81KiB/s ETA 00:36\r",
      "[download]  84.0% of 4.65MiB at 54.49KiB/s ETA 00:13"
     ]
    },
    {
     "name": "stderr",
     "output_type": "stream",
     "text": [
      " 70%|██████▉   | 15940/22827 [00:31<00:07, 872.22frames/s]"
     ]
    },
    {
     "name": "stdout",
     "output_type": "stream",
     "text": [
      "\r",
      "[download]  85.2% of 4.65MiB at 54.61KiB/s ETA 00:12"
     ]
    },
    {
     "name": "stderr",
     "output_type": "stream",
     "text": [
      "\r",
      " 70%|███████   | 16029/22827 [00:31<00:07, 850.85frames/s]\r",
      " 71%|███████   | 16115/22827 [00:31<00:08, 749.33frames/s]"
     ]
    },
    {
     "name": "stdout",
     "output_type": "stream",
     "text": [
      "\r",
      "[download]  67.8% of 8.76MiB at 81.78KiB/s ETA 00:35"
     ]
    },
    {
     "name": "stderr",
     "output_type": "stream",
     "text": [
      " 75%|███████▍  | 17043/22827 [00:32<00:06, 869.53frames/s] "
     ]
    },
    {
     "name": "stdout",
     "output_type": "stream",
     "text": [
      "\r",
      "[download]  86.5% of 4.65MiB at 54.63KiB/s ETA 00:11\r",
      "[download]  68.7% of 8.76MiB at 81.80KiB/s ETA 00:34"
     ]
    },
    {
     "name": "stderr",
     "output_type": "stream",
     "text": [
      " 79%|███████▉  | 18061/22827 [00:33<00:04, 1083.80frames/s]"
     ]
    },
    {
     "name": "stdout",
     "output_type": "stream",
     "text": [
      "\r",
      "[download]  69.6% of 8.76MiB at 81.84KiB/s ETA 00:33\r",
      "[download]  87.7% of 4.65MiB at 54.54KiB/s ETA 00:10"
     ]
    },
    {
     "name": "stderr",
     "output_type": "stream",
     "text": [
      " 84%|████████▍ | 19215/22827 [00:34<00:03, 1152.22frames/s]"
     ]
    },
    {
     "name": "stdout",
     "output_type": "stream",
     "text": [
      "\r",
      "[download]  70.6% of 8.76MiB at 81.91KiB/s ETA 00:32\r",
      "[download]  88.7% of 4.65MiB at 54.54KiB/s ETA 00:09"
     ]
    },
    {
     "name": "stderr",
     "output_type": "stream",
     "text": [
      " 89%|████████▉ | 20408/22827 [00:35<00:01, 1232.82frames/s]"
     ]
    },
    {
     "name": "stdout",
     "output_type": "stream",
     "text": [
      "\r",
      "[download]  89.9% of 4.65MiB at 54.63KiB/s ETA 00:08"
     ]
    },
    {
     "name": "stderr",
     "output_type": "stream",
     "text": [
      "\r",
      " 90%|████████▉ | 20539/22827 [00:35<00:01, 1254.57frames/s]\r",
      " 91%|█████████ | 20666/22827 [00:35<00:01, 1229.92frames/s]"
     ]
    },
    {
     "name": "stdout",
     "output_type": "stream",
     "text": [
      "\r",
      "[download]  71.6% of 8.76MiB at 81.80KiB/s ETA 00:31"
     ]
    },
    {
     "name": "stderr",
     "output_type": "stream",
     "text": [
      " 95%|█████████▍| 21637/22827 [00:36<00:00, 1218.02frames/s]"
     ]
    },
    {
     "name": "stdout",
     "output_type": "stream",
     "text": [
      "\r",
      "[download]  72.4% of 8.76MiB at 81.94KiB/s ETA 00:30\r",
      "[download]  91.2% of 4.65MiB at 54.62KiB/s ETA 00:07"
     ]
    },
    {
     "name": "stderr",
     "output_type": "stream",
     "text": [
      "100%|██████████| 22827/22827 [00:37<00:00, 608.83frames/s] \n",
      "  0%|          | 0/738 [00:00<?, ?images/s]"
     ]
    },
    {
     "name": "stdout",
     "output_type": "stream",
     "text": [
      "[PySceneDetect] Processed 22827 frames in 37.6 seconds (average 607.61 FPS).\n",
      "[PySceneDetect] Detected 246 scenes, average shot length 3.1 seconds.\n",
      "[PySceneDetect] Comma-separated timecode list:\n",
      "  00:00:02.369,00:00:06.173,00:00:09.176,00:00:14.081,00:00:14.715,00:00:15.315,00:00:17.084,00:00:22.256,00:00:25.626,00:00:28.228,00:00:31.832,00:00:32.466,00:00:35.235,00:00:37.671,00:00:41.174,00:00:44.511,00:00:46.313,00:00:50.150,00:00:52.419,00:00:55.289,00:00:58.525,00:01:00.160,00:01:02.496,00:01:06.500,00:01:08.335,00:01:11.271,00:01:12.239,00:01:14.341,00:01:16.810,00:01:19.446,00:01:23.951,00:01:25.519,00:01:30.123,00:01:34.061,00:01:36.263,00:01:40.767,00:01:44.304,00:01:45.906,00:01:49.676,00:01:54.548,00:01:58.418,00:02:00.120,00:02:03.023,00:02:08.662,00:02:10.697,00:02:15.202,00:02:18.338,00:02:22.943,00:02:26.580,00:02:29.883,00:02:33.587,00:02:36.023,00:02:39.693,00:02:41.795,00:02:45.632,00:02:48.969,00:02:51.705,00:02:54.641,00:02:57.244,00:03:00.781,00:03:06.186,00:03:07.688,00:03:10.724,00:03:13.460,00:03:17.297,00:03:19.933,00:03:22.769,00:03:25.906,00:03:30.043,00:03:36.283,00:03:41.121,00:03:42.489,00:03:45.792,00:03:47.260,00:03:50.330,00:03:52.265,00:03:54.601,00:03:58.238,00:04:00.307,00:04:03.343,00:04:06.780,00:04:09.082,00:04:13.553,00:04:14.221,00:04:14.821,00:04:16.556,00:04:19.993,00:04:23.296,00:04:28.335,00:04:31.671,00:04:34.608,00:04:37.344,00:04:40.781,00:04:43.216,00:04:45.819,00:04:47.020,00:04:48.455,00:04:52.559,00:04:58.565,00:05:02.235,00:05:04.404,00:05:08.441,00:05:10.977,00:05:14.714,00:05:20.353,00:05:22.622,00:05:24.858,00:05:27.127,00:05:29.229,00:05:33.934,00:05:37.470,00:05:40.540,00:05:43.043,00:05:45.278,00:05:49.449,00:05:51.818,00:05:55.088,00:05:58.725,00:06:02.128,00:06:06.633,00:06:12.439,00:06:17.177,00:06:19.746,00:06:23.416,00:06:26.253,00:06:31.358,00:06:35.695,00:06:36.863,00:06:38.698,00:06:43.837,00:06:47.941,00:06:50.143,00:06:53.280,00:06:54.714,00:06:58.551,00:07:01.721,00:07:04.424,00:07:07.560,00:07:12.332,00:07:14.334,00:07:16.436,00:07:19.706,00:07:22.342,00:07:25.845,00:07:28.281,00:07:32.652,00:07:34.888,00:07:38.558,00:07:42.595,00:07:46.099,00:07:50.904,00:07:54.107,00:07:57.944,00:07:59.846,00:08:06.419,00:08:09.022,00:08:12.659,00:08:14.728,00:08:15.829,00:08:19.065,00:08:22.002,00:08:23.670,00:08:24.337,00:08:26.673,00:08:30.543,00:08:32.078,00:08:33.246,00:08:36.015,00:08:37.584,00:08:39.786,00:08:43.590,00:08:44.224,00:08:45.658,00:08:47.761,00:08:50.230,00:08:54.434,00:08:58.405,00:09:01.007,00:09:03.309,00:09:05.979,00:09:09.482,00:09:11.885,00:09:15.288,00:09:17.991,00:09:19.125,00:09:22.595,00:09:26.032,00:09:30.203,00:09:31.971,00:09:35.008,00:09:36.543,00:09:38.945,00:09:41.648,00:09:44.818,00:09:47.287,00:09:50.857,00:09:52.592,00:09:55.562,00:09:58.031,00:10:01.000,00:10:02.435,00:10:04.337,00:10:08.007,00:10:12.979,00:10:16.616,00:10:21.754,00:10:25.859,00:10:27.627,00:10:28.962,00:10:31.498,00:10:32.832,00:10:33.833,00:10:36.736,00:10:38.204,00:10:41.808,00:10:44.244,00:10:45.111,00:10:45.845,00:10:48.114,00:10:51.584,00:10:57.123,00:11:01.227,00:11:01.995,00:11:03.530,00:11:06.833,00:11:10.570,00:11:14.474,00:11:19.445,00:11:25.084,00:11:31.124,00:11:35.061,00:11:40.633,00:11:45.605,00:11:51.477,00:11:55.915,00:11:58.051,00:12:02.088,00:12:03.590,00:12:07.393,00:12:10.863,00:12:14.033,00:12:18.404,00:12:23.376,00:12:28.481,00:12:31.985\n",
      "[PySceneDetect] Generating output images (3 per scene)...\n"
     ]
    },
    {
     "name": "stderr",
     "output_type": "stream",
     "text": [
      "\r",
      "  1%|          | 7/738 [00:00<00:12, 59.22images/s]\r",
      "  2%|▏         | 15/738 [00:00<00:10, 68.33images/s]"
     ]
    },
    {
     "name": "stdout",
     "output_type": "stream",
     "text": [
      "\r",
      "[download]  92.3% of 4.65MiB at 54.51KiB/s ETA 00:06\r",
      "[download]  73.5% of 8.76MiB at 81.76KiB/s ETA 00:29"
     ]
    },
    {
     "name": "stderr",
     "output_type": "stream",
     "text": [
      "  5%|▌         | 37/738 [00:00<00:16, 42.08images/s]"
     ]
    },
    {
     "name": "stdout",
     "output_type": "stream",
     "text": [
      "\r",
      "[download]  93.3% of 4.65MiB at 54.68KiB/s ETA 00:05"
     ]
    },
    {
     "name": "stderr",
     "output_type": "stream",
     "text": [
      "\r",
      "  6%|▌         | 42/738 [00:00<00:15, 43.73images/s]\r",
      "  7%|▋         | 48/738 [00:01<00:15, 45.04images/s]"
     ]
    },
    {
     "name": "stdout",
     "output_type": "stream",
     "text": [
      "\r",
      "[download]  74.3% of 8.76MiB at 81.86KiB/s ETA 00:28"
     ]
    },
    {
     "name": "stderr",
     "output_type": "stream",
     "text": [
      " 12%|█▏        | 89/738 [00:02<00:15, 42.41images/s]"
     ]
    },
    {
     "name": "stdout",
     "output_type": "stream",
     "text": [
      "\r",
      "[download]  75.3% of 8.76MiB at 81.81KiB/s ETA 00:27\r",
      "[download]  94.9% of 4.65MiB at 54.67KiB/s ETA 00:04"
     ]
    },
    {
     "name": "stderr",
     "output_type": "stream",
     "text": [
      " 19%|█▊        | 137/738 [00:03<00:16, 36.36images/s]"
     ]
    },
    {
     "name": "stdout",
     "output_type": "stream",
     "text": [
      "[download]  96.1% of 4.65MiB at 54.55KiB/s ETA 00:03"
     ]
    },
    {
     "name": "stderr",
     "output_type": "stream",
     "text": [
      " 21%|██        | 153/738 [00:03<00:22, 26.54images/s]"
     ]
    },
    {
     "name": "stdout",
     "output_type": "stream",
     "text": [
      "\r",
      "[download]  77.1% of 8.76MiB at 81.81KiB/s ETA 00:25\r",
      "[download]  97.1% of 4.65MiB at 54.53KiB/s ETA 00:02"
     ]
    },
    {
     "name": "stderr",
     "output_type": "stream",
     "text": [
      " 26%|██▌       | 190/738 [00:05<00:14, 37.37images/s]"
     ]
    },
    {
     "name": "stdout",
     "output_type": "stream",
     "text": [
      "\r",
      "[download]  78.0% of 8.76MiB at 81.85KiB/s ETA 00:24\r",
      "[download]  98.1% of 4.65MiB at 54.59KiB/s ETA 00:01"
     ]
    },
    {
     "name": "stderr",
     "output_type": "stream",
     "text": [
      " 29%|██▊       | 211/738 [00:06<00:24, 21.48images/s]"
     ]
    },
    {
     "name": "stdout",
     "output_type": "stream",
     "text": [
      "[download]  99.4% of 4.65MiB at 54.55KiB/s ETA 00:00"
     ]
    },
    {
     "name": "stderr",
     "output_type": "stream",
     "text": [
      "\r",
      " 29%|██▉       | 214/738 [00:06<00:30, 17.28images/s]\r",
      " 29%|██▉       | 217/738 [00:06<00:29, 17.68images/s]"
     ]
    },
    {
     "name": "stdout",
     "output_type": "stream",
     "text": [
      "\r",
      "[download] 100.0% of 4.65MiB at 54.72KiB/s ETA 00:00\r",
      "[download] 100% of 4.65MiB in 01:27\n"
     ]
    },
    {
     "name": "stderr",
     "output_type": "stream",
     "text": [
      " 31%|███       | 226/738 [00:07<00:31, 16.06images/s]"
     ]
    },
    {
     "name": "stdout",
     "output_type": "stream",
     "text": [
      "\r",
      "[download]  79.9% of 8.76MiB at 81.81KiB/s ETA 00:22"
     ]
    },
    {
     "name": "stderr",
     "output_type": "stream",
     "text": [
      " 33%|███▎      | 240/738 [00:07<00:19, 25.40images/s]"
     ]
    },
    {
     "name": "stdout",
     "output_type": "stream",
     "text": [
      "[PySceneDetect] PySceneDetect v0.6.0.3\n",
      "[PySceneDetect] Image output format set: JPEG [Quality: 95]\n",
      "[PySceneDetect] Detecting scenes...\n"
     ]
    },
    {
     "name": "stderr",
     "output_type": "stream",
     "text": [
      "\r",
      " 33%|███▎      | 243/738 [00:07<00:19, 24.81images/s]\r",
      "  0%|          | 0/16372 [00:00<?, ?frames/s]\r",
      "  0%|          | 49/16372 [00:00<00:33, 485.55frames/s]\r",
      " 33%|███▎      | 246/738 [00:07<00:20, 23.59images/s]"
     ]
    },
    {
     "name": "stdout",
     "output_type": "stream",
     "text": [
      "\r",
      "[download]  80.7% of 8.76MiB at 81.94KiB/s ETA 00:21"
     ]
    },
    {
     "name": "stderr",
     "output_type": "stream",
     "text": [
      " 38%|███▊      | 280/738 [00:09<00:20, 22.34images/s]/s]"
     ]
    },
    {
     "name": "stdout",
     "output_type": "stream",
     "text": [
      "\r",
      "[download]  81.8% of 8.76MiB at 81.95KiB/s ETA 00:19"
     ]
    },
    {
     "name": "stderr",
     "output_type": "stream",
     "text": [
      " 41%|████▏     | 305/738 [00:10<00:21, 20.56images/s]s/s]"
     ]
    },
    {
     "name": "stdout",
     "output_type": "stream",
     "text": [
      "\r",
      "[download]  82.7% of 8.76MiB at 81.81KiB/s ETA 00:18"
     ]
    },
    {
     "name": "stderr",
     "output_type": "stream",
     "text": [
      " 11%|█         | 1729/16372 [00:03<00:25, 566.86frames/s]"
     ]
    },
    {
     "name": "stdout",
     "output_type": "stream",
     "text": [
      "\r",
      "[download]  83.5% of 8.76MiB at 81.89KiB/s ETA 00:18"
     ]
    },
    {
     "name": "stderr",
     "output_type": "stream",
     "text": [
      " 48%|████▊     | 351/738 [00:12<00:15, 25.49images/s]s/s]"
     ]
    },
    {
     "name": "stdout",
     "output_type": "stream",
     "text": [
      "\r",
      "[download]  84.5% of 8.76MiB at 81.83KiB/s ETA 00:16"
     ]
    },
    {
     "name": "stderr",
     "output_type": "stream",
     "text": [
      " 20%|█▉        | 3204/16372 [00:05<00:17, 763.17frames/s]"
     ]
    },
    {
     "name": "stdout",
     "output_type": "stream",
     "text": [
      "\r",
      "[download]  85.4% of 8.76MiB at 81.98KiB/s ETA 00:15"
     ]
    },
    {
     "name": "stderr",
     "output_type": "stream",
     "text": [
      " 24%|██▍       | 3958/16372 [00:06<00:14, 863.15frames/s]"
     ]
    },
    {
     "name": "stdout",
     "output_type": "stream",
     "text": [
      "\r",
      "[download]  86.5% of 8.76MiB at 81.86KiB/s ETA 00:14"
     ]
    },
    {
     "name": "stderr",
     "output_type": "stream",
     "text": [
      " 59%|█████▊    | 432/738 [00:15<00:11, 26.25images/s]s/s]"
     ]
    },
    {
     "name": "stdout",
     "output_type": "stream",
     "text": [
      "\r",
      "[download]  87.3% of 8.76MiB at 81.95KiB/s ETA 00:13"
     ]
    },
    {
     "name": "stderr",
     "output_type": "stream",
     "text": [
      " 33%|███▎      | 5329/16372 [00:08<00:18, 611.11frames/s]"
     ]
    },
    {
     "name": "stdout",
     "output_type": "stream",
     "text": [
      "\r",
      "[download]  88.4% of 8.76MiB at 81.93KiB/s ETA 00:12"
     ]
    },
    {
     "name": "stderr",
     "output_type": "stream",
     "text": [
      " 36%|███▌      | 5888/16372 [00:09<00:15, 694.01frames/s]"
     ]
    },
    {
     "name": "stdout",
     "output_type": "stream",
     "text": [
      "\r",
      "[download]  89.3% of 8.76MiB at 81.94KiB/s ETA 00:11"
     ]
    },
    {
     "name": "stderr",
     "output_type": "stream",
     "text": [
      " 69%|██████▉   | 510/738 [00:18<00:08, 26.38images/s]s/s]"
     ]
    },
    {
     "name": "stdout",
     "output_type": "stream",
     "text": [
      "\r",
      "[download]  90.2% of 8.76MiB at 81.97KiB/s ETA 00:10"
     ]
    },
    {
     "name": "stderr",
     "output_type": "stream",
     "text": [
      " 45%|████▍     | 7343/16372 [00:11<00:13, 682.39frames/s]"
     ]
    },
    {
     "name": "stdout",
     "output_type": "stream",
     "text": [
      "\r",
      "[download]  91.1% of 8.76MiB at 81.86KiB/s ETA 00:09"
     ]
    },
    {
     "name": "stderr",
     "output_type": "stream",
     "text": [
      " 77%|███████▋  | 565/738 [00:20<00:05, 33.36images/s]s/s]"
     ]
    },
    {
     "name": "stdout",
     "output_type": "stream",
     "text": [
      "\r",
      "[download]  91.9% of 8.76MiB at 81.95KiB/s ETA 00:08"
     ]
    },
    {
     "name": "stderr",
     "output_type": "stream",
     "text": [
      " 54%|█████▎    | 8763/16372 [00:13<00:09, 782.86frames/s]"
     ]
    },
    {
     "name": "stdout",
     "output_type": "stream",
     "text": [
      "\r",
      "[download]  93.0% of 8.76MiB at 81.94KiB/s ETA 00:07"
     ]
    },
    {
     "name": "stderr",
     "output_type": "stream",
     "text": [
      " 58%|█████▊    | 9558/16372 [00:14<00:08, 770.54frames/s]"
     ]
    },
    {
     "name": "stdout",
     "output_type": "stream",
     "text": [
      "\r",
      "[download]  93.9% of 8.76MiB at 81.95KiB/s ETA 00:06"
     ]
    },
    {
     "name": "stderr",
     "output_type": "stream",
     "text": [
      " 89%|████████▉ | 660/738 [00:23<00:02, 29.75images/s]es/s]"
     ]
    },
    {
     "name": "stdout",
     "output_type": "stream",
     "text": [
      "\r",
      "[download]  94.8% of 8.76MiB at 81.99KiB/s ETA 00:05"
     ]
    },
    {
     "name": "stderr",
     "output_type": "stream",
     "text": [
      " 68%|██████▊   | 11069/16372 [00:16<00:07, 737.22frames/s]"
     ]
    },
    {
     "name": "stdout",
     "output_type": "stream",
     "text": [
      "\r",
      "[download]  95.8% of 8.76MiB at 81.89KiB/s ETA 00:04"
     ]
    },
    {
     "name": "stderr",
     "output_type": "stream",
     "text": [
      " 97%|█████████▋| 716/738 [00:25<00:00, 25.50images/s]es/s]"
     ]
    },
    {
     "name": "stdout",
     "output_type": "stream",
     "text": [
      "\r",
      "[download]  96.6% of 8.76MiB at 81.98KiB/s ETA 00:03"
     ]
    },
    {
     "name": "stderr",
     "output_type": "stream",
     "text": [
      "100%|██████████| 738/738 [00:26<00:00, 28.31images/s]es/s]\n",
      " 75%|███████▌  | 12356/16372 [00:18<00:06, 595.70frames/s]"
     ]
    },
    {
     "name": "stdout",
     "output_type": "stream",
     "text": [
      "\r",
      "[download]  97.6% of 8.76MiB at 81.97KiB/s ETA 00:02"
     ]
    },
    {
     "name": "stderr",
     "output_type": "stream",
     "text": [
      " 81%|████████  | 13230/16372 [00:19<00:03, 812.50frames/s]"
     ]
    },
    {
     "name": "stdout",
     "output_type": "stream",
     "text": [
      "\r",
      "[download]  98.5% of 8.76MiB at 81.99KiB/s ETA 00:01"
     ]
    },
    {
     "name": "stderr",
     "output_type": "stream",
     "text": [
      " 85%|████████▌ | 13979/16372 [00:20<00:03, 778.37frames/s]"
     ]
    },
    {
     "name": "stdout",
     "output_type": "stream",
     "text": [
      "\r",
      "[download]  99.5% of 8.76MiB at 82.02KiB/s ETA 00:00"
     ]
    },
    {
     "name": "stderr",
     "output_type": "stream",
     "text": [
      " 89%|████████▊ | 14491/16372 [00:21<00:02, 695.91frames/s]"
     ]
    },
    {
     "name": "stdout",
     "output_type": "stream",
     "text": [
      "\r",
      "[download] 100.0% of 8.76MiB at 82.04KiB/s ETA 00:00\r",
      "[download] 100% of 8.76MiB in 01:49\n"
     ]
    },
    {
     "name": "stderr",
     "output_type": "stream",
     "text": [
      " 92%|█████████▏| 14987/16372 [00:22<00:02, 624.19frames/s]"
     ]
    },
    {
     "name": "stdout",
     "output_type": "stream",
     "text": [
      "[PySceneDetect] PySceneDetect v0.6.0.3\n",
      "[PySceneDetect] Image output format set: JPEG [Quality: 95]\n",
      "[PySceneDetect] Detecting scenes...\n"
     ]
    },
    {
     "name": "stderr",
     "output_type": "stream",
     "text": [
      "100%|██████████| 16372/16372 [00:24<00:00, 656.24frames/s]\n",
      "  0%|          | 0/3 [00:00<?, ?images/s]"
     ]
    },
    {
     "name": "stdout",
     "output_type": "stream",
     "text": [
      "[PySceneDetect] Processed 16372 frames in 25.0 seconds (average 653.69 FPS).\n",
      "[PySceneDetect] Detected 1 scenes, average shot length 682.2 seconds.\n",
      "[PySceneDetect] Generating output images (3 per scene)...\n"
     ]
    },
    {
     "name": "stderr",
     "output_type": "stream",
     "text": [
      "100%|██████████| 3/3 [00:00<00:00, 23.87images/s]rames/s]\n",
      "100%|██████████| 24452/24452 [00:25<00:00, 973.32frames/s] \n",
      "  1%|▏         | 9/690 [00:00<00:09, 71.75images/s]"
     ]
    },
    {
     "name": "stdout",
     "output_type": "stream",
     "text": [
      "[PySceneDetect] Processed 24452 frames in 25.2 seconds (average 970.41 FPS).\n",
      "[PySceneDetect] Detected 230 scenes, average shot length 4.4 seconds.\n",
      "[PySceneDetect] Comma-separated timecode list:\n",
      "  00:00:02.583,00:00:06.458,00:00:09.875,00:00:13.000,00:00:14.792,00:00:17.625,00:00:23.833,00:00:26.250,00:00:31.042,00:00:33.250,00:00:36.458,00:00:39.250,00:00:40.208,00:00:44.458,00:00:47.667,00:00:51.375,00:00:53.250,00:00:59.208,00:01:02.083,00:01:11.708,00:01:16.208,00:01:17.667,00:01:23.125,00:01:31.125,00:01:35.708,00:01:37.792,00:01:41.833,00:01:47.625,00:01:49.167,00:01:52.292,00:02:02.833,00:02:06.333,00:02:11.875,00:02:20.458,00:02:33.542,00:02:38.458,00:02:45.958,00:02:49.417,00:02:59.333,00:03:02.292,00:03:07.458,00:03:10.333,00:03:13.333,00:03:21.208,00:03:31.083,00:03:33.958,00:03:39.333,00:03:42.667,00:03:45.625,00:03:50.708,00:03:56.458,00:04:01.042,00:04:03.792,00:04:08.542,00:04:15.417,00:04:20.125,00:04:24.708,00:04:26.958,00:04:29.125,00:04:35.167,00:04:38.292,00:04:43.208,00:04:47.708,00:04:57.000,00:05:02.583,00:05:11.625,00:05:21.208,00:05:25.583,00:05:28.458,00:05:35.583,00:05:46.000,00:05:48.875,00:05:58.000,00:06:02.750,00:06:07.875,00:06:14.333,00:06:20.458,00:06:24.875,00:06:30.792,00:06:41.833,00:06:47.458,00:06:50.542,00:06:52.333,00:06:56.667,00:07:03.833,00:07:09.167,00:07:10.583,00:07:19.958,00:07:26.375,00:07:32.500,00:07:36.958,00:07:40.792,00:07:43.167,00:07:47.167,00:07:48.583,00:07:51.333,00:07:59.500,00:08:05.375,00:08:10.667,00:08:13.042,00:08:19.000,00:08:25.000,00:08:28.250,00:08:29.167,00:08:31.250,00:08:33.833,00:08:35.250,00:08:39.667,00:08:42.458,00:08:43.875,00:08:51.292,00:08:55.750,00:08:57.875,00:09:00.958,00:09:04.583,00:09:08.000,00:09:11.792,00:09:13.875,00:09:18.292,00:09:22.875,00:09:28.625,00:09:33.792,00:09:37.167,00:09:40.750,00:09:44.958,00:09:52.875,00:09:57.042,00:10:02.583,00:10:09.625,00:10:19.292,00:10:26.250,00:10:28.500,00:10:30.792,00:10:33.208,00:10:41.042,00:10:44.625,00:10:45.583,00:10:49.625,00:10:56.167,00:11:03.417,00:11:09.417,00:11:15.375,00:11:21.458,00:11:31.583,00:11:35.000,00:11:37.458,00:11:42.458,00:11:46.125,00:11:53.292,00:11:58.750,00:12:07.458,00:12:12.500,00:12:16.083,00:12:18.958,00:12:21.958,00:12:25.625,00:12:30.583,00:12:34.583,00:12:37.583,00:12:45.542,00:12:49.125,00:12:55.250,00:12:59.750,00:13:05.042,00:13:07.417,00:13:08.917,00:13:15.125,00:13:17.625,00:13:19.917,00:13:23.875,00:13:27.000,00:13:34.542,00:13:39.167,00:13:41.792,00:13:46.625,00:13:51.333,00:13:53.458,00:13:56.792,00:13:59.417,00:14:00.125,00:14:00.792,00:14:02.792,00:14:04.750,00:14:07.625,00:14:12.333,00:14:15.667,00:14:21.708,00:14:23.750,00:14:30.458,00:14:32.375,00:14:35.292,00:14:37.792,00:14:39.875,00:14:42.000,00:14:48.417,00:14:53.833,00:14:58.292,00:15:03.167,00:15:07.083,00:15:09.083,00:15:11.667,00:15:15.000,00:15:18.167,00:15:19.167,00:15:21.833,00:15:25.375,00:15:26.750,00:15:29.583,00:15:33.625,00:15:38.125,00:15:42.667,00:15:44.083,00:15:47.542,00:15:48.750,00:15:51.292,00:15:54.083,00:15:57.917,00:16:01.542,00:16:03.833,00:16:06.917,00:16:10.958,00:16:12.875,00:16:17.333,00:16:22.750,00:16:30.000,00:16:35.667,00:16:41.625,00:16:48.875,00:16:53.792\n",
      "[PySceneDetect] Generating output images (3 per scene)...\n"
     ]
    },
    {
     "name": "stderr",
     "output_type": "stream",
     "text": [
      "100%|██████████| 690/690 [00:10<00:00, 67.20images/s]\n"
     ]
    },
    {
     "data": {
      "text/plain": [
       "CompletedProcess(args='cd 0; python3 0.py & cd .. ; cd 1; python3 1.py & cd .. ; cd 2; python3 2.py & cd .. ; cd 3; python3 3.py & cd .. ; cd 4; python3 4.py & cd .. ; cd 5; python3 5.py & cd .. ; cd 6; python3 6.py & cd .. ; cd 7; python3 7.py & cd .. ; cd 8; python3 8.py & cd .. ; cd 9; python3 9.py', returncode=0)"
      ]
     },
     "execution_count": 3,
     "metadata": {},
     "output_type": "execute_result"
    }
   ],
   "source": [
    "for i in range(10):\n",
    "    subprocess.run('mkdir '+ str(i) + '; cd ' + str(i) + '; echo \"import subprocess\\nsubprocess.run(\\'youtube-dl -f worstvideo[ext=mp4] '+videos[i]+'; scenedetect --input *.mp4 detect-content save-images; magick *.jpg images.gif; rm -rf *.jpg\\', shell=True)\" > ' + str(i) + '.py; '\n",
    "                , shell=True)\n",
    "\n",
    "# subprocess.run('mkdir ' + str(i) + '; cd ' + str(i) + '; youtube-dl -f worstvideo[ext=mp4] '\n",
    "#                    + videos[i] + '; scenedetect --input *.mp4 detect-content save-images; '\n",
    "#                    + 'magick *.jpg images.gif; '+ 'rm -rf *.jpg', shell=True)\n",
    "#     subprocess.run('scenedetect --input *.mp4 detect-content save-images', shell=True)\n",
    "#     subprocess.run('magick *.jpg images.gif', shell=True)\n",
    "#     subprocess.run('rm -rf *.jpg', shell=True)\n",
    "\n",
    "subprocess.run('cd 0; python3 0.py & cd .. ; cd 1; python3 1.py & cd .. ; cd 2; python3 2.py & cd .. ; cd 3; python3 3.py & cd .. ; cd 4; python3 4.py & cd .. ; cd 5; python3 5.py & cd .. ; cd 6; python3 6.py & cd .. ; cd 7; python3 7.py & cd .. ; cd 8; python3 8.py & cd .. ; cd 9; python3 9.py', shell=True)\n"
   ]
  },
  {
   "cell_type": "code",
   "execution_count": null,
   "id": "59048ce3",
   "metadata": {},
   "outputs": [],
   "source": []
  }
 ],
 "metadata": {
  "kernelspec": {
   "display_name": "Python 3 (ipykernel)",
   "language": "python",
   "name": "python3"
  },
  "language_info": {
   "codemirror_mode": {
    "name": "ipython",
    "version": 3
   },
   "file_extension": ".py",
   "mimetype": "text/x-python",
   "name": "python",
   "nbconvert_exporter": "python",
   "pygments_lexer": "ipython3",
   "version": "3.10.8"
  }
 },
 "nbformat": 4,
 "nbformat_minor": 5
}
