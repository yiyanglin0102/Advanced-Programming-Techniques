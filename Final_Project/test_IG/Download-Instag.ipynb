{
 "cells": [
  {
   "cell_type": "code",
   "execution_count": 4,
   "id": "8e37c313",
   "metadata": {},
   "outputs": [],
   "source": [
    "#!/usr/bin/env python\n",
    "# coding: utf-8\n",
    "\n",
    "import os, sys, re, subprocess, requests, numpy as np, glob\n",
    "from instaloader import Instaloader, Profile, instaloader\n",
    "from urllib.parse import urljoin\n",
    "from bs4 import BeautifulSoup\n",
    "\n",
    "inputString = 'airplane'\n",
    "keyword = '#' + inputString"
   ]
  },
  {
   "cell_type": "code",
   "execution_count": null,
   "id": "91fc52e1",
   "metadata": {},
   "outputs": [],
   "source": [
    "p = subprocess.Popen('instaloader --login=ylin363 --post-filter=\"is_video\" ' + '\\\"' + keyword + '\\\"', stdout=subprocess.PIPE, shell=True)\n",
    "\n",
    "path = os.getcwd() + \"/\" + keyword\n",
    "\n",
    "while True:\n",
    "    counter = len(glob.glob1(path,\"*.mp4\"))\n",
    "    if counter >= 5:\n",
    "        p.kill()\n",
    "        break\n",
    "subprocess.run('cd ' + '.\\/' + keyword + ' ; rm -rf *.jpg ; rm -rf *.txt ; rm -rf *.xz', shell=True)\n"
   ]
  },
  {
   "cell_type": "code",
   "execution_count": null,
   "id": "13282242",
   "metadata": {},
   "outputs": [],
   "source": []
  },
  {
   "cell_type": "code",
   "execution_count": null,
   "id": "0b25abf3",
   "metadata": {},
   "outputs": [],
   "source": []
  },
  {
   "cell_type": "code",
   "execution_count": null,
   "id": "ec6a45fb",
   "metadata": {},
   "outputs": [],
   "source": []
  },
  {
   "cell_type": "code",
   "execution_count": null,
   "id": "6ed787ec",
   "metadata": {},
   "outputs": [],
   "source": []
  },
  {
   "cell_type": "code",
   "execution_count": null,
   "id": "8f2faaa5",
   "metadata": {},
   "outputs": [],
   "source": []
  },
  {
   "cell_type": "code",
   "execution_count": null,
   "id": "3585a554",
   "metadata": {},
   "outputs": [],
   "source": []
  },
  {
   "cell_type": "code",
   "execution_count": null,
   "id": "2ba5dc5b",
   "metadata": {},
   "outputs": [],
   "source": []
  },
  {
   "cell_type": "code",
   "execution_count": null,
   "id": "dded3e6f",
   "metadata": {},
   "outputs": [],
   "source": []
  },
  {
   "cell_type": "code",
   "execution_count": null,
   "id": "967f574d",
   "metadata": {},
   "outputs": [],
   "source": []
  },
  {
   "cell_type": "code",
   "execution_count": null,
   "id": "031f20ac",
   "metadata": {},
   "outputs": [],
   "source": [
    "# subprocess.run('instaloader --login=ylin363 --post-filter=\"is_video\"  \"#car\"', shell=True)\n",
    "\n",
    "# for i in range(1):  \n",
    "#     subprocess.run('youtube-dl -f worstvideo[ext=mp4] '+ vidoes[i], shell=True)\n",
    "#     subprocess.run('scenedetect --input *.mp4 detect-content save-images', shell=True)\n",
    "#     subprocess.run('magick *.jpg images.gif', shell=True)\n",
    "#     subprocess.run('rm -rf *.jpg', shell=True)"
   ]
  },
  {
   "cell_type": "code",
   "execution_count": null,
   "id": "150ae70d",
   "metadata": {},
   "outputs": [],
   "source": [
    "# len(os.listdir('.'))\n",
    "# os.getcwd()"
   ]
  },
  {
   "cell_type": "code",
   "execution_count": null,
   "id": "43666aba",
   "metadata": {},
   "outputs": [],
   "source": []
  }
 ],
 "metadata": {
  "kernelspec": {
   "display_name": "Python 3 (ipykernel)",
   "language": "python",
   "name": "python3"
  },
  "language_info": {
   "codemirror_mode": {
    "name": "ipython",
    "version": 3
   },
   "file_extension": ".py",
   "mimetype": "text/x-python",
   "name": "python",
   "nbconvert_exporter": "python",
   "pygments_lexer": "ipython3",
   "version": "3.10.8"
  }
 },
 "nbformat": 4,
 "nbformat_minor": 5
}
