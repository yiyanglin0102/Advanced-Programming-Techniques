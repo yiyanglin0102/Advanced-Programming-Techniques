{
 "cells": [
  {
   "cell_type": "code",
   "execution_count": 1,
   "id": "8e37c313",
   "metadata": {},
   "outputs": [
    {
     "data": {
      "text/plain": [
       "CompletedProcess(args='rmdir airplane', returncode=0)"
      ]
     },
     "execution_count": 1,
     "metadata": {},
     "output_type": "execute_result"
    }
   ],
   "source": [
    "#!/usr/bin/env python\n",
    "# coding: utf-8\n",
    "\n",
    "import os, sys, re, subprocess, requests, numpy as np, glob\n",
    "from instaloader import Instaloader, Profile, instaloader\n",
    "from urllib.parse import urljoin\n",
    "from bs4 import BeautifulSoup\n",
    "\n",
    "inputString = 'airplane'\n",
    "keyword = '#' + inputString\n",
    "p = subprocess.Popen('instaloader --login=ylin363 --post-filter=\"is_video\" ' + '\\\"' + keyword + '\\\"', stdout=subprocess.PIPE, shell=True)\n",
    "\n",
    "path = os.getcwd() + \"/\" + keyword\n",
    "\n",
    "while True:\n",
    "    counter = len(glob.glob1(path,\"*.mp4\"))\n",
    "    if counter >= 10:\n",
    "        p.kill()\n",
    "        break\n",
    "\n",
    "subprocess.run('cd ' + '.\\/' + keyword + ' ; rm -rf *.jpg ; rm -rf *.txt ; rm -rf *.xz ; cd .. ; mv ' + '.\\/' + keyword + ' ' + inputString, shell=True)\n",
    "\n",
    "fileNameList = os.listdir('./' + inputString)\n",
    "\n",
    "\n",
    "for i, name in enumerate(fileNameList):\n",
    "    subprocess.run('mkdir ' + str(i), shell=True)\n",
    "    subprocess.run('mv ' + inputString +'\\/' + name + ' '+ str(i), shell=True)\n",
    "\n",
    "subprocess.run('rmdir ' + inputString, shell=True)\n"
   ]
  },
  {
   "cell_type": "code",
   "execution_count": 5,
   "id": "04c4dd0e",
   "metadata": {},
   "outputs": [],
   "source": [
    "\n",
    "for i in range(10):\n",
    "    subprocess.run('cd ' + str(i) + '; echo \"import subprocess\\nsubprocess.run(\\'scenedetect --input *.mp4 detect-content save-images; magick *.jpg images.gif; rm -rf *.jpg\\', shell=True)\" > ' + str(i) + '.py; '\n",
    "                , shell=True)\n"
   ]
  },
  {
   "cell_type": "code",
   "execution_count": 6,
   "id": "90d563df",
   "metadata": {},
   "outputs": [
    {
     "name": "stdout",
     "output_type": "stream",
     "text": [
      "[PySceneDetect] PySceneDetect v0.6.0.3\n",
      "[PySceneDetect] PySceneDetect v0.6.0.3\n",
      "[PySceneDetect] PySceneDetect v0.6.0.3\n",
      "[PySceneDetect] PySceneDetect v0.6.0.3\n",
      "[PySceneDetect] Image output format set: JPEG [Quality: 95]\n",
      "[PySceneDetect] Image output format set: JPEG [Quality: 95]\n",
      "[PySceneDetect] Detecting scenes...\n",
      "[PySceneDetect] Detecting scenes...\n",
      "[PySceneDetect] Downscale factor set to 2, effective resolution: 360 x 360\n",
      "[PySceneDetect] Downscale factor set to 2, effective resolution: 320 x 320\n",
      "[PySceneDetect] Image output format set: JPEG [Quality: 95]\n",
      "[PySceneDetect] PySceneDetect v0.6.0.3\n",
      "[PySceneDetect] PySceneDetect v0.6.0.3\n",
      "[PySceneDetect] Image output format set: JPEG [Quality: 95]\n",
      "[PySceneDetect] Detecting scenes...\n",
      "[PySceneDetect] Downscale factor set to 2, effective resolution: 320 x 320\n",
      "[PySceneDetect] Image output format set: JPEG [Quality: 95]\n",
      "[PySceneDetect] Detecting scenes...\n",
      "[PySceneDetect] Downscale factor set to 2, effective resolution: 360 x 360\n",
      "[PySceneDetect] PySceneDetect v0.6.0.3\n",
      "[PySceneDetect] Image output format set: JPEG [Quality: 95]\n",
      "[PySceneDetect] Detecting scenes...\n",
      "[PySceneDetect] Downscale factor set to 4, effective resolution: 270 x 270\n",
      "[PySceneDetect] PySceneDetect v0.6.0.3\n",
      "[PySceneDetect] Image output format set: JPEG [Quality: 95]\n",
      "[PySceneDetect] Detecting scenes...\n",
      "[PySceneDetect] Downscale factor set to 2, effective resolution: 360 x 450\n",
      "[PySceneDetect] PySceneDetect v0.6.0.3\n",
      "[PySceneDetect] PySceneDetect v0.6.0.3\n",
      "[PySceneDetect] Image output format set: JPEG [Quality: 95]\n",
      "[PySceneDetect] Detecting scenes...\n",
      "[PySceneDetect] Downscale factor set to 2, effective resolution: 360 x 640\n",
      "[PySceneDetect] Detecting scenes...\n",
      "[PySceneDetect] Image output format set: JPEG [Quality: 95]\n",
      "[PySceneDetect] Detecting scenes...\n",
      "[PySceneDetect] Downscale factor set to 2, effective resolution: 360 x 448\n"
     ]
    },
    {
     "name": "stderr",
     "output_type": "stream",
     "text": [
      "\r",
      "  0%|          | 0/360 [00:00<?, ?frames/s]\r",
      "  0%|          | 0/1166 [00:00<?, ?frames/s]\r",
      "  1%|          | 2/360 [00:00<00:19, 18.27frames/s]\r",
      "  0%|          | 0/150 [00:00<?, ?frames/s]\r",
      "  0%|          | 0/450 [00:00<?, ?frames/s]"
     ]
    },
    {
     "name": "stdout",
     "output_type": "stream",
     "text": [
      "[PySceneDetect] Image output format set: JPEG [Quality: 95]\n",
      "[PySceneDetect] Detecting scenes...\n",
      "[PySceneDetect] Downscale factor set to 4, effective resolution: 270 x 270\n"
     ]
    },
    {
     "name": "stderr",
     "output_type": "stream",
     "text": [
      "100%|██████████| 192/192 [00:05<00:00, 32.38frames/s]]\n",
      " 45%|████▌     | 136/300 [00:06<00:06, 25.92frames/s]]"
     ]
    },
    {
     "name": "stdout",
     "output_type": "stream",
     "text": [
      "[PySceneDetect] Processed 192 frames in 6.3 seconds (average 30.26 FPS).\n",
      "[PySceneDetect] Detected 1 scenes, average shot length 6.4 seconds.\n",
      "[PySceneDetect] Generating output images (3 per scene)...\n"
     ]
    },
    {
     "name": "stderr",
     "output_type": "stream",
     "text": [
      "100%|██████████| 3/3 [00:01<00:00,  2.17images/s]s/s]]\n",
      "100%|██████████| 150/150 [00:09<00:00, 16.33frames/s]]\n"
     ]
    },
    {
     "name": "stdout",
     "output_type": "stream",
     "text": [
      "[PySceneDetect] Processed 150 frames in 9.4 seconds (average 15.94 FPS).\n",
      "[PySceneDetect] Detected 1 scenes, average shot length 5.0 seconds.\n",
      "[PySceneDetect] Generating output images (3 per scene)...\n"
     ]
    },
    {
     "name": "stderr",
     "output_type": "stream",
     "text": [
      "100%|██████████| 3/3 [00:01<00:00,  1.82images/s]es/s]\n",
      "100%|██████████| 439/439 [00:13<00:00, 32.55frames/s]]\n",
      " 99%|█████████▊| 296/300 [00:13<00:00, 20.62frames/s]]"
     ]
    },
    {
     "name": "stdout",
     "output_type": "stream",
     "text": [
      "[PySceneDetect] Processed 439 frames in 13.9 seconds (average 31.51 FPS).\n",
      "[PySceneDetect] Detected 10 scenes, average shot length 1.5 seconds.\n",
      "[PySceneDetect] Comma-separated timecode list:\n",
      "  00:00:00.633,00:00:01.767,00:00:02.933,00:00:04.100,00:00:05.300,00:00:06.467,00:00:07.600,00:00:10.000,00:00:14.600\n",
      "[PySceneDetect] Generating output images (3 per scene)...\n"
     ]
    },
    {
     "name": "stderr",
     "output_type": "stream",
     "text": [
      "100%|██████████| 300/300 [00:14<00:00, 21.21frames/s]]\n",
      " 11%|█         | 149/1350 [00:14<01:51, 10.81frames/s]"
     ]
    },
    {
     "name": "stdout",
     "output_type": "stream",
     "text": [
      "[PySceneDetect] Processed 300 frames in 14.5 seconds (average 20.71 FPS).\n",
      "[PySceneDetect] Detected 1 scenes, average shot length 10.0 seconds.\n",
      "[PySceneDetect] Generating output images (3 per scene)...\n"
     ]
    },
    {
     "name": "stderr",
     "output_type": "stream",
     "text": [
      "100%|██████████| 3/3 [00:01<00:00,  1.94images/s]es/s]\n",
      "100%|██████████| 450/450 [00:16<00:00, 28.05frames/s]\n",
      " 13%|█▎        | 171/1350 [00:15<01:28, 13.37frames/s]"
     ]
    },
    {
     "name": "stdout",
     "output_type": "stream",
     "text": [
      "[PySceneDetect] Processed 450 frames in 16.3 seconds (average 27.54 FPS).\n",
      "[PySceneDetect] Detected 1 scenes, average shot length 15.0 seconds.\n",
      "[PySceneDetect] Generating output images (3 per scene)...\n"
     ]
    },
    {
     "name": "stderr",
     "output_type": "stream",
     "text": [
      "100%|██████████| 360/360 [00:16<00:00, 21.22frames/s]]\n",
      "  0%|          | 0/3 [00:00<?, ?images/s]4.47frames/s]"
     ]
    },
    {
     "name": "stdout",
     "output_type": "stream",
     "text": [
      "[PySceneDetect] Processed 360 frames in 17.2 seconds (average 20.98 FPS).\n",
      "[PySceneDetect] Detected 1 scenes, average shot length 12.0 seconds.\n",
      "[PySceneDetect] Generating output images (3 per scene)...\n"
     ]
    },
    {
     "name": "stderr",
     "output_type": "stream",
     "text": [
      "100%|██████████| 655/655 [00:17<00:00, 38.44frames/s]]\n",
      " 43%|████▎     | 506/1166 [00:17<00:21, 31.35frames/s]"
     ]
    },
    {
     "name": "stdout",
     "output_type": "stream",
     "text": [
      "[PySceneDetect] Processed 655 frames in 17.6 seconds (average 37.14 FPS).\n",
      "[PySceneDetect] Detected 2 scenes, average shot length 10.9 seconds.\n",
      "[PySceneDetect] Comma-separated timecode list:\n",
      "  00:00:17.400\n",
      "[PySceneDetect] Generating output images (3 per scene)...\n"
     ]
    },
    {
     "name": "stderr",
     "output_type": "stream",
     "text": [
      "100%|██████████| 3/3 [00:00<00:00,  5.04images/s]\n",
      "100%|██████████| 6/6 [00:00<00:00,  8.30images/s]es/s]\n",
      "100%|██████████| 3/3 [00:02<00:00,  1.49images/s]\n",
      " 65%|██████▌   | 759/1166 [00:22<00:05, 75.86frames/s]"
     ]
    },
    {
     "data": {
      "text/plain": [
       "CompletedProcess(args='cd 0; python3 0.py & cd .. ; cd 1; python3 1.py & cd .. ; cd 2; python3 2.py & cd .. ; cd 3; python3 3.py & cd .. ; cd 4; python3 4.py & cd .. ; cd 5; python3 5.py & cd .. ; cd 6; python3 6.py & cd .. ; cd 7; python3 7.py & cd .. ; cd 8; python3 8.py & cd .. ; cd 9; python3 9.py', returncode=0)"
      ]
     },
     "execution_count": 6,
     "metadata": {},
     "output_type": "execute_result"
    },
    {
     "name": "stderr",
     "output_type": "stream",
     "text": [
      "100%|██████████| 600/600 [00:25<00:00, 23.54frames/s]]\n",
      " 27%|██▋       | 361/1350 [00:25<00:38, 25.62frames/s]"
     ]
    },
    {
     "name": "stdout",
     "output_type": "stream",
     "text": [
      "[PySceneDetect] Processed 600 frames in 25.9 seconds (average 23.14 FPS).\n",
      "[PySceneDetect] Detected 1 scenes, average shot length 20.0 seconds.\n",
      "[PySceneDetect] Generating output images (3 per scene)...\n"
     ]
    },
    {
     "name": "stderr",
     "output_type": "stream",
     "text": [
      "100%|██████████| 3/3 [00:00<00:00,  3.22images/s]es/s]\n",
      "100%|██████████| 1166/1166 [00:29<00:00, 39.87frames/s]\n",
      " 33%|███▎      | 442/1350 [00:28<00:32, 28.27frames/s]"
     ]
    },
    {
     "name": "stdout",
     "output_type": "stream",
     "text": [
      "[PySceneDetect] Processed 1166 frames in 29.5 seconds (average 39.58 FPS).\n",
      "[PySceneDetect] Detected 2 scenes, average shot length 19.4 seconds.\n",
      "[PySceneDetect] Comma-separated timecode list:\n",
      "  00:00:27.667\n",
      "[PySceneDetect] Generating output images (3 per scene)...\n"
     ]
    },
    {
     "name": "stderr",
     "output_type": "stream",
     "text": [
      "100%|██████████| 6/6 [00:01<00:00,  5.39images/s]es/s]\n",
      "100%|██████████| 30/30 [00:19<00:00,  1.51images/s]/s]\n",
      "100%|██████████| 1350/1350 [00:42<00:00, 31.43frames/s]\n",
      "  0%|          | 0/3 [00:00<?, ?images/s]"
     ]
    },
    {
     "name": "stdout",
     "output_type": "stream",
     "text": [
      "[PySceneDetect] Processed 1350 frames in 43.5 seconds (average 31.05 FPS).\n",
      "[PySceneDetect] Detected 1 scenes, average shot length 45.0 seconds.\n",
      "[PySceneDetect] Generating output images (3 per scene)...\n"
     ]
    },
    {
     "name": "stderr",
     "output_type": "stream",
     "text": [
      "100%|██████████| 3/3 [00:00<00:00,  4.90images/s]\n"
     ]
    }
   ],
   "source": [
    "subprocess.run('cd 0; python3 0.py & cd .. ; cd 1; python3 1.py & cd .. ; cd 2; python3 2.py & cd .. ; cd 3; python3 3.py & cd .. ; cd 4; python3 4.py & cd .. ; cd 5; python3 5.py & cd .. ; cd 6; python3 6.py & cd .. ; cd 7; python3 7.py & cd .. ; cd 8; python3 8.py & cd .. ; cd 9; python3 9.py', shell=True)\n"
   ]
  },
  {
   "cell_type": "code",
   "execution_count": null,
   "id": "43666aba",
   "metadata": {},
   "outputs": [],
   "source": []
  }
 ],
 "metadata": {
  "kernelspec": {
   "display_name": "Python 3 (ipykernel)",
   "language": "python",
   "name": "python3"
  },
  "language_info": {
   "codemirror_mode": {
    "name": "ipython",
    "version": 3
   },
   "file_extension": ".py",
   "mimetype": "text/x-python",
   "name": "python",
   "nbconvert_exporter": "python",
   "pygments_lexer": "ipython3",
   "version": "3.10.8"
  }
 },
 "nbformat": 4,
 "nbformat_minor": 5
}
