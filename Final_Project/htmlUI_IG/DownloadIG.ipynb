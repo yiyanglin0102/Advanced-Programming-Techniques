{
 "cells": [
  {
   "cell_type": "code",
   "execution_count": 3,
   "id": "8e37c313",
   "metadata": {},
   "outputs": [
    {
     "data": {
      "text/plain": [
       "CompletedProcess(args='rmdir airplane', returncode=0)"
      ]
     },
     "execution_count": 3,
     "metadata": {},
     "output_type": "execute_result"
    }
   ],
   "source": [
    "#!/usr/bin/env python\n",
    "# coding: utf-8\n",
    "\n",
    "import os, sys, re, subprocess, requests, numpy as np, glob\n",
    "from instaloader import Instaloader, Profile, instaloader\n",
    "from urllib.parse import urljoin\n",
    "from bs4 import BeautifulSoup\n",
    "\n",
    "inputString = 'airplane'\n",
    "keyword = '#' + inputString\n",
    "p = subprocess.Popen('instaloader --login=ylin363 --post-filter=\"is_video\" ' + '\\\"' + keyword + '\\\"', stdout=subprocess.PIPE, shell=True)\n",
    "\n",
    "path = os.getcwd() + \"/\" + keyword\n",
    "\n",
    "while True:\n",
    "    counter = len(glob.glob1(path,\"*.mp4\"))\n",
    "    if counter >= 2:\n",
    "        p.kill()\n",
    "        break\n",
    "\n",
    "subprocess.run('cd ' + '.\\/' + keyword + ' ; rm -rf *.jpg ; rm -rf *.txt ; rm -rf *.xz ; cd .. ; mv ' + '.\\/' + keyword + ' ' + inputString, shell=True)\n",
    "\n",
    "fileNameList = os.listdir('./' + inputString)\n",
    "\n",
    "\n",
    "for i, name in enumerate(fileNameList):\n",
    "    subprocess.run('mkdir ' + str(i), shell=True)\n",
    "    subprocess.run('mv ' + inputString +'\\/' + name + ' '+ str(i), shell=True)\n",
    "\n",
    "subprocess.run('rmdir ' + inputString, shell=True)\n"
   ]
  },
  {
   "cell_type": "code",
   "execution_count": null,
   "id": "0529e72e",
   "metadata": {},
   "outputs": [],
   "source": []
  },
  {
   "cell_type": "code",
   "execution_count": null,
   "id": "04c4dd0e",
   "metadata": {},
   "outputs": [],
   "source": []
  },
  {
   "cell_type": "code",
   "execution_count": null,
   "id": "90d563df",
   "metadata": {},
   "outputs": [],
   "source": []
  },
  {
   "cell_type": "code",
   "execution_count": null,
   "id": "a8a601a5",
   "metadata": {},
   "outputs": [],
   "source": []
  },
  {
   "cell_type": "code",
   "execution_count": null,
   "id": "1e4acda8",
   "metadata": {},
   "outputs": [],
   "source": []
  },
  {
   "cell_type": "code",
   "execution_count": null,
   "id": "05ebcc5e",
   "metadata": {},
   "outputs": [],
   "source": []
  },
  {
   "cell_type": "code",
   "execution_count": null,
   "id": "c3402c4d",
   "metadata": {},
   "outputs": [],
   "source": []
  },
  {
   "cell_type": "code",
   "execution_count": null,
   "id": "7f52c0ed",
   "metadata": {},
   "outputs": [],
   "source": []
  },
  {
   "cell_type": "code",
   "execution_count": null,
   "id": "7311acba",
   "metadata": {},
   "outputs": [],
   "source": []
  },
  {
   "cell_type": "code",
   "execution_count": null,
   "id": "0f4de606",
   "metadata": {},
   "outputs": [],
   "source": []
  },
  {
   "cell_type": "code",
   "execution_count": null,
   "id": "7815f976",
   "metadata": {},
   "outputs": [],
   "source": []
  },
  {
   "cell_type": "code",
   "execution_count": null,
   "id": "3c2e1cf1",
   "metadata": {},
   "outputs": [],
   "source": []
  },
  {
   "cell_type": "code",
   "execution_count": null,
   "id": "4613652f",
   "metadata": {},
   "outputs": [],
   "source": []
  },
  {
   "cell_type": "code",
   "execution_count": null,
   "id": "30af7d32",
   "metadata": {},
   "outputs": [],
   "source": []
  },
  {
   "cell_type": "code",
   "execution_count": 2,
   "id": "0cb4e926",
   "metadata": {},
   "outputs": [
    {
     "data": {
      "text/plain": [
       "'/Users/yiyanglin/Desktop/Final_Project/htmlUI_IG'"
      ]
     },
     "execution_count": 2,
     "metadata": {},
     "output_type": "execute_result"
    }
   ],
   "source": [
    "os.getcwd()"
   ]
  },
  {
   "cell_type": "code",
   "execution_count": null,
   "id": "6c7c5412",
   "metadata": {},
   "outputs": [],
   "source": [
    "os.chdir(\"..\")"
   ]
  },
  {
   "cell_type": "code",
   "execution_count": null,
   "id": "c1ebff43",
   "metadata": {},
   "outputs": [],
   "source": [
    "for i in range(2):\n",
    "    subprocess.run('mkdir ' + str(i), shell=True)\n",
    "    \n",
    "#     subprocess.run('scenedetect --input *.mp4 detect-content save-images', shell=True)\n",
    "#     subprocess.run('magick *.jpg images.gif', shell=True)\n",
    "#     subprocess.run('rm -rf *.jpg', shell=True)"
   ]
  },
  {
   "cell_type": "code",
   "execution_count": null,
   "id": "42f4fc97",
   "metadata": {},
   "outputs": [],
   "source": [
    "print('Get current working directory : ', os.getcwd())\n"
   ]
  },
  {
   "cell_type": "code",
   "execution_count": null,
   "id": "150ae70d",
   "metadata": {},
   "outputs": [],
   "source": [
    "# len(os.listdir('.'))\n",
    "# os.getcwd()"
   ]
  },
  {
   "cell_type": "code",
   "execution_count": null,
   "id": "43666aba",
   "metadata": {},
   "outputs": [],
   "source": []
  }
 ],
 "metadata": {
  "kernelspec": {
   "display_name": "Python 3 (ipykernel)",
   "language": "python",
   "name": "python3"
  },
  "language_info": {
   "codemirror_mode": {
    "name": "ipython",
    "version": 3
   },
   "file_extension": ".py",
   "mimetype": "text/x-python",
   "name": "python",
   "nbconvert_exporter": "python",
   "pygments_lexer": "ipython3",
   "version": "3.10.8"
  }
 },
 "nbformat": 4,
 "nbformat_minor": 5
}
